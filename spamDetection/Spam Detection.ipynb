{
 "cells": [
  {
   "cell_type": "code",
   "execution_count": 1,
   "metadata": {},
   "outputs": [],
   "source": [
    "import numpy as np\n",
    "import pandas as pd\n",
    "import matplotlib.pyplot as plt"
   ]
  },
  {
   "cell_type": "code",
   "execution_count": 2,
   "metadata": {},
   "outputs": [],
   "source": [
    "df = pd.read_csv('spam.tsv', sep='\\t')"
   ]
  },
  {
   "cell_type": "code",
   "execution_count": 3,
   "metadata": {},
   "outputs": [
    {
     "output_type": "execute_result",
     "data": {
      "text/plain": [
       "  label                                            message  length  punct\n",
       "0   ham  Go until jurong point, crazy.. Available only ...     111      9\n",
       "1   ham                      Ok lar... Joking wif u oni...      29      6\n",
       "2  spam  Free entry in 2 a wkly comp to win FA Cup fina...     155      6\n",
       "3   ham  U dun say so early hor... U c already then say...      49      6\n",
       "4   ham  Nah I don't think he goes to usf, he lives aro...      61      2"
      ],
      "text/html": "<div>\n<style scoped>\n    .dataframe tbody tr th:only-of-type {\n        vertical-align: middle;\n    }\n\n    .dataframe tbody tr th {\n        vertical-align: top;\n    }\n\n    .dataframe thead th {\n        text-align: right;\n    }\n</style>\n<table border=\"1\" class=\"dataframe\">\n  <thead>\n    <tr style=\"text-align: right;\">\n      <th></th>\n      <th>label</th>\n      <th>message</th>\n      <th>length</th>\n      <th>punct</th>\n    </tr>\n  </thead>\n  <tbody>\n    <tr>\n      <th>0</th>\n      <td>ham</td>\n      <td>Go until jurong point, crazy.. Available only ...</td>\n      <td>111</td>\n      <td>9</td>\n    </tr>\n    <tr>\n      <th>1</th>\n      <td>ham</td>\n      <td>Ok lar... Joking wif u oni...</td>\n      <td>29</td>\n      <td>6</td>\n    </tr>\n    <tr>\n      <th>2</th>\n      <td>spam</td>\n      <td>Free entry in 2 a wkly comp to win FA Cup fina...</td>\n      <td>155</td>\n      <td>6</td>\n    </tr>\n    <tr>\n      <th>3</th>\n      <td>ham</td>\n      <td>U dun say so early hor... U c already then say...</td>\n      <td>49</td>\n      <td>6</td>\n    </tr>\n    <tr>\n      <th>4</th>\n      <td>ham</td>\n      <td>Nah I don't think he goes to usf, he lives aro...</td>\n      <td>61</td>\n      <td>2</td>\n    </tr>\n  </tbody>\n</table>\n</div>"
     },
     "metadata": {},
     "execution_count": 3
    }
   ],
   "source": [
    "df.head()"
   ]
  },
  {
   "cell_type": "code",
   "execution_count": 4,
   "metadata": {},
   "outputs": [
    {
     "output_type": "execute_result",
     "data": {
      "text/plain": [
       "label      0\n",
       "message    0\n",
       "length     0\n",
       "punct      0\n",
       "dtype: int64"
      ]
     },
     "metadata": {},
     "execution_count": 4
    }
   ],
   "source": [
    "df.isnull().sum()"
   ]
  },
  {
   "cell_type": "code",
   "execution_count": 5,
   "metadata": {},
   "outputs": [
    {
     "output_type": "execute_result",
     "data": {
      "text/plain": [
       "5572"
      ]
     },
     "metadata": {},
     "execution_count": 5
    }
   ],
   "source": [
    "len(df)"
   ]
  },
  {
   "cell_type": "code",
   "execution_count": 6,
   "metadata": {},
   "outputs": [
    {
     "output_type": "execute_result",
     "data": {
      "text/plain": [
       "ham     4825\n",
       "spam     747\n",
       "Name: label, dtype: int64"
      ]
     },
     "metadata": {},
     "execution_count": 6
    }
   ],
   "source": [
    "df['label'].value_counts()"
   ]
  },
  {
   "cell_type": "markdown",
   "metadata": {},
   "source": [
    "### Balance this data"
   ]
  },
  {
   "cell_type": "code",
   "execution_count": 7,
   "metadata": {},
   "outputs": [
    {
     "output_type": "execute_result",
     "data": {
      "text/plain": [
       "  label                                            message  length  punct\n",
       "0   ham  Go until jurong point, crazy.. Available only ...     111      9\n",
       "1   ham                      Ok lar... Joking wif u oni...      29      6\n",
       "3   ham  U dun say so early hor... U c already then say...      49      6\n",
       "4   ham  Nah I don't think he goes to usf, he lives aro...      61      2\n",
       "6   ham  Even my brother is not like to speak with me. ...      77      2"
      ],
      "text/html": "<div>\n<style scoped>\n    .dataframe tbody tr th:only-of-type {\n        vertical-align: middle;\n    }\n\n    .dataframe tbody tr th {\n        vertical-align: top;\n    }\n\n    .dataframe thead th {\n        text-align: right;\n    }\n</style>\n<table border=\"1\" class=\"dataframe\">\n  <thead>\n    <tr style=\"text-align: right;\">\n      <th></th>\n      <th>label</th>\n      <th>message</th>\n      <th>length</th>\n      <th>punct</th>\n    </tr>\n  </thead>\n  <tbody>\n    <tr>\n      <th>0</th>\n      <td>ham</td>\n      <td>Go until jurong point, crazy.. Available only ...</td>\n      <td>111</td>\n      <td>9</td>\n    </tr>\n    <tr>\n      <th>1</th>\n      <td>ham</td>\n      <td>Ok lar... Joking wif u oni...</td>\n      <td>29</td>\n      <td>6</td>\n    </tr>\n    <tr>\n      <th>3</th>\n      <td>ham</td>\n      <td>U dun say so early hor... U c already then say...</td>\n      <td>49</td>\n      <td>6</td>\n    </tr>\n    <tr>\n      <th>4</th>\n      <td>ham</td>\n      <td>Nah I don't think he goes to usf, he lives aro...</td>\n      <td>61</td>\n      <td>2</td>\n    </tr>\n    <tr>\n      <th>6</th>\n      <td>ham</td>\n      <td>Even my brother is not like to speak with me. ...</td>\n      <td>77</td>\n      <td>2</td>\n    </tr>\n  </tbody>\n</table>\n</div>"
     },
     "metadata": {},
     "execution_count": 7
    }
   ],
   "source": [
    "ham = df[df['label'] == 'ham']\n",
    "ham.head()"
   ]
  },
  {
   "cell_type": "code",
   "execution_count": 8,
   "metadata": {},
   "outputs": [
    {
     "output_type": "execute_result",
     "data": {
      "text/plain": [
       "   label                                            message  length  punct\n",
       "2   spam  Free entry in 2 a wkly comp to win FA Cup fina...     155      6\n",
       "5   spam  FreeMsg Hey there darling it's been 3 week's n...     147      8\n",
       "8   spam  WINNER!! As a valued network customer you have...     157      6\n",
       "9   spam  Had your mobile 11 months or more? U R entitle...     154      2\n",
       "11  spam  SIX chances to win CASH! From 100 to 20,000 po...     136      8"
      ],
      "text/html": "<div>\n<style scoped>\n    .dataframe tbody tr th:only-of-type {\n        vertical-align: middle;\n    }\n\n    .dataframe tbody tr th {\n        vertical-align: top;\n    }\n\n    .dataframe thead th {\n        text-align: right;\n    }\n</style>\n<table border=\"1\" class=\"dataframe\">\n  <thead>\n    <tr style=\"text-align: right;\">\n      <th></th>\n      <th>label</th>\n      <th>message</th>\n      <th>length</th>\n      <th>punct</th>\n    </tr>\n  </thead>\n  <tbody>\n    <tr>\n      <th>2</th>\n      <td>spam</td>\n      <td>Free entry in 2 a wkly comp to win FA Cup fina...</td>\n      <td>155</td>\n      <td>6</td>\n    </tr>\n    <tr>\n      <th>5</th>\n      <td>spam</td>\n      <td>FreeMsg Hey there darling it's been 3 week's n...</td>\n      <td>147</td>\n      <td>8</td>\n    </tr>\n    <tr>\n      <th>8</th>\n      <td>spam</td>\n      <td>WINNER!! As a valued network customer you have...</td>\n      <td>157</td>\n      <td>6</td>\n    </tr>\n    <tr>\n      <th>9</th>\n      <td>spam</td>\n      <td>Had your mobile 11 months or more? U R entitle...</td>\n      <td>154</td>\n      <td>2</td>\n    </tr>\n    <tr>\n      <th>11</th>\n      <td>spam</td>\n      <td>SIX chances to win CASH! From 100 to 20,000 po...</td>\n      <td>136</td>\n      <td>8</td>\n    </tr>\n  </tbody>\n</table>\n</div>"
     },
     "metadata": {},
     "execution_count": 8
    }
   ],
   "source": [
    "spam = df[df['label'] == 'spam']\n",
    "spam.head()"
   ]
  },
  {
   "cell_type": "code",
   "execution_count": 9,
   "metadata": {},
   "outputs": [
    {
     "output_type": "execute_result",
     "data": {
      "text/plain": [
       "((4825, 4), (747, 4))"
      ]
     },
     "metadata": {},
     "execution_count": 9
    }
   ],
   "source": [
    "ham.shape, spam.shape"
   ]
  },
  {
   "cell_type": "code",
   "execution_count": 10,
   "metadata": {},
   "outputs": [
    {
     "output_type": "execute_result",
     "data": {
      "text/plain": [
       "(747, 4)"
      ]
     },
     "metadata": {},
     "execution_count": 10
    }
   ],
   "source": [
    "ham = ham.sample(spam.shape[0])\n",
    "ham.shape"
   ]
  },
  {
   "cell_type": "code",
   "execution_count": 11,
   "metadata": {},
   "outputs": [
    {
     "output_type": "execute_result",
     "data": {
      "text/plain": [
       "((747, 4), (747, 4))"
      ]
     },
     "metadata": {},
     "execution_count": 11
    }
   ],
   "source": [
    "ham.shape, spam.shape"
   ]
  },
  {
   "cell_type": "code",
   "execution_count": 12,
   "metadata": {},
   "outputs": [
    {
     "output_type": "execute_result",
     "data": {
      "text/plain": [
       "     label                                            message  length  punct\n",
       "1489  spam  Want explicit SEX in 30 secs? Ring 02073162414...      90      3\n",
       "1490  spam  ASKED 3MOBILE IF 0870 CHATLINES INCLU IN FREE ...     158      5\n",
       "1491  spam  Had your contract mobile 11 Mnths? Latest Moto...     160      8\n",
       "1492  spam  REMINDER FROM O2: To get 2.50 pounds free call...     147      3\n",
       "1493  spam  This is the 2nd time we have tried 2 contact u...     160      8"
      ],
      "text/html": "<div>\n<style scoped>\n    .dataframe tbody tr th:only-of-type {\n        vertical-align: middle;\n    }\n\n    .dataframe tbody tr th {\n        vertical-align: top;\n    }\n\n    .dataframe thead th {\n        text-align: right;\n    }\n</style>\n<table border=\"1\" class=\"dataframe\">\n  <thead>\n    <tr style=\"text-align: right;\">\n      <th></th>\n      <th>label</th>\n      <th>message</th>\n      <th>length</th>\n      <th>punct</th>\n    </tr>\n  </thead>\n  <tbody>\n    <tr>\n      <th>1489</th>\n      <td>spam</td>\n      <td>Want explicit SEX in 30 secs? Ring 02073162414...</td>\n      <td>90</td>\n      <td>3</td>\n    </tr>\n    <tr>\n      <th>1490</th>\n      <td>spam</td>\n      <td>ASKED 3MOBILE IF 0870 CHATLINES INCLU IN FREE ...</td>\n      <td>158</td>\n      <td>5</td>\n    </tr>\n    <tr>\n      <th>1491</th>\n      <td>spam</td>\n      <td>Had your contract mobile 11 Mnths? Latest Moto...</td>\n      <td>160</td>\n      <td>8</td>\n    </tr>\n    <tr>\n      <th>1492</th>\n      <td>spam</td>\n      <td>REMINDER FROM O2: To get 2.50 pounds free call...</td>\n      <td>147</td>\n      <td>3</td>\n    </tr>\n    <tr>\n      <th>1493</th>\n      <td>spam</td>\n      <td>This is the 2nd time we have tried 2 contact u...</td>\n      <td>160</td>\n      <td>8</td>\n    </tr>\n  </tbody>\n</table>\n</div>"
     },
     "metadata": {},
     "execution_count": 12
    }
   ],
   "source": [
    "data = ham.append(spam, ignore_index=True)\n",
    "data.tail()"
   ]
  },
  {
   "cell_type": "markdown",
   "metadata": {},
   "source": [
    "### Exploratory Data Analysis"
   ]
  },
  {
   "cell_type": "code",
   "execution_count": 13,
   "metadata": {},
   "outputs": [
    {
     "output_type": "display_data",
     "data": {
      "text/plain": "<Figure size 432x288 with 1 Axes>",
      "image/svg+xml": "<?xml version=\"1.0\" encoding=\"utf-8\" standalone=\"no\"?>\r\n<!DOCTYPE svg PUBLIC \"-//W3C//DTD SVG 1.1//EN\"\r\n  \"http://www.w3.org/Graphics/SVG/1.1/DTD/svg11.dtd\">\r\n<!-- Created with matplotlib (https://matplotlib.org/) -->\r\n<svg height=\"248.518125pt\" version=\"1.1\" viewBox=\"0 0 368.925 248.518125\" width=\"368.925pt\" xmlns=\"http://www.w3.org/2000/svg\" xmlns:xlink=\"http://www.w3.org/1999/xlink\">\r\n <metadata>\r\n  <rdf:RDF xmlns:cc=\"http://creativecommons.org/ns#\" xmlns:dc=\"http://purl.org/dc/elements/1.1/\" xmlns:rdf=\"http://www.w3.org/1999/02/22-rdf-syntax-ns#\">\r\n   <cc:Work>\r\n    <dc:type rdf:resource=\"http://purl.org/dc/dcmitype/StillImage\"/>\r\n    <dc:date>2021-03-31T12:23:26.520362</dc:date>\r\n    <dc:format>image/svg+xml</dc:format>\r\n    <dc:creator>\r\n     <cc:Agent>\r\n      <dc:title>Matplotlib v3.3.2, https://matplotlib.org/</dc:title>\r\n     </cc:Agent>\r\n    </dc:creator>\r\n   </cc:Work>\r\n  </rdf:RDF>\r\n </metadata>\r\n <defs>\r\n  <style type=\"text/css\">*{stroke-linecap:butt;stroke-linejoin:round;}</style>\r\n </defs>\r\n <g id=\"figure_1\">\r\n  <g id=\"patch_1\">\r\n   <path d=\"M -0 248.518125 \r\nL 368.925 248.518125 \r\nL 368.925 0 \r\nL -0 0 \r\nz\r\n\" style=\"fill:none;\"/>\r\n  </g>\r\n  <g id=\"axes_1\">\r\n   <g id=\"patch_2\">\r\n    <path d=\"M 26.925 224.64 \r\nL 361.725 224.64 \r\nL 361.725 7.2 \r\nL 26.925 7.2 \r\nz\r\n\" style=\"fill:#ffffff;\"/>\r\n   </g>\r\n   <g id=\"patch_3\">\r\n    <path clip-path=\"url(#pd3b01788d1)\" d=\"M 42.143182 224.64 \r\nL 45.186818 224.64 \r\nL 45.186818 216.465564 \r\nL 42.143182 216.465564 \r\nz\r\n\" style=\"fill:#1f77b4;opacity:0.7;\"/>\r\n   </g>\r\n   <g id=\"patch_4\">\r\n    <path clip-path=\"url(#pd3b01788d1)\" d=\"M 45.186818 224.64 \r\nL 48.230455 224.64 \r\nL 48.230455 205.566316 \r\nL 45.186818 205.566316 \r\nz\r\n\" style=\"fill:#1f77b4;opacity:0.7;\"/>\r\n   </g>\r\n   <g id=\"patch_5\">\r\n    <path clip-path=\"url(#pd3b01788d1)\" d=\"M 48.230455 224.64 \r\nL 51.274091 224.64 \r\nL 51.274091 202.841504 \r\nL 48.230455 202.841504 \r\nz\r\n\" style=\"fill:#1f77b4;opacity:0.7;\"/>\r\n   </g>\r\n   <g id=\"patch_6\">\r\n    <path clip-path=\"url(#pd3b01788d1)\" d=\"M 51.274091 224.64 \r\nL 54.317727 224.64 \r\nL 54.317727 202.841504 \r\nL 51.274091 202.841504 \r\nz\r\n\" style=\"fill:#1f77b4;opacity:0.7;\"/>\r\n   </g>\r\n   <g id=\"patch_7\">\r\n    <path clip-path=\"url(#pd3b01788d1)\" d=\"M 54.317727 224.64 \r\nL 57.361364 224.64 \r\nL 57.361364 88.399398 \r\nL 54.317727 88.399398 \r\nz\r\n\" style=\"fill:#1f77b4;opacity:0.7;\"/>\r\n   </g>\r\n   <g id=\"patch_8\">\r\n    <path clip-path=\"url(#pd3b01788d1)\" d=\"M 57.361364 224.64 \r\nL 60.405 224.64 \r\nL 60.405 63.87609 \r\nL 57.361364 63.87609 \r\nz\r\n\" style=\"fill:#1f77b4;opacity:0.7;\"/>\r\n   </g>\r\n   <g id=\"patch_9\">\r\n    <path clip-path=\"url(#pd3b01788d1)\" d=\"M 60.405 224.64 \r\nL 63.448636 224.64 \r\nL 63.448636 69.325714 \r\nL 60.405 69.325714 \r\nz\r\n\" style=\"fill:#1f77b4;opacity:0.7;\"/>\r\n   </g>\r\n   <g id=\"patch_10\">\r\n    <path clip-path=\"url(#pd3b01788d1)\" d=\"M 63.448636 224.64 \r\nL 66.492273 224.64 \r\nL 66.492273 91.124211 \r\nL 63.448636 91.124211 \r\nz\r\n\" style=\"fill:#1f77b4;opacity:0.7;\"/>\r\n   </g>\r\n   <g id=\"patch_11\">\r\n    <path clip-path=\"url(#pd3b01788d1)\" d=\"M 66.492273 224.64 \r\nL 69.535909 224.64 \r\nL 69.535909 74.775338 \r\nL 66.492273 74.775338 \r\nz\r\n\" style=\"fill:#1f77b4;opacity:0.7;\"/>\r\n   </g>\r\n   <g id=\"patch_12\">\r\n    <path clip-path=\"url(#pd3b01788d1)\" d=\"M 69.535909 224.64 \r\nL 72.579545 224.64 \r\nL 72.579545 107.473083 \r\nL 69.535909 107.473083 \r\nz\r\n\" style=\"fill:#1f77b4;opacity:0.7;\"/>\r\n   </g>\r\n   <g id=\"patch_13\">\r\n    <path clip-path=\"url(#pd3b01788d1)\" d=\"M 72.579545 224.64 \r\nL 75.623182 224.64 \r\nL 75.623182 123.821955 \r\nL 72.579545 123.821955 \r\nz\r\n\" style=\"fill:#1f77b4;opacity:0.7;\"/>\r\n   </g>\r\n   <g id=\"patch_14\">\r\n    <path clip-path=\"url(#pd3b01788d1)\" d=\"M 75.623182 224.64 \r\nL 78.666818 224.64 \r\nL 78.666818 118.372331 \r\nL 75.623182 118.372331 \r\nz\r\n\" style=\"fill:#1f77b4;opacity:0.7;\"/>\r\n   </g>\r\n   <g id=\"patch_15\">\r\n    <path clip-path=\"url(#pd3b01788d1)\" d=\"M 78.666818 224.64 \r\nL 81.710455 224.64 \r\nL 81.710455 181.043008 \r\nL 78.666818 181.043008 \r\nz\r\n\" style=\"fill:#1f77b4;opacity:0.7;\"/>\r\n   </g>\r\n   <g id=\"patch_16\">\r\n    <path clip-path=\"url(#pd3b01788d1)\" d=\"M 81.710455 224.64 \r\nL 84.754091 224.64 \r\nL 84.754091 153.794887 \r\nL 81.710455 153.794887 \r\nz\r\n\" style=\"fill:#1f77b4;opacity:0.7;\"/>\r\n   </g>\r\n   <g id=\"patch_17\">\r\n    <path clip-path=\"url(#pd3b01788d1)\" d=\"M 84.754091 224.64 \r\nL 87.797727 224.64 \r\nL 87.797727 189.217444 \r\nL 84.754091 189.217444 \r\nz\r\n\" style=\"fill:#1f77b4;opacity:0.7;\"/>\r\n   </g>\r\n   <g id=\"patch_18\">\r\n    <path clip-path=\"url(#pd3b01788d1)\" d=\"M 87.797727 224.64 \r\nL 90.841364 224.64 \r\nL 90.841364 137.446015 \r\nL 87.797727 137.446015 \r\nz\r\n\" style=\"fill:#1f77b4;opacity:0.7;\"/>\r\n   </g>\r\n   <g id=\"patch_19\">\r\n    <path clip-path=\"url(#pd3b01788d1)\" d=\"M 90.841364 224.64 \r\nL 93.885 224.64 \r\nL 93.885 178.318195 \r\nL 90.841364 178.318195 \r\nz\r\n\" style=\"fill:#1f77b4;opacity:0.7;\"/>\r\n   </g>\r\n   <g id=\"patch_20\">\r\n    <path clip-path=\"url(#pd3b01788d1)\" d=\"M 93.885 224.64 \r\nL 96.928636 224.64 \r\nL 96.928636 183.76782 \r\nL 93.885 183.76782 \r\nz\r\n\" style=\"fill:#1f77b4;opacity:0.7;\"/>\r\n   </g>\r\n   <g id=\"patch_21\">\r\n    <path clip-path=\"url(#pd3b01788d1)\" d=\"M 96.928636 224.64 \r\nL 99.972273 224.64 \r\nL 99.972273 172.868571 \r\nL 96.928636 172.868571 \r\nz\r\n\" style=\"fill:#1f77b4;opacity:0.7;\"/>\r\n   </g>\r\n   <g id=\"patch_22\">\r\n    <path clip-path=\"url(#pd3b01788d1)\" d=\"M 99.972273 224.64 \r\nL 103.015909 224.64 \r\nL 103.015909 183.76782 \r\nL 99.972273 183.76782 \r\nz\r\n\" style=\"fill:#1f77b4;opacity:0.7;\"/>\r\n   </g>\r\n   <g id=\"patch_23\">\r\n    <path clip-path=\"url(#pd3b01788d1)\" d=\"M 103.015909 224.64 \r\nL 106.059545 224.64 \r\nL 106.059545 183.76782 \r\nL 103.015909 183.76782 \r\nz\r\n\" style=\"fill:#1f77b4;opacity:0.7;\"/>\r\n   </g>\r\n   <g id=\"patch_24\">\r\n    <path clip-path=\"url(#pd3b01788d1)\" d=\"M 106.059545 224.64 \r\nL 109.103182 224.64 \r\nL 109.103182 205.566316 \r\nL 106.059545 205.566316 \r\nz\r\n\" style=\"fill:#1f77b4;opacity:0.7;\"/>\r\n   </g>\r\n   <g id=\"patch_25\">\r\n    <path clip-path=\"url(#pd3b01788d1)\" d=\"M 109.103182 224.64 \r\nL 112.146818 224.64 \r\nL 112.146818 178.318195 \r\nL 109.103182 178.318195 \r\nz\r\n\" style=\"fill:#1f77b4;opacity:0.7;\"/>\r\n   </g>\r\n   <g id=\"patch_26\">\r\n    <path clip-path=\"url(#pd3b01788d1)\" d=\"M 112.146818 224.64 \r\nL 115.190455 224.64 \r\nL 115.190455 189.217444 \r\nL 112.146818 189.217444 \r\nz\r\n\" style=\"fill:#1f77b4;opacity:0.7;\"/>\r\n   </g>\r\n   <g id=\"patch_27\">\r\n    <path clip-path=\"url(#pd3b01788d1)\" d=\"M 115.190455 224.64 \r\nL 118.234091 224.64 \r\nL 118.234091 200.116692 \r\nL 115.190455 200.116692 \r\nz\r\n\" style=\"fill:#1f77b4;opacity:0.7;\"/>\r\n   </g>\r\n   <g id=\"patch_28\">\r\n    <path clip-path=\"url(#pd3b01788d1)\" d=\"M 118.234091 224.64 \r\nL 121.277727 224.64 \r\nL 121.277727 208.291128 \r\nL 118.234091 208.291128 \r\nz\r\n\" style=\"fill:#1f77b4;opacity:0.7;\"/>\r\n   </g>\r\n   <g id=\"patch_29\">\r\n    <path clip-path=\"url(#pd3b01788d1)\" d=\"M 121.277727 224.64 \r\nL 124.321364 224.64 \r\nL 124.321364 194.667068 \r\nL 121.277727 194.667068 \r\nz\r\n\" style=\"fill:#1f77b4;opacity:0.7;\"/>\r\n   </g>\r\n   <g id=\"patch_30\">\r\n    <path clip-path=\"url(#pd3b01788d1)\" d=\"M 124.321364 224.64 \r\nL 127.365 224.64 \r\nL 127.365 194.667068 \r\nL 124.321364 194.667068 \r\nz\r\n\" style=\"fill:#1f77b4;opacity:0.7;\"/>\r\n   </g>\r\n   <g id=\"patch_31\">\r\n    <path clip-path=\"url(#pd3b01788d1)\" d=\"M 127.365 224.64 \r\nL 130.408636 224.64 \r\nL 130.408636 205.566316 \r\nL 127.365 205.566316 \r\nz\r\n\" style=\"fill:#1f77b4;opacity:0.7;\"/>\r\n   </g>\r\n   <g id=\"patch_32\">\r\n    <path clip-path=\"url(#pd3b01788d1)\" d=\"M 130.408636 224.64 \r\nL 133.452273 224.64 \r\nL 133.452273 205.566316 \r\nL 130.408636 205.566316 \r\nz\r\n\" style=\"fill:#1f77b4;opacity:0.7;\"/>\r\n   </g>\r\n   <g id=\"patch_33\">\r\n    <path clip-path=\"url(#pd3b01788d1)\" d=\"M 133.452273 224.64 \r\nL 136.495909 224.64 \r\nL 136.495909 200.116692 \r\nL 133.452273 200.116692 \r\nz\r\n\" style=\"fill:#1f77b4;opacity:0.7;\"/>\r\n   </g>\r\n   <g id=\"patch_34\">\r\n    <path clip-path=\"url(#pd3b01788d1)\" d=\"M 136.495909 224.64 \r\nL 139.539545 224.64 \r\nL 139.539545 202.841504 \r\nL 136.495909 202.841504 \r\nz\r\n\" style=\"fill:#1f77b4;opacity:0.7;\"/>\r\n   </g>\r\n   <g id=\"patch_35\">\r\n    <path clip-path=\"url(#pd3b01788d1)\" d=\"M 139.539545 224.64 \r\nL 142.583182 224.64 \r\nL 142.583182 202.841504 \r\nL 139.539545 202.841504 \r\nz\r\n\" style=\"fill:#1f77b4;opacity:0.7;\"/>\r\n   </g>\r\n   <g id=\"patch_36\">\r\n    <path clip-path=\"url(#pd3b01788d1)\" d=\"M 142.583182 224.64 \r\nL 145.626818 224.64 \r\nL 145.626818 189.217444 \r\nL 142.583182 189.217444 \r\nz\r\n\" style=\"fill:#1f77b4;opacity:0.7;\"/>\r\n   </g>\r\n   <g id=\"patch_37\">\r\n    <path clip-path=\"url(#pd3b01788d1)\" d=\"M 145.626818 224.64 \r\nL 148.670455 224.64 \r\nL 148.670455 200.116692 \r\nL 145.626818 200.116692 \r\nz\r\n\" style=\"fill:#1f77b4;opacity:0.7;\"/>\r\n   </g>\r\n   <g id=\"patch_38\">\r\n    <path clip-path=\"url(#pd3b01788d1)\" d=\"M 148.670455 224.64 \r\nL 151.714091 224.64 \r\nL 151.714091 221.915188 \r\nL 148.670455 221.915188 \r\nz\r\n\" style=\"fill:#1f77b4;opacity:0.7;\"/>\r\n   </g>\r\n   <g id=\"patch_39\">\r\n    <path clip-path=\"url(#pd3b01788d1)\" d=\"M 151.714091 224.64 \r\nL 154.757727 224.64 \r\nL 154.757727 219.190376 \r\nL 151.714091 219.190376 \r\nz\r\n\" style=\"fill:#1f77b4;opacity:0.7;\"/>\r\n   </g>\r\n   <g id=\"patch_40\">\r\n    <path clip-path=\"url(#pd3b01788d1)\" d=\"M 154.757727 224.64 \r\nL 157.801364 224.64 \r\nL 157.801364 219.190376 \r\nL 154.757727 219.190376 \r\nz\r\n\" style=\"fill:#1f77b4;opacity:0.7;\"/>\r\n   </g>\r\n   <g id=\"patch_41\">\r\n    <path clip-path=\"url(#pd3b01788d1)\" d=\"M 157.801364 224.64 \r\nL 160.845 224.64 \r\nL 160.845 219.190376 \r\nL 157.801364 219.190376 \r\nz\r\n\" style=\"fill:#1f77b4;opacity:0.7;\"/>\r\n   </g>\r\n   <g id=\"patch_42\">\r\n    <path clip-path=\"url(#pd3b01788d1)\" d=\"M 160.845 224.64 \r\nL 163.888636 224.64 \r\nL 163.888636 216.465564 \r\nL 160.845 216.465564 \r\nz\r\n\" style=\"fill:#1f77b4;opacity:0.7;\"/>\r\n   </g>\r\n   <g id=\"patch_43\">\r\n    <path clip-path=\"url(#pd3b01788d1)\" d=\"M 163.888636 224.64 \r\nL 166.932273 224.64 \r\nL 166.932273 224.64 \r\nL 163.888636 224.64 \r\nz\r\n\" style=\"fill:#1f77b4;opacity:0.7;\"/>\r\n   </g>\r\n   <g id=\"patch_44\">\r\n    <path clip-path=\"url(#pd3b01788d1)\" d=\"M 166.932273 224.64 \r\nL 169.975909 224.64 \r\nL 169.975909 216.465564 \r\nL 166.932273 216.465564 \r\nz\r\n\" style=\"fill:#1f77b4;opacity:0.7;\"/>\r\n   </g>\r\n   <g id=\"patch_45\">\r\n    <path clip-path=\"url(#pd3b01788d1)\" d=\"M 169.975909 224.64 \r\nL 173.019545 224.64 \r\nL 173.019545 224.64 \r\nL 169.975909 224.64 \r\nz\r\n\" style=\"fill:#1f77b4;opacity:0.7;\"/>\r\n   </g>\r\n   <g id=\"patch_46\">\r\n    <path clip-path=\"url(#pd3b01788d1)\" d=\"M 173.019545 224.64 \r\nL 176.063182 224.64 \r\nL 176.063182 224.64 \r\nL 173.019545 224.64 \r\nz\r\n\" style=\"fill:#1f77b4;opacity:0.7;\"/>\r\n   </g>\r\n   <g id=\"patch_47\">\r\n    <path clip-path=\"url(#pd3b01788d1)\" d=\"M 176.063182 224.64 \r\nL 179.106818 224.64 \r\nL 179.106818 224.64 \r\nL 176.063182 224.64 \r\nz\r\n\" style=\"fill:#1f77b4;opacity:0.7;\"/>\r\n   </g>\r\n   <g id=\"patch_48\">\r\n    <path clip-path=\"url(#pd3b01788d1)\" d=\"M 179.106818 224.64 \r\nL 182.150455 224.64 \r\nL 182.150455 224.64 \r\nL 179.106818 224.64 \r\nz\r\n\" style=\"fill:#1f77b4;opacity:0.7;\"/>\r\n   </g>\r\n   <g id=\"patch_49\">\r\n    <path clip-path=\"url(#pd3b01788d1)\" d=\"M 182.150455 224.64 \r\nL 185.194091 224.64 \r\nL 185.194091 224.64 \r\nL 182.150455 224.64 \r\nz\r\n\" style=\"fill:#1f77b4;opacity:0.7;\"/>\r\n   </g>\r\n   <g id=\"patch_50\">\r\n    <path clip-path=\"url(#pd3b01788d1)\" d=\"M 185.194091 224.64 \r\nL 188.237727 224.64 \r\nL 188.237727 221.915188 \r\nL 185.194091 221.915188 \r\nz\r\n\" style=\"fill:#1f77b4;opacity:0.7;\"/>\r\n   </g>\r\n   <g id=\"patch_51\">\r\n    <path clip-path=\"url(#pd3b01788d1)\" d=\"M 188.237727 224.64 \r\nL 191.281364 224.64 \r\nL 191.281364 221.915188 \r\nL 188.237727 221.915188 \r\nz\r\n\" style=\"fill:#1f77b4;opacity:0.7;\"/>\r\n   </g>\r\n   <g id=\"patch_52\">\r\n    <path clip-path=\"url(#pd3b01788d1)\" d=\"M 191.281364 224.64 \r\nL 194.325 224.64 \r\nL 194.325 224.64 \r\nL 191.281364 224.64 \r\nz\r\n\" style=\"fill:#1f77b4;opacity:0.7;\"/>\r\n   </g>\r\n   <g id=\"patch_53\">\r\n    <path clip-path=\"url(#pd3b01788d1)\" d=\"M 194.325 224.64 \r\nL 197.368636 224.64 \r\nL 197.368636 221.915188 \r\nL 194.325 221.915188 \r\nz\r\n\" style=\"fill:#1f77b4;opacity:0.7;\"/>\r\n   </g>\r\n   <g id=\"patch_54\">\r\n    <path clip-path=\"url(#pd3b01788d1)\" d=\"M 197.368636 224.64 \r\nL 200.412273 224.64 \r\nL 200.412273 224.64 \r\nL 197.368636 224.64 \r\nz\r\n\" style=\"fill:#1f77b4;opacity:0.7;\"/>\r\n   </g>\r\n   <g id=\"patch_55\">\r\n    <path clip-path=\"url(#pd3b01788d1)\" d=\"M 200.412273 224.64 \r\nL 203.455909 224.64 \r\nL 203.455909 219.190376 \r\nL 200.412273 219.190376 \r\nz\r\n\" style=\"fill:#1f77b4;opacity:0.7;\"/>\r\n   </g>\r\n   <g id=\"patch_56\">\r\n    <path clip-path=\"url(#pd3b01788d1)\" d=\"M 203.455909 224.64 \r\nL 206.499545 224.64 \r\nL 206.499545 224.64 \r\nL 203.455909 224.64 \r\nz\r\n\" style=\"fill:#1f77b4;opacity:0.7;\"/>\r\n   </g>\r\n   <g id=\"patch_57\">\r\n    <path clip-path=\"url(#pd3b01788d1)\" d=\"M 206.499545 224.64 \r\nL 209.543182 224.64 \r\nL 209.543182 224.64 \r\nL 206.499545 224.64 \r\nz\r\n\" style=\"fill:#1f77b4;opacity:0.7;\"/>\r\n   </g>\r\n   <g id=\"patch_58\">\r\n    <path clip-path=\"url(#pd3b01788d1)\" d=\"M 209.543182 224.64 \r\nL 212.586818 224.64 \r\nL 212.586818 221.915188 \r\nL 209.543182 221.915188 \r\nz\r\n\" style=\"fill:#1f77b4;opacity:0.7;\"/>\r\n   </g>\r\n   <g id=\"patch_59\">\r\n    <path clip-path=\"url(#pd3b01788d1)\" d=\"M 212.586818 224.64 \r\nL 215.630455 224.64 \r\nL 215.630455 224.64 \r\nL 212.586818 224.64 \r\nz\r\n\" style=\"fill:#1f77b4;opacity:0.7;\"/>\r\n   </g>\r\n   <g id=\"patch_60\">\r\n    <path clip-path=\"url(#pd3b01788d1)\" d=\"M 215.630455 224.64 \r\nL 218.674091 224.64 \r\nL 218.674091 224.64 \r\nL 215.630455 224.64 \r\nz\r\n\" style=\"fill:#1f77b4;opacity:0.7;\"/>\r\n   </g>\r\n   <g id=\"patch_61\">\r\n    <path clip-path=\"url(#pd3b01788d1)\" d=\"M 218.674091 224.64 \r\nL 221.717727 224.64 \r\nL 221.717727 224.64 \r\nL 218.674091 224.64 \r\nz\r\n\" style=\"fill:#1f77b4;opacity:0.7;\"/>\r\n   </g>\r\n   <g id=\"patch_62\">\r\n    <path clip-path=\"url(#pd3b01788d1)\" d=\"M 221.717727 224.64 \r\nL 224.761364 224.64 \r\nL 224.761364 221.915188 \r\nL 221.717727 221.915188 \r\nz\r\n\" style=\"fill:#1f77b4;opacity:0.7;\"/>\r\n   </g>\r\n   <g id=\"patch_63\">\r\n    <path clip-path=\"url(#pd3b01788d1)\" d=\"M 224.761364 224.64 \r\nL 227.805 224.64 \r\nL 227.805 221.915188 \r\nL 224.761364 221.915188 \r\nz\r\n\" style=\"fill:#1f77b4;opacity:0.7;\"/>\r\n   </g>\r\n   <g id=\"patch_64\">\r\n    <path clip-path=\"url(#pd3b01788d1)\" d=\"M 227.805 224.64 \r\nL 230.848636 224.64 \r\nL 230.848636 224.64 \r\nL 227.805 224.64 \r\nz\r\n\" style=\"fill:#1f77b4;opacity:0.7;\"/>\r\n   </g>\r\n   <g id=\"patch_65\">\r\n    <path clip-path=\"url(#pd3b01788d1)\" d=\"M 230.848636 224.64 \r\nL 233.892273 224.64 \r\nL 233.892273 224.64 \r\nL 230.848636 224.64 \r\nz\r\n\" style=\"fill:#1f77b4;opacity:0.7;\"/>\r\n   </g>\r\n   <g id=\"patch_66\">\r\n    <path clip-path=\"url(#pd3b01788d1)\" d=\"M 233.892273 224.64 \r\nL 236.935909 224.64 \r\nL 236.935909 221.915188 \r\nL 233.892273 221.915188 \r\nz\r\n\" style=\"fill:#1f77b4;opacity:0.7;\"/>\r\n   </g>\r\n   <g id=\"patch_67\">\r\n    <path clip-path=\"url(#pd3b01788d1)\" d=\"M 236.935909 224.64 \r\nL 239.979545 224.64 \r\nL 239.979545 224.64 \r\nL 236.935909 224.64 \r\nz\r\n\" style=\"fill:#1f77b4;opacity:0.7;\"/>\r\n   </g>\r\n   <g id=\"patch_68\">\r\n    <path clip-path=\"url(#pd3b01788d1)\" d=\"M 239.979545 224.64 \r\nL 243.023182 224.64 \r\nL 243.023182 221.915188 \r\nL 239.979545 221.915188 \r\nz\r\n\" style=\"fill:#1f77b4;opacity:0.7;\"/>\r\n   </g>\r\n   <g id=\"patch_69\">\r\n    <path clip-path=\"url(#pd3b01788d1)\" d=\"M 243.023182 224.64 \r\nL 246.066818 224.64 \r\nL 246.066818 224.64 \r\nL 243.023182 224.64 \r\nz\r\n\" style=\"fill:#1f77b4;opacity:0.7;\"/>\r\n   </g>\r\n   <g id=\"patch_70\">\r\n    <path clip-path=\"url(#pd3b01788d1)\" d=\"M 246.066818 224.64 \r\nL 249.110455 224.64 \r\nL 249.110455 224.64 \r\nL 246.066818 224.64 \r\nz\r\n\" style=\"fill:#1f77b4;opacity:0.7;\"/>\r\n   </g>\r\n   <g id=\"patch_71\">\r\n    <path clip-path=\"url(#pd3b01788d1)\" d=\"M 249.110455 224.64 \r\nL 252.154091 224.64 \r\nL 252.154091 221.915188 \r\nL 249.110455 221.915188 \r\nz\r\n\" style=\"fill:#1f77b4;opacity:0.7;\"/>\r\n   </g>\r\n   <g id=\"patch_72\">\r\n    <path clip-path=\"url(#pd3b01788d1)\" d=\"M 252.154091 224.64 \r\nL 255.197727 224.64 \r\nL 255.197727 224.64 \r\nL 252.154091 224.64 \r\nz\r\n\" style=\"fill:#1f77b4;opacity:0.7;\"/>\r\n   </g>\r\n   <g id=\"patch_73\">\r\n    <path clip-path=\"url(#pd3b01788d1)\" d=\"M 255.197727 224.64 \r\nL 258.241364 224.64 \r\nL 258.241364 219.190376 \r\nL 255.197727 219.190376 \r\nz\r\n\" style=\"fill:#1f77b4;opacity:0.7;\"/>\r\n   </g>\r\n   <g id=\"patch_74\">\r\n    <path clip-path=\"url(#pd3b01788d1)\" d=\"M 258.241364 224.64 \r\nL 261.285 224.64 \r\nL 261.285 224.64 \r\nL 258.241364 224.64 \r\nz\r\n\" style=\"fill:#1f77b4;opacity:0.7;\"/>\r\n   </g>\r\n   <g id=\"patch_75\">\r\n    <path clip-path=\"url(#pd3b01788d1)\" d=\"M 261.285 224.64 \r\nL 264.328636 224.64 \r\nL 264.328636 224.64 \r\nL 261.285 224.64 \r\nz\r\n\" style=\"fill:#1f77b4;opacity:0.7;\"/>\r\n   </g>\r\n   <g id=\"patch_76\">\r\n    <path clip-path=\"url(#pd3b01788d1)\" d=\"M 264.328636 224.64 \r\nL 267.372273 224.64 \r\nL 267.372273 224.64 \r\nL 264.328636 224.64 \r\nz\r\n\" style=\"fill:#1f77b4;opacity:0.7;\"/>\r\n   </g>\r\n   <g id=\"patch_77\">\r\n    <path clip-path=\"url(#pd3b01788d1)\" d=\"M 267.372273 224.64 \r\nL 270.415909 224.64 \r\nL 270.415909 224.64 \r\nL 267.372273 224.64 \r\nz\r\n\" style=\"fill:#1f77b4;opacity:0.7;\"/>\r\n   </g>\r\n   <g id=\"patch_78\">\r\n    <path clip-path=\"url(#pd3b01788d1)\" d=\"M 270.415909 224.64 \r\nL 273.459545 224.64 \r\nL 273.459545 224.64 \r\nL 270.415909 224.64 \r\nz\r\n\" style=\"fill:#1f77b4;opacity:0.7;\"/>\r\n   </g>\r\n   <g id=\"patch_79\">\r\n    <path clip-path=\"url(#pd3b01788d1)\" d=\"M 273.459545 224.64 \r\nL 276.503182 224.64 \r\nL 276.503182 224.64 \r\nL 273.459545 224.64 \r\nz\r\n\" style=\"fill:#1f77b4;opacity:0.7;\"/>\r\n   </g>\r\n   <g id=\"patch_80\">\r\n    <path clip-path=\"url(#pd3b01788d1)\" d=\"M 276.503182 224.64 \r\nL 279.546818 224.64 \r\nL 279.546818 224.64 \r\nL 276.503182 224.64 \r\nz\r\n\" style=\"fill:#1f77b4;opacity:0.7;\"/>\r\n   </g>\r\n   <g id=\"patch_81\">\r\n    <path clip-path=\"url(#pd3b01788d1)\" d=\"M 279.546818 224.64 \r\nL 282.590455 224.64 \r\nL 282.590455 224.64 \r\nL 279.546818 224.64 \r\nz\r\n\" style=\"fill:#1f77b4;opacity:0.7;\"/>\r\n   </g>\r\n   <g id=\"patch_82\">\r\n    <path clip-path=\"url(#pd3b01788d1)\" d=\"M 282.590455 224.64 \r\nL 285.634091 224.64 \r\nL 285.634091 224.64 \r\nL 282.590455 224.64 \r\nz\r\n\" style=\"fill:#1f77b4;opacity:0.7;\"/>\r\n   </g>\r\n   <g id=\"patch_83\">\r\n    <path clip-path=\"url(#pd3b01788d1)\" d=\"M 285.634091 224.64 \r\nL 288.677727 224.64 \r\nL 288.677727 221.915188 \r\nL 285.634091 221.915188 \r\nz\r\n\" style=\"fill:#1f77b4;opacity:0.7;\"/>\r\n   </g>\r\n   <g id=\"patch_84\">\r\n    <path clip-path=\"url(#pd3b01788d1)\" d=\"M 288.677727 224.64 \r\nL 291.721364 224.64 \r\nL 291.721364 224.64 \r\nL 288.677727 224.64 \r\nz\r\n\" style=\"fill:#1f77b4;opacity:0.7;\"/>\r\n   </g>\r\n   <g id=\"patch_85\">\r\n    <path clip-path=\"url(#pd3b01788d1)\" d=\"M 291.721364 224.64 \r\nL 294.765 224.64 \r\nL 294.765 224.64 \r\nL 291.721364 224.64 \r\nz\r\n\" style=\"fill:#1f77b4;opacity:0.7;\"/>\r\n   </g>\r\n   <g id=\"patch_86\">\r\n    <path clip-path=\"url(#pd3b01788d1)\" d=\"M 294.765 224.64 \r\nL 297.808636 224.64 \r\nL 297.808636 224.64 \r\nL 294.765 224.64 \r\nz\r\n\" style=\"fill:#1f77b4;opacity:0.7;\"/>\r\n   </g>\r\n   <g id=\"patch_87\">\r\n    <path clip-path=\"url(#pd3b01788d1)\" d=\"M 297.808636 224.64 \r\nL 300.852273 224.64 \r\nL 300.852273 224.64 \r\nL 297.808636 224.64 \r\nz\r\n\" style=\"fill:#1f77b4;opacity:0.7;\"/>\r\n   </g>\r\n   <g id=\"patch_88\">\r\n    <path clip-path=\"url(#pd3b01788d1)\" d=\"M 300.852273 224.64 \r\nL 303.895909 224.64 \r\nL 303.895909 224.64 \r\nL 300.852273 224.64 \r\nz\r\n\" style=\"fill:#1f77b4;opacity:0.7;\"/>\r\n   </g>\r\n   <g id=\"patch_89\">\r\n    <path clip-path=\"url(#pd3b01788d1)\" d=\"M 303.895909 224.64 \r\nL 306.939545 224.64 \r\nL 306.939545 224.64 \r\nL 303.895909 224.64 \r\nz\r\n\" style=\"fill:#1f77b4;opacity:0.7;\"/>\r\n   </g>\r\n   <g id=\"patch_90\">\r\n    <path clip-path=\"url(#pd3b01788d1)\" d=\"M 306.939545 224.64 \r\nL 309.983182 224.64 \r\nL 309.983182 224.64 \r\nL 306.939545 224.64 \r\nz\r\n\" style=\"fill:#1f77b4;opacity:0.7;\"/>\r\n   </g>\r\n   <g id=\"patch_91\">\r\n    <path clip-path=\"url(#pd3b01788d1)\" d=\"M 309.983182 224.64 \r\nL 313.026818 224.64 \r\nL 313.026818 224.64 \r\nL 309.983182 224.64 \r\nz\r\n\" style=\"fill:#1f77b4;opacity:0.7;\"/>\r\n   </g>\r\n   <g id=\"patch_92\">\r\n    <path clip-path=\"url(#pd3b01788d1)\" d=\"M 313.026818 224.64 \r\nL 316.070455 224.64 \r\nL 316.070455 224.64 \r\nL 313.026818 224.64 \r\nz\r\n\" style=\"fill:#1f77b4;opacity:0.7;\"/>\r\n   </g>\r\n   <g id=\"patch_93\">\r\n    <path clip-path=\"url(#pd3b01788d1)\" d=\"M 316.070455 224.64 \r\nL 319.114091 224.64 \r\nL 319.114091 224.64 \r\nL 316.070455 224.64 \r\nz\r\n\" style=\"fill:#1f77b4;opacity:0.7;\"/>\r\n   </g>\r\n   <g id=\"patch_94\">\r\n    <path clip-path=\"url(#pd3b01788d1)\" d=\"M 319.114091 224.64 \r\nL 322.157727 224.64 \r\nL 322.157727 224.64 \r\nL 319.114091 224.64 \r\nz\r\n\" style=\"fill:#1f77b4;opacity:0.7;\"/>\r\n   </g>\r\n   <g id=\"patch_95\">\r\n    <path clip-path=\"url(#pd3b01788d1)\" d=\"M 322.157727 224.64 \r\nL 325.201364 224.64 \r\nL 325.201364 224.64 \r\nL 322.157727 224.64 \r\nz\r\n\" style=\"fill:#1f77b4;opacity:0.7;\"/>\r\n   </g>\r\n   <g id=\"patch_96\">\r\n    <path clip-path=\"url(#pd3b01788d1)\" d=\"M 325.201364 224.64 \r\nL 328.245 224.64 \r\nL 328.245 224.64 \r\nL 325.201364 224.64 \r\nz\r\n\" style=\"fill:#1f77b4;opacity:0.7;\"/>\r\n   </g>\r\n   <g id=\"patch_97\">\r\n    <path clip-path=\"url(#pd3b01788d1)\" d=\"M 328.245 224.64 \r\nL 331.288636 224.64 \r\nL 331.288636 224.64 \r\nL 328.245 224.64 \r\nz\r\n\" style=\"fill:#1f77b4;opacity:0.7;\"/>\r\n   </g>\r\n   <g id=\"patch_98\">\r\n    <path clip-path=\"url(#pd3b01788d1)\" d=\"M 331.288636 224.64 \r\nL 334.332273 224.64 \r\nL 334.332273 224.64 \r\nL 331.288636 224.64 \r\nz\r\n\" style=\"fill:#1f77b4;opacity:0.7;\"/>\r\n   </g>\r\n   <g id=\"patch_99\">\r\n    <path clip-path=\"url(#pd3b01788d1)\" d=\"M 334.332273 224.64 \r\nL 337.375909 224.64 \r\nL 337.375909 221.915188 \r\nL 334.332273 221.915188 \r\nz\r\n\" style=\"fill:#1f77b4;opacity:0.7;\"/>\r\n   </g>\r\n   <g id=\"patch_100\">\r\n    <path clip-path=\"url(#pd3b01788d1)\" d=\"M 337.375909 224.64 \r\nL 340.419545 224.64 \r\nL 340.419545 224.64 \r\nL 337.375909 224.64 \r\nz\r\n\" style=\"fill:#1f77b4;opacity:0.7;\"/>\r\n   </g>\r\n   <g id=\"patch_101\">\r\n    <path clip-path=\"url(#pd3b01788d1)\" d=\"M 340.419545 224.64 \r\nL 343.463182 224.64 \r\nL 343.463182 224.64 \r\nL 340.419545 224.64 \r\nz\r\n\" style=\"fill:#1f77b4;opacity:0.7;\"/>\r\n   </g>\r\n   <g id=\"patch_102\">\r\n    <path clip-path=\"url(#pd3b01788d1)\" d=\"M 343.463182 224.64 \r\nL 346.506818 224.64 \r\nL 346.506818 221.915188 \r\nL 343.463182 221.915188 \r\nz\r\n\" style=\"fill:#1f77b4;opacity:0.7;\"/>\r\n   </g>\r\n   <g id=\"patch_103\">\r\n    <path clip-path=\"url(#pd3b01788d1)\" d=\"M 49.437299 224.64 \r\nL 50.829813 224.64 \r\nL 50.829813 221.915188 \r\nL 49.437299 221.915188 \r\nz\r\n\" style=\"fill:#ff7f0e;opacity:0.7;\"/>\r\n   </g>\r\n   <g id=\"patch_104\">\r\n    <path clip-path=\"url(#pd3b01788d1)\" d=\"M 50.829813 224.64 \r\nL 52.222326 224.64 \r\nL 52.222326 224.64 \r\nL 50.829813 224.64 \r\nz\r\n\" style=\"fill:#ff7f0e;opacity:0.7;\"/>\r\n   </g>\r\n   <g id=\"patch_105\">\r\n    <path clip-path=\"url(#pd3b01788d1)\" d=\"M 52.222326 224.64 \r\nL 53.61484 224.64 \r\nL 53.61484 221.915188 \r\nL 52.222326 221.915188 \r\nz\r\n\" style=\"fill:#ff7f0e;opacity:0.7;\"/>\r\n   </g>\r\n   <g id=\"patch_106\">\r\n    <path clip-path=\"url(#pd3b01788d1)\" d=\"M 53.61484 224.64 \r\nL 55.007353 224.64 \r\nL 55.007353 224.64 \r\nL 53.61484 224.64 \r\nz\r\n\" style=\"fill:#ff7f0e;opacity:0.7;\"/>\r\n   </g>\r\n   <g id=\"patch_107\">\r\n    <path clip-path=\"url(#pd3b01788d1)\" d=\"M 55.007353 224.64 \r\nL 56.399866 224.64 \r\nL 56.399866 224.64 \r\nL 55.007353 224.64 \r\nz\r\n\" style=\"fill:#ff7f0e;opacity:0.7;\"/>\r\n   </g>\r\n   <g id=\"patch_108\">\r\n    <path clip-path=\"url(#pd3b01788d1)\" d=\"M 56.399866 224.64 \r\nL 57.79238 224.64 \r\nL 57.79238 221.915188 \r\nL 56.399866 221.915188 \r\nz\r\n\" style=\"fill:#ff7f0e;opacity:0.7;\"/>\r\n   </g>\r\n   <g id=\"patch_109\">\r\n    <path clip-path=\"url(#pd3b01788d1)\" d=\"M 57.79238 224.64 \r\nL 59.184893 224.64 \r\nL 59.184893 224.64 \r\nL 57.79238 224.64 \r\nz\r\n\" style=\"fill:#ff7f0e;opacity:0.7;\"/>\r\n   </g>\r\n   <g id=\"patch_110\">\r\n    <path clip-path=\"url(#pd3b01788d1)\" d=\"M 59.184893 224.64 \r\nL 60.577406 224.64 \r\nL 60.577406 224.64 \r\nL 59.184893 224.64 \r\nz\r\n\" style=\"fill:#ff7f0e;opacity:0.7;\"/>\r\n   </g>\r\n   <g id=\"patch_111\">\r\n    <path clip-path=\"url(#pd3b01788d1)\" d=\"M 60.577406 224.64 \r\nL 61.96992 224.64 \r\nL 61.96992 221.915188 \r\nL 60.577406 221.915188 \r\nz\r\n\" style=\"fill:#ff7f0e;opacity:0.7;\"/>\r\n   </g>\r\n   <g id=\"patch_112\">\r\n    <path clip-path=\"url(#pd3b01788d1)\" d=\"M 61.96992 224.64 \r\nL 63.362433 224.64 \r\nL 63.362433 216.465564 \r\nL 61.96992 216.465564 \r\nz\r\n\" style=\"fill:#ff7f0e;opacity:0.7;\"/>\r\n   </g>\r\n   <g id=\"patch_113\">\r\n    <path clip-path=\"url(#pd3b01788d1)\" d=\"M 63.362433 224.64 \r\nL 64.754947 224.64 \r\nL 64.754947 224.64 \r\nL 63.362433 224.64 \r\nz\r\n\" style=\"fill:#ff7f0e;opacity:0.7;\"/>\r\n   </g>\r\n   <g id=\"patch_114\">\r\n    <path clip-path=\"url(#pd3b01788d1)\" d=\"M 64.754947 224.64 \r\nL 66.14746 224.64 \r\nL 66.14746 221.915188 \r\nL 64.754947 221.915188 \r\nz\r\n\" style=\"fill:#ff7f0e;opacity:0.7;\"/>\r\n   </g>\r\n   <g id=\"patch_115\">\r\n    <path clip-path=\"url(#pd3b01788d1)\" d=\"M 66.14746 224.64 \r\nL 67.539973 224.64 \r\nL 67.539973 221.915188 \r\nL 66.14746 221.915188 \r\nz\r\n\" style=\"fill:#ff7f0e;opacity:0.7;\"/>\r\n   </g>\r\n   <g id=\"patch_116\">\r\n    <path clip-path=\"url(#pd3b01788d1)\" d=\"M 67.539973 224.64 \r\nL 68.932487 224.64 \r\nL 68.932487 219.190376 \r\nL 67.539973 219.190376 \r\nz\r\n\" style=\"fill:#ff7f0e;opacity:0.7;\"/>\r\n   </g>\r\n   <g id=\"patch_117\">\r\n    <path clip-path=\"url(#pd3b01788d1)\" d=\"M 68.932487 224.64 \r\nL 70.325 224.64 \r\nL 70.325 221.915188 \r\nL 68.932487 221.915188 \r\nz\r\n\" style=\"fill:#ff7f0e;opacity:0.7;\"/>\r\n   </g>\r\n   <g id=\"patch_118\">\r\n    <path clip-path=\"url(#pd3b01788d1)\" d=\"M 70.325 224.64 \r\nL 71.717513 224.64 \r\nL 71.717513 221.915188 \r\nL 70.325 221.915188 \r\nz\r\n\" style=\"fill:#ff7f0e;opacity:0.7;\"/>\r\n   </g>\r\n   <g id=\"patch_119\">\r\n    <path clip-path=\"url(#pd3b01788d1)\" d=\"M 71.717513 224.64 \r\nL 73.110027 224.64 \r\nL 73.110027 213.740752 \r\nL 71.717513 213.740752 \r\nz\r\n\" style=\"fill:#ff7f0e;opacity:0.7;\"/>\r\n   </g>\r\n   <g id=\"patch_120\">\r\n    <path clip-path=\"url(#pd3b01788d1)\" d=\"M 73.110027 224.64 \r\nL 74.50254 224.64 \r\nL 74.50254 213.740752 \r\nL 73.110027 213.740752 \r\nz\r\n\" style=\"fill:#ff7f0e;opacity:0.7;\"/>\r\n   </g>\r\n   <g id=\"patch_121\">\r\n    <path clip-path=\"url(#pd3b01788d1)\" d=\"M 74.50254 224.64 \r\nL 75.895053 224.64 \r\nL 75.895053 219.190376 \r\nL 74.50254 219.190376 \r\nz\r\n\" style=\"fill:#ff7f0e;opacity:0.7;\"/>\r\n   </g>\r\n   <g id=\"patch_122\">\r\n    <path clip-path=\"url(#pd3b01788d1)\" d=\"M 75.895053 224.64 \r\nL 77.287567 224.64 \r\nL 77.287567 224.64 \r\nL 75.895053 224.64 \r\nz\r\n\" style=\"fill:#ff7f0e;opacity:0.7;\"/>\r\n   </g>\r\n   <g id=\"patch_123\">\r\n    <path clip-path=\"url(#pd3b01788d1)\" d=\"M 77.287567 224.64 \r\nL 78.68008 224.64 \r\nL 78.68008 224.64 \r\nL 77.287567 224.64 \r\nz\r\n\" style=\"fill:#ff7f0e;opacity:0.7;\"/>\r\n   </g>\r\n   <g id=\"patch_124\">\r\n    <path clip-path=\"url(#pd3b01788d1)\" d=\"M 78.68008 224.64 \r\nL 80.072594 224.64 \r\nL 80.072594 221.915188 \r\nL 78.68008 221.915188 \r\nz\r\n\" style=\"fill:#ff7f0e;opacity:0.7;\"/>\r\n   </g>\r\n   <g id=\"patch_125\">\r\n    <path clip-path=\"url(#pd3b01788d1)\" d=\"M 80.072594 224.64 \r\nL 81.465107 224.64 \r\nL 81.465107 224.64 \r\nL 80.072594 224.64 \r\nz\r\n\" style=\"fill:#ff7f0e;opacity:0.7;\"/>\r\n   </g>\r\n   <g id=\"patch_126\">\r\n    <path clip-path=\"url(#pd3b01788d1)\" d=\"M 81.465107 224.64 \r\nL 82.85762 224.64 \r\nL 82.85762 221.915188 \r\nL 81.465107 221.915188 \r\nz\r\n\" style=\"fill:#ff7f0e;opacity:0.7;\"/>\r\n   </g>\r\n   <g id=\"patch_127\">\r\n    <path clip-path=\"url(#pd3b01788d1)\" d=\"M 82.85762 224.64 \r\nL 84.250134 224.64 \r\nL 84.250134 216.465564 \r\nL 82.85762 216.465564 \r\nz\r\n\" style=\"fill:#ff7f0e;opacity:0.7;\"/>\r\n   </g>\r\n   <g id=\"patch_128\">\r\n    <path clip-path=\"url(#pd3b01788d1)\" d=\"M 84.250134 224.64 \r\nL 85.642647 224.64 \r\nL 85.642647 221.915188 \r\nL 84.250134 221.915188 \r\nz\r\n\" style=\"fill:#ff7f0e;opacity:0.7;\"/>\r\n   </g>\r\n   <g id=\"patch_129\">\r\n    <path clip-path=\"url(#pd3b01788d1)\" d=\"M 85.642647 224.64 \r\nL 87.03516 224.64 \r\nL 87.03516 213.740752 \r\nL 85.642647 213.740752 \r\nz\r\n\" style=\"fill:#ff7f0e;opacity:0.7;\"/>\r\n   </g>\r\n   <g id=\"patch_130\">\r\n    <path clip-path=\"url(#pd3b01788d1)\" d=\"M 87.03516 224.64 \r\nL 88.427674 224.64 \r\nL 88.427674 213.740752 \r\nL 87.03516 213.740752 \r\nz\r\n\" style=\"fill:#ff7f0e;opacity:0.7;\"/>\r\n   </g>\r\n   <g id=\"patch_131\">\r\n    <path clip-path=\"url(#pd3b01788d1)\" d=\"M 88.427674 224.64 \r\nL 89.820187 224.64 \r\nL 89.820187 208.291128 \r\nL 88.427674 208.291128 \r\nz\r\n\" style=\"fill:#ff7f0e;opacity:0.7;\"/>\r\n   </g>\r\n   <g id=\"patch_132\">\r\n    <path clip-path=\"url(#pd3b01788d1)\" d=\"M 89.820187 224.64 \r\nL 91.212701 224.64 \r\nL 91.212701 216.465564 \r\nL 89.820187 216.465564 \r\nz\r\n\" style=\"fill:#ff7f0e;opacity:0.7;\"/>\r\n   </g>\r\n   <g id=\"patch_133\">\r\n    <path clip-path=\"url(#pd3b01788d1)\" d=\"M 91.212701 224.64 \r\nL 92.605214 224.64 \r\nL 92.605214 219.190376 \r\nL 91.212701 219.190376 \r\nz\r\n\" style=\"fill:#ff7f0e;opacity:0.7;\"/>\r\n   </g>\r\n   <g id=\"patch_134\">\r\n    <path clip-path=\"url(#pd3b01788d1)\" d=\"M 92.605214 224.64 \r\nL 93.997727 224.64 \r\nL 93.997727 224.64 \r\nL 92.605214 224.64 \r\nz\r\n\" style=\"fill:#ff7f0e;opacity:0.7;\"/>\r\n   </g>\r\n   <g id=\"patch_135\">\r\n    <path clip-path=\"url(#pd3b01788d1)\" d=\"M 93.997727 224.64 \r\nL 95.390241 224.64 \r\nL 95.390241 208.291128 \r\nL 93.997727 208.291128 \r\nz\r\n\" style=\"fill:#ff7f0e;opacity:0.7;\"/>\r\n   </g>\r\n   <g id=\"patch_136\">\r\n    <path clip-path=\"url(#pd3b01788d1)\" d=\"M 95.390241 224.64 \r\nL 96.782754 224.64 \r\nL 96.782754 219.190376 \r\nL 95.390241 219.190376 \r\nz\r\n\" style=\"fill:#ff7f0e;opacity:0.7;\"/>\r\n   </g>\r\n   <g id=\"patch_137\">\r\n    <path clip-path=\"url(#pd3b01788d1)\" d=\"M 96.782754 224.64 \r\nL 98.175267 224.64 \r\nL 98.175267 216.465564 \r\nL 96.782754 216.465564 \r\nz\r\n\" style=\"fill:#ff7f0e;opacity:0.7;\"/>\r\n   </g>\r\n   <g id=\"patch_138\">\r\n    <path clip-path=\"url(#pd3b01788d1)\" d=\"M 98.175267 224.64 \r\nL 99.567781 224.64 \r\nL 99.567781 224.64 \r\nL 98.175267 224.64 \r\nz\r\n\" style=\"fill:#ff7f0e;opacity:0.7;\"/>\r\n   </g>\r\n   <g id=\"patch_139\">\r\n    <path clip-path=\"url(#pd3b01788d1)\" d=\"M 99.567781 224.64 \r\nL 100.960294 224.64 \r\nL 100.960294 211.01594 \r\nL 99.567781 211.01594 \r\nz\r\n\" style=\"fill:#ff7f0e;opacity:0.7;\"/>\r\n   </g>\r\n   <g id=\"patch_140\">\r\n    <path clip-path=\"url(#pd3b01788d1)\" d=\"M 100.960294 224.64 \r\nL 102.352807 224.64 \r\nL 102.352807 224.64 \r\nL 100.960294 224.64 \r\nz\r\n\" style=\"fill:#ff7f0e;opacity:0.7;\"/>\r\n   </g>\r\n   <g id=\"patch_141\">\r\n    <path clip-path=\"url(#pd3b01788d1)\" d=\"M 102.352807 224.64 \r\nL 103.745321 224.64 \r\nL 103.745321 221.915188 \r\nL 102.352807 221.915188 \r\nz\r\n\" style=\"fill:#ff7f0e;opacity:0.7;\"/>\r\n   </g>\r\n   <g id=\"patch_142\">\r\n    <path clip-path=\"url(#pd3b01788d1)\" d=\"M 103.745321 224.64 \r\nL 105.137834 224.64 \r\nL 105.137834 211.01594 \r\nL 103.745321 211.01594 \r\nz\r\n\" style=\"fill:#ff7f0e;opacity:0.7;\"/>\r\n   </g>\r\n   <g id=\"patch_143\">\r\n    <path clip-path=\"url(#pd3b01788d1)\" d=\"M 105.137834 224.64 \r\nL 106.530348 224.64 \r\nL 106.530348 213.740752 \r\nL 105.137834 213.740752 \r\nz\r\n\" style=\"fill:#ff7f0e;opacity:0.7;\"/>\r\n   </g>\r\n   <g id=\"patch_144\">\r\n    <path clip-path=\"url(#pd3b01788d1)\" d=\"M 106.530348 224.64 \r\nL 107.922861 224.64 \r\nL 107.922861 200.116692 \r\nL 106.530348 200.116692 \r\nz\r\n\" style=\"fill:#ff7f0e;opacity:0.7;\"/>\r\n   </g>\r\n   <g id=\"patch_145\">\r\n    <path clip-path=\"url(#pd3b01788d1)\" d=\"M 107.922861 224.64 \r\nL 109.315374 224.64 \r\nL 109.315374 219.190376 \r\nL 107.922861 219.190376 \r\nz\r\n\" style=\"fill:#ff7f0e;opacity:0.7;\"/>\r\n   </g>\r\n   <g id=\"patch_146\">\r\n    <path clip-path=\"url(#pd3b01788d1)\" d=\"M 109.315374 224.64 \r\nL 110.707888 224.64 \r\nL 110.707888 213.740752 \r\nL 109.315374 213.740752 \r\nz\r\n\" style=\"fill:#ff7f0e;opacity:0.7;\"/>\r\n   </g>\r\n   <g id=\"patch_147\">\r\n    <path clip-path=\"url(#pd3b01788d1)\" d=\"M 110.707888 224.64 \r\nL 112.100401 224.64 \r\nL 112.100401 200.116692 \r\nL 110.707888 200.116692 \r\nz\r\n\" style=\"fill:#ff7f0e;opacity:0.7;\"/>\r\n   </g>\r\n   <g id=\"patch_148\">\r\n    <path clip-path=\"url(#pd3b01788d1)\" d=\"M 112.100401 224.64 \r\nL 113.492914 224.64 \r\nL 113.492914 208.291128 \r\nL 112.100401 208.291128 \r\nz\r\n\" style=\"fill:#ff7f0e;opacity:0.7;\"/>\r\n   </g>\r\n   <g id=\"patch_149\">\r\n    <path clip-path=\"url(#pd3b01788d1)\" d=\"M 113.492914 224.64 \r\nL 114.885428 224.64 \r\nL 114.885428 208.291128 \r\nL 113.492914 208.291128 \r\nz\r\n\" style=\"fill:#ff7f0e;opacity:0.7;\"/>\r\n   </g>\r\n   <g id=\"patch_150\">\r\n    <path clip-path=\"url(#pd3b01788d1)\" d=\"M 114.885428 224.64 \r\nL 116.277941 224.64 \r\nL 116.277941 216.465564 \r\nL 114.885428 216.465564 \r\nz\r\n\" style=\"fill:#ff7f0e;opacity:0.7;\"/>\r\n   </g>\r\n   <g id=\"patch_151\">\r\n    <path clip-path=\"url(#pd3b01788d1)\" d=\"M 116.277941 224.64 \r\nL 117.670455 224.64 \r\nL 117.670455 197.39188 \r\nL 116.277941 197.39188 \r\nz\r\n\" style=\"fill:#ff7f0e;opacity:0.7;\"/>\r\n   </g>\r\n   <g id=\"patch_152\">\r\n    <path clip-path=\"url(#pd3b01788d1)\" d=\"M 117.670455 224.64 \r\nL 119.062968 224.64 \r\nL 119.062968 221.915188 \r\nL 117.670455 221.915188 \r\nz\r\n\" style=\"fill:#ff7f0e;opacity:0.7;\"/>\r\n   </g>\r\n   <g id=\"patch_153\">\r\n    <path clip-path=\"url(#pd3b01788d1)\" d=\"M 119.062968 224.64 \r\nL 120.455481 224.64 \r\nL 120.455481 194.667068 \r\nL 119.062968 194.667068 \r\nz\r\n\" style=\"fill:#ff7f0e;opacity:0.7;\"/>\r\n   </g>\r\n   <g id=\"patch_154\">\r\n    <path clip-path=\"url(#pd3b01788d1)\" d=\"M 120.455481 224.64 \r\nL 121.847995 224.64 \r\nL 121.847995 197.39188 \r\nL 120.455481 197.39188 \r\nz\r\n\" style=\"fill:#ff7f0e;opacity:0.7;\"/>\r\n   </g>\r\n   <g id=\"patch_155\">\r\n    <path clip-path=\"url(#pd3b01788d1)\" d=\"M 121.847995 224.64 \r\nL 123.240508 224.64 \r\nL 123.240508 211.01594 \r\nL 121.847995 211.01594 \r\nz\r\n\" style=\"fill:#ff7f0e;opacity:0.7;\"/>\r\n   </g>\r\n   <g id=\"patch_156\">\r\n    <path clip-path=\"url(#pd3b01788d1)\" d=\"M 123.240508 224.64 \r\nL 124.633021 224.64 \r\nL 124.633021 197.39188 \r\nL 123.240508 197.39188 \r\nz\r\n\" style=\"fill:#ff7f0e;opacity:0.7;\"/>\r\n   </g>\r\n   <g id=\"patch_157\">\r\n    <path clip-path=\"url(#pd3b01788d1)\" d=\"M 124.633021 224.64 \r\nL 126.025535 224.64 \r\nL 126.025535 216.465564 \r\nL 124.633021 216.465564 \r\nz\r\n\" style=\"fill:#ff7f0e;opacity:0.7;\"/>\r\n   </g>\r\n   <g id=\"patch_158\">\r\n    <path clip-path=\"url(#pd3b01788d1)\" d=\"M 126.025535 224.64 \r\nL 127.418048 224.64 \r\nL 127.418048 197.39188 \r\nL 126.025535 197.39188 \r\nz\r\n\" style=\"fill:#ff7f0e;opacity:0.7;\"/>\r\n   </g>\r\n   <g id=\"patch_159\">\r\n    <path clip-path=\"url(#pd3b01788d1)\" d=\"M 127.418048 224.64 \r\nL 128.810561 224.64 \r\nL 128.810561 189.217444 \r\nL 127.418048 189.217444 \r\nz\r\n\" style=\"fill:#ff7f0e;opacity:0.7;\"/>\r\n   </g>\r\n   <g id=\"patch_160\">\r\n    <path clip-path=\"url(#pd3b01788d1)\" d=\"M 128.810561 224.64 \r\nL 130.203075 224.64 \r\nL 130.203075 186.492632 \r\nL 128.810561 186.492632 \r\nz\r\n\" style=\"fill:#ff7f0e;opacity:0.7;\"/>\r\n   </g>\r\n   <g id=\"patch_161\">\r\n    <path clip-path=\"url(#pd3b01788d1)\" d=\"M 130.203075 224.64 \r\nL 131.595588 224.64 \r\nL 131.595588 151.070075 \r\nL 130.203075 151.070075 \r\nz\r\n\" style=\"fill:#ff7f0e;opacity:0.7;\"/>\r\n   </g>\r\n   <g id=\"patch_162\">\r\n    <path clip-path=\"url(#pd3b01788d1)\" d=\"M 131.595588 224.64 \r\nL 132.988102 224.64 \r\nL 132.988102 175.593383 \r\nL 131.595588 175.593383 \r\nz\r\n\" style=\"fill:#ff7f0e;opacity:0.7;\"/>\r\n   </g>\r\n   <g id=\"patch_163\">\r\n    <path clip-path=\"url(#pd3b01788d1)\" d=\"M 132.988102 224.64 \r\nL 134.380615 224.64 \r\nL 134.380615 161.969323 \r\nL 132.988102 161.969323 \r\nz\r\n\" style=\"fill:#ff7f0e;opacity:0.7;\"/>\r\n   </g>\r\n   <g id=\"patch_164\">\r\n    <path clip-path=\"url(#pd3b01788d1)\" d=\"M 134.380615 224.64 \r\nL 135.773128 224.64 \r\nL 135.773128 156.519699 \r\nL 134.380615 156.519699 \r\nz\r\n\" style=\"fill:#ff7f0e;opacity:0.7;\"/>\r\n   </g>\r\n   <g id=\"patch_165\">\r\n    <path clip-path=\"url(#pd3b01788d1)\" d=\"M 135.773128 224.64 \r\nL 137.165642 224.64 \r\nL 137.165642 151.070075 \r\nL 135.773128 151.070075 \r\nz\r\n\" style=\"fill:#ff7f0e;opacity:0.7;\"/>\r\n   </g>\r\n   <g id=\"patch_166\">\r\n    <path clip-path=\"url(#pd3b01788d1)\" d=\"M 137.165642 224.64 \r\nL 138.558155 224.64 \r\nL 138.558155 137.446015 \r\nL 137.165642 137.446015 \r\nz\r\n\" style=\"fill:#ff7f0e;opacity:0.7;\"/>\r\n   </g>\r\n   <g id=\"patch_167\">\r\n    <path clip-path=\"url(#pd3b01788d1)\" d=\"M 138.558155 224.64 \r\nL 139.950668 224.64 \r\nL 139.950668 137.446015 \r\nL 138.558155 137.446015 \r\nz\r\n\" style=\"fill:#ff7f0e;opacity:0.7;\"/>\r\n   </g>\r\n   <g id=\"patch_168\">\r\n    <path clip-path=\"url(#pd3b01788d1)\" d=\"M 139.950668 224.64 \r\nL 141.343182 224.64 \r\nL 141.343182 175.593383 \r\nL 139.950668 175.593383 \r\nz\r\n\" style=\"fill:#ff7f0e;opacity:0.7;\"/>\r\n   </g>\r\n   <g id=\"patch_169\">\r\n    <path clip-path=\"url(#pd3b01788d1)\" d=\"M 141.343182 224.64 \r\nL 142.735695 224.64 \r\nL 142.735695 91.124211 \r\nL 141.343182 91.124211 \r\nz\r\n\" style=\"fill:#ff7f0e;opacity:0.7;\"/>\r\n   </g>\r\n   <g id=\"patch_170\">\r\n    <path clip-path=\"url(#pd3b01788d1)\" d=\"M 142.735695 224.64 \r\nL 144.128209 224.64 \r\nL 144.128209 66.600902 \r\nL 142.735695 66.600902 \r\nz\r\n\" style=\"fill:#ff7f0e;opacity:0.7;\"/>\r\n   </g>\r\n   <g id=\"patch_171\">\r\n    <path clip-path=\"url(#pd3b01788d1)\" d=\"M 144.128209 224.64 \r\nL 145.520722 224.64 \r\nL 145.520722 39.352782 \r\nL 144.128209 39.352782 \r\nz\r\n\" style=\"fill:#ff7f0e;opacity:0.7;\"/>\r\n   </g>\r\n   <g id=\"patch_172\">\r\n    <path clip-path=\"url(#pd3b01788d1)\" d=\"M 145.520722 224.64 \r\nL 146.913235 224.64 \r\nL 146.913235 17.554286 \r\nL 145.520722 17.554286 \r\nz\r\n\" style=\"fill:#ff7f0e;opacity:0.7;\"/>\r\n   </g>\r\n   <g id=\"patch_173\">\r\n    <path clip-path=\"url(#pd3b01788d1)\" d=\"M 146.913235 224.64 \r\nL 148.305749 224.64 \r\nL 148.305749 47.527218 \r\nL 146.913235 47.527218 \r\nz\r\n\" style=\"fill:#ff7f0e;opacity:0.7;\"/>\r\n   </g>\r\n   <g id=\"patch_174\">\r\n    <path clip-path=\"url(#pd3b01788d1)\" d=\"M 148.305749 224.64 \r\nL 149.698262 224.64 \r\nL 149.698262 208.291128 \r\nL 148.305749 208.291128 \r\nz\r\n\" style=\"fill:#ff7f0e;opacity:0.7;\"/>\r\n   </g>\r\n   <g id=\"patch_175\">\r\n    <path clip-path=\"url(#pd3b01788d1)\" d=\"M 149.698262 224.64 \r\nL 151.090775 224.64 \r\nL 151.090775 202.841504 \r\nL 149.698262 202.841504 \r\nz\r\n\" style=\"fill:#ff7f0e;opacity:0.7;\"/>\r\n   </g>\r\n   <g id=\"patch_176\">\r\n    <path clip-path=\"url(#pd3b01788d1)\" d=\"M 151.090775 224.64 \r\nL 152.483289 224.64 \r\nL 152.483289 221.915188 \r\nL 151.090775 221.915188 \r\nz\r\n\" style=\"fill:#ff7f0e;opacity:0.7;\"/>\r\n   </g>\r\n   <g id=\"patch_177\">\r\n    <path clip-path=\"url(#pd3b01788d1)\" d=\"M 152.483289 224.64 \r\nL 153.875802 224.64 \r\nL 153.875802 219.190376 \r\nL 152.483289 219.190376 \r\nz\r\n\" style=\"fill:#ff7f0e;opacity:0.7;\"/>\r\n   </g>\r\n   <g id=\"patch_178\">\r\n    <path clip-path=\"url(#pd3b01788d1)\" d=\"M 153.875802 224.64 \r\nL 155.268316 224.64 \r\nL 155.268316 219.190376 \r\nL 153.875802 219.190376 \r\nz\r\n\" style=\"fill:#ff7f0e;opacity:0.7;\"/>\r\n   </g>\r\n   <g id=\"patch_179\">\r\n    <path clip-path=\"url(#pd3b01788d1)\" d=\"M 155.268316 224.64 \r\nL 156.660829 224.64 \r\nL 156.660829 219.190376 \r\nL 155.268316 219.190376 \r\nz\r\n\" style=\"fill:#ff7f0e;opacity:0.7;\"/>\r\n   </g>\r\n   <g id=\"patch_180\">\r\n    <path clip-path=\"url(#pd3b01788d1)\" d=\"M 156.660829 224.64 \r\nL 158.053342 224.64 \r\nL 158.053342 219.190376 \r\nL 156.660829 219.190376 \r\nz\r\n\" style=\"fill:#ff7f0e;opacity:0.7;\"/>\r\n   </g>\r\n   <g id=\"patch_181\">\r\n    <path clip-path=\"url(#pd3b01788d1)\" d=\"M 158.053342 224.64 \r\nL 159.445856 224.64 \r\nL 159.445856 221.915188 \r\nL 158.053342 221.915188 \r\nz\r\n\" style=\"fill:#ff7f0e;opacity:0.7;\"/>\r\n   </g>\r\n   <g id=\"patch_182\">\r\n    <path clip-path=\"url(#pd3b01788d1)\" d=\"M 159.445856 224.64 \r\nL 160.838369 224.64 \r\nL 160.838369 224.64 \r\nL 159.445856 224.64 \r\nz\r\n\" style=\"fill:#ff7f0e;opacity:0.7;\"/>\r\n   </g>\r\n   <g id=\"patch_183\">\r\n    <path clip-path=\"url(#pd3b01788d1)\" d=\"M 160.838369 224.64 \r\nL 162.230882 224.64 \r\nL 162.230882 216.465564 \r\nL 160.838369 216.465564 \r\nz\r\n\" style=\"fill:#ff7f0e;opacity:0.7;\"/>\r\n   </g>\r\n   <g id=\"patch_184\">\r\n    <path clip-path=\"url(#pd3b01788d1)\" d=\"M 162.230882 224.64 \r\nL 163.623396 224.64 \r\nL 163.623396 224.64 \r\nL 162.230882 224.64 \r\nz\r\n\" style=\"fill:#ff7f0e;opacity:0.7;\"/>\r\n   </g>\r\n   <g id=\"patch_185\">\r\n    <path clip-path=\"url(#pd3b01788d1)\" d=\"M 163.623396 224.64 \r\nL 165.015909 224.64 \r\nL 165.015909 224.64 \r\nL 163.623396 224.64 \r\nz\r\n\" style=\"fill:#ff7f0e;opacity:0.7;\"/>\r\n   </g>\r\n   <g id=\"patch_186\">\r\n    <path clip-path=\"url(#pd3b01788d1)\" d=\"M 165.015909 224.64 \r\nL 166.408422 224.64 \r\nL 166.408422 224.64 \r\nL 165.015909 224.64 \r\nz\r\n\" style=\"fill:#ff7f0e;opacity:0.7;\"/>\r\n   </g>\r\n   <g id=\"patch_187\">\r\n    <path clip-path=\"url(#pd3b01788d1)\" d=\"M 166.408422 224.64 \r\nL 167.800936 224.64 \r\nL 167.800936 224.64 \r\nL 166.408422 224.64 \r\nz\r\n\" style=\"fill:#ff7f0e;opacity:0.7;\"/>\r\n   </g>\r\n   <g id=\"patch_188\">\r\n    <path clip-path=\"url(#pd3b01788d1)\" d=\"M 167.800936 224.64 \r\nL 169.193449 224.64 \r\nL 169.193449 224.64 \r\nL 167.800936 224.64 \r\nz\r\n\" style=\"fill:#ff7f0e;opacity:0.7;\"/>\r\n   </g>\r\n   <g id=\"patch_189\">\r\n    <path clip-path=\"url(#pd3b01788d1)\" d=\"M 169.193449 224.64 \r\nL 170.585963 224.64 \r\nL 170.585963 224.64 \r\nL 169.193449 224.64 \r\nz\r\n\" style=\"fill:#ff7f0e;opacity:0.7;\"/>\r\n   </g>\r\n   <g id=\"patch_190\">\r\n    <path clip-path=\"url(#pd3b01788d1)\" d=\"M 170.585963 224.64 \r\nL 171.978476 224.64 \r\nL 171.978476 221.915188 \r\nL 170.585963 221.915188 \r\nz\r\n\" style=\"fill:#ff7f0e;opacity:0.7;\"/>\r\n   </g>\r\n   <g id=\"patch_191\">\r\n    <path clip-path=\"url(#pd3b01788d1)\" d=\"M 171.978476 224.64 \r\nL 173.370989 224.64 \r\nL 173.370989 224.64 \r\nL 171.978476 224.64 \r\nz\r\n\" style=\"fill:#ff7f0e;opacity:0.7;\"/>\r\n   </g>\r\n   <g id=\"patch_192\">\r\n    <path clip-path=\"url(#pd3b01788d1)\" d=\"M 173.370989 224.64 \r\nL 174.763503 224.64 \r\nL 174.763503 224.64 \r\nL 173.370989 224.64 \r\nz\r\n\" style=\"fill:#ff7f0e;opacity:0.7;\"/>\r\n   </g>\r\n   <g id=\"patch_193\">\r\n    <path clip-path=\"url(#pd3b01788d1)\" d=\"M 174.763503 224.64 \r\nL 176.156016 224.64 \r\nL 176.156016 224.64 \r\nL 174.763503 224.64 \r\nz\r\n\" style=\"fill:#ff7f0e;opacity:0.7;\"/>\r\n   </g>\r\n   <g id=\"patch_194\">\r\n    <path clip-path=\"url(#pd3b01788d1)\" d=\"M 176.156016 224.64 \r\nL 177.548529 224.64 \r\nL 177.548529 224.64 \r\nL 176.156016 224.64 \r\nz\r\n\" style=\"fill:#ff7f0e;opacity:0.7;\"/>\r\n   </g>\r\n   <g id=\"patch_195\">\r\n    <path clip-path=\"url(#pd3b01788d1)\" d=\"M 177.548529 224.64 \r\nL 178.941043 224.64 \r\nL 178.941043 224.64 \r\nL 177.548529 224.64 \r\nz\r\n\" style=\"fill:#ff7f0e;opacity:0.7;\"/>\r\n   </g>\r\n   <g id=\"patch_196\">\r\n    <path clip-path=\"url(#pd3b01788d1)\" d=\"M 178.941043 224.64 \r\nL 180.333556 224.64 \r\nL 180.333556 224.64 \r\nL 178.941043 224.64 \r\nz\r\n\" style=\"fill:#ff7f0e;opacity:0.7;\"/>\r\n   </g>\r\n   <g id=\"patch_197\">\r\n    <path clip-path=\"url(#pd3b01788d1)\" d=\"M 180.333556 224.64 \r\nL 181.72607 224.64 \r\nL 181.72607 224.64 \r\nL 180.333556 224.64 \r\nz\r\n\" style=\"fill:#ff7f0e;opacity:0.7;\"/>\r\n   </g>\r\n   <g id=\"patch_198\">\r\n    <path clip-path=\"url(#pd3b01788d1)\" d=\"M 181.72607 224.64 \r\nL 183.118583 224.64 \r\nL 183.118583 224.64 \r\nL 181.72607 224.64 \r\nz\r\n\" style=\"fill:#ff7f0e;opacity:0.7;\"/>\r\n   </g>\r\n   <g id=\"patch_199\">\r\n    <path clip-path=\"url(#pd3b01788d1)\" d=\"M 183.118583 224.64 \r\nL 184.511096 224.64 \r\nL 184.511096 224.64 \r\nL 183.118583 224.64 \r\nz\r\n\" style=\"fill:#ff7f0e;opacity:0.7;\"/>\r\n   </g>\r\n   <g id=\"patch_200\">\r\n    <path clip-path=\"url(#pd3b01788d1)\" d=\"M 184.511096 224.64 \r\nL 185.90361 224.64 \r\nL 185.90361 224.64 \r\nL 184.511096 224.64 \r\nz\r\n\" style=\"fill:#ff7f0e;opacity:0.7;\"/>\r\n   </g>\r\n   <g id=\"patch_201\">\r\n    <path clip-path=\"url(#pd3b01788d1)\" d=\"M 185.90361 224.64 \r\nL 187.296123 224.64 \r\nL 187.296123 224.64 \r\nL 185.90361 224.64 \r\nz\r\n\" style=\"fill:#ff7f0e;opacity:0.7;\"/>\r\n   </g>\r\n   <g id=\"patch_202\">\r\n    <path clip-path=\"url(#pd3b01788d1)\" d=\"M 187.296123 224.64 \r\nL 188.688636 224.64 \r\nL 188.688636 221.915188 \r\nL 187.296123 221.915188 \r\nz\r\n\" style=\"fill:#ff7f0e;opacity:0.7;\"/>\r\n   </g>\r\n   <g id=\"matplotlib.axis_1\">\r\n    <g id=\"xtick_1\">\r\n     <g id=\"line2d_1\">\r\n      <defs>\r\n       <path d=\"M 0 0 \r\nL 0 3.5 \r\n\" id=\"m7f08dfae4a\" style=\"stroke:#000000;stroke-width:0.8;\"/>\r\n      </defs>\r\n      <g>\r\n       <use style=\"stroke:#000000;stroke-width:0.8;\" x=\"40.816979\" xlink:href=\"#m7f08dfae4a\" y=\"224.64\"/>\r\n      </g>\r\n     </g>\r\n     <g id=\"text_1\">\r\n      <!-- 0 -->\r\n      <g transform=\"translate(37.635729 239.238437)scale(0.1 -0.1)\">\r\n       <defs>\r\n        <path d=\"M 31.78125 66.40625 \r\nQ 24.171875 66.40625 20.328125 58.90625 \r\nQ 16.5 51.421875 16.5 36.375 \r\nQ 16.5 21.390625 20.328125 13.890625 \r\nQ 24.171875 6.390625 31.78125 6.390625 \r\nQ 39.453125 6.390625 43.28125 13.890625 \r\nQ 47.125 21.390625 47.125 36.375 \r\nQ 47.125 51.421875 43.28125 58.90625 \r\nQ 39.453125 66.40625 31.78125 66.40625 \r\nz\r\nM 31.78125 74.21875 \r\nQ 44.046875 74.21875 50.515625 64.515625 \r\nQ 56.984375 54.828125 56.984375 36.375 \r\nQ 56.984375 17.96875 50.515625 8.265625 \r\nQ 44.046875 -1.421875 31.78125 -1.421875 \r\nQ 19.53125 -1.421875 13.0625 8.265625 \r\nQ 6.59375 17.96875 6.59375 36.375 \r\nQ 6.59375 54.828125 13.0625 64.515625 \r\nQ 19.53125 74.21875 31.78125 74.21875 \r\nz\r\n\" id=\"DejaVuSans-48\"/>\r\n       </defs>\r\n       <use xlink:href=\"#DejaVuSans-48\"/>\r\n      </g>\r\n     </g>\r\n    </g>\r\n    <g id=\"xtick_2\">\r\n     <g id=\"line2d_2\">\r\n      <g>\r\n       <use style=\"stroke:#000000;stroke-width:0.8;\" x=\"107.127139\" xlink:href=\"#m7f08dfae4a\" y=\"224.64\"/>\r\n      </g>\r\n     </g>\r\n     <g id=\"text_2\">\r\n      <!-- 100 -->\r\n      <g transform=\"translate(97.583389 239.238437)scale(0.1 -0.1)\">\r\n       <defs>\r\n        <path d=\"M 12.40625 8.296875 \r\nL 28.515625 8.296875 \r\nL 28.515625 63.921875 \r\nL 10.984375 60.40625 \r\nL 10.984375 69.390625 \r\nL 28.421875 72.90625 \r\nL 38.28125 72.90625 \r\nL 38.28125 8.296875 \r\nL 54.390625 8.296875 \r\nL 54.390625 0 \r\nL 12.40625 0 \r\nz\r\n\" id=\"DejaVuSans-49\"/>\r\n       </defs>\r\n       <use xlink:href=\"#DejaVuSans-49\"/>\r\n       <use x=\"63.623047\" xlink:href=\"#DejaVuSans-48\"/>\r\n       <use x=\"127.246094\" xlink:href=\"#DejaVuSans-48\"/>\r\n      </g>\r\n     </g>\r\n    </g>\r\n    <g id=\"xtick_3\">\r\n     <g id=\"line2d_3\">\r\n      <g>\r\n       <use style=\"stroke:#000000;stroke-width:0.8;\" x=\"173.437299\" xlink:href=\"#m7f08dfae4a\" y=\"224.64\"/>\r\n      </g>\r\n     </g>\r\n     <g id=\"text_3\">\r\n      <!-- 200 -->\r\n      <g transform=\"translate(163.893549 239.238437)scale(0.1 -0.1)\">\r\n       <defs>\r\n        <path d=\"M 19.1875 8.296875 \r\nL 53.609375 8.296875 \r\nL 53.609375 0 \r\nL 7.328125 0 \r\nL 7.328125 8.296875 \r\nQ 12.9375 14.109375 22.625 23.890625 \r\nQ 32.328125 33.6875 34.8125 36.53125 \r\nQ 39.546875 41.84375 41.421875 45.53125 \r\nQ 43.3125 49.21875 43.3125 52.78125 \r\nQ 43.3125 58.59375 39.234375 62.25 \r\nQ 35.15625 65.921875 28.609375 65.921875 \r\nQ 23.96875 65.921875 18.8125 64.3125 \r\nQ 13.671875 62.703125 7.8125 59.421875 \r\nL 7.8125 69.390625 \r\nQ 13.765625 71.78125 18.9375 73 \r\nQ 24.125 74.21875 28.421875 74.21875 \r\nQ 39.75 74.21875 46.484375 68.546875 \r\nQ 53.21875 62.890625 53.21875 53.421875 \r\nQ 53.21875 48.921875 51.53125 44.890625 \r\nQ 49.859375 40.875 45.40625 35.40625 \r\nQ 44.1875 33.984375 37.640625 27.21875 \r\nQ 31.109375 20.453125 19.1875 8.296875 \r\nz\r\n\" id=\"DejaVuSans-50\"/>\r\n       </defs>\r\n       <use xlink:href=\"#DejaVuSans-50\"/>\r\n       <use x=\"63.623047\" xlink:href=\"#DejaVuSans-48\"/>\r\n       <use x=\"127.246094\" xlink:href=\"#DejaVuSans-48\"/>\r\n      </g>\r\n     </g>\r\n    </g>\r\n    <g id=\"xtick_4\">\r\n     <g id=\"line2d_4\">\r\n      <g>\r\n       <use style=\"stroke:#000000;stroke-width:0.8;\" x=\"239.74746\" xlink:href=\"#m7f08dfae4a\" y=\"224.64\"/>\r\n      </g>\r\n     </g>\r\n     <g id=\"text_4\">\r\n      <!-- 300 -->\r\n      <g transform=\"translate(230.20371 239.238437)scale(0.1 -0.1)\">\r\n       <defs>\r\n        <path d=\"M 40.578125 39.3125 \r\nQ 47.65625 37.796875 51.625 33 \r\nQ 55.609375 28.21875 55.609375 21.1875 \r\nQ 55.609375 10.40625 48.1875 4.484375 \r\nQ 40.765625 -1.421875 27.09375 -1.421875 \r\nQ 22.515625 -1.421875 17.65625 -0.515625 \r\nQ 12.796875 0.390625 7.625 2.203125 \r\nL 7.625 11.71875 \r\nQ 11.71875 9.328125 16.59375 8.109375 \r\nQ 21.484375 6.890625 26.8125 6.890625 \r\nQ 36.078125 6.890625 40.9375 10.546875 \r\nQ 45.796875 14.203125 45.796875 21.1875 \r\nQ 45.796875 27.640625 41.28125 31.265625 \r\nQ 36.765625 34.90625 28.71875 34.90625 \r\nL 20.21875 34.90625 \r\nL 20.21875 43.015625 \r\nL 29.109375 43.015625 \r\nQ 36.375 43.015625 40.234375 45.921875 \r\nQ 44.09375 48.828125 44.09375 54.296875 \r\nQ 44.09375 59.90625 40.109375 62.90625 \r\nQ 36.140625 65.921875 28.71875 65.921875 \r\nQ 24.65625 65.921875 20.015625 65.03125 \r\nQ 15.375 64.15625 9.8125 62.3125 \r\nL 9.8125 71.09375 \r\nQ 15.4375 72.65625 20.34375 73.4375 \r\nQ 25.25 74.21875 29.59375 74.21875 \r\nQ 40.828125 74.21875 47.359375 69.109375 \r\nQ 53.90625 64.015625 53.90625 55.328125 \r\nQ 53.90625 49.265625 50.4375 45.09375 \r\nQ 46.96875 40.921875 40.578125 39.3125 \r\nz\r\n\" id=\"DejaVuSans-51\"/>\r\n       </defs>\r\n       <use xlink:href=\"#DejaVuSans-51\"/>\r\n       <use x=\"63.623047\" xlink:href=\"#DejaVuSans-48\"/>\r\n       <use x=\"127.246094\" xlink:href=\"#DejaVuSans-48\"/>\r\n      </g>\r\n     </g>\r\n    </g>\r\n    <g id=\"xtick_5\">\r\n     <g id=\"line2d_5\">\r\n      <g>\r\n       <use style=\"stroke:#000000;stroke-width:0.8;\" x=\"306.05762\" xlink:href=\"#m7f08dfae4a\" y=\"224.64\"/>\r\n      </g>\r\n     </g>\r\n     <g id=\"text_5\">\r\n      <!-- 400 -->\r\n      <g transform=\"translate(296.51387 239.238437)scale(0.1 -0.1)\">\r\n       <defs>\r\n        <path d=\"M 37.796875 64.3125 \r\nL 12.890625 25.390625 \r\nL 37.796875 25.390625 \r\nz\r\nM 35.203125 72.90625 \r\nL 47.609375 72.90625 \r\nL 47.609375 25.390625 \r\nL 58.015625 25.390625 \r\nL 58.015625 17.1875 \r\nL 47.609375 17.1875 \r\nL 47.609375 0 \r\nL 37.796875 0 \r\nL 37.796875 17.1875 \r\nL 4.890625 17.1875 \r\nL 4.890625 26.703125 \r\nz\r\n\" id=\"DejaVuSans-52\"/>\r\n       </defs>\r\n       <use xlink:href=\"#DejaVuSans-52\"/>\r\n       <use x=\"63.623047\" xlink:href=\"#DejaVuSans-48\"/>\r\n       <use x=\"127.246094\" xlink:href=\"#DejaVuSans-48\"/>\r\n      </g>\r\n     </g>\r\n    </g>\r\n   </g>\r\n   <g id=\"matplotlib.axis_2\">\r\n    <g id=\"ytick_1\">\r\n     <g id=\"line2d_6\">\r\n      <defs>\r\n       <path d=\"M 0 0 \r\nL -3.5 0 \r\n\" id=\"m03f90d1b3d\" style=\"stroke:#000000;stroke-width:0.8;\"/>\r\n      </defs>\r\n      <g>\r\n       <use style=\"stroke:#000000;stroke-width:0.8;\" x=\"26.925\" xlink:href=\"#m03f90d1b3d\" y=\"224.64\"/>\r\n      </g>\r\n     </g>\r\n     <g id=\"text_6\">\r\n      <!-- 0 -->\r\n      <g transform=\"translate(13.5625 228.439219)scale(0.1 -0.1)\">\r\n       <use xlink:href=\"#DejaVuSans-48\"/>\r\n      </g>\r\n     </g>\r\n    </g>\r\n    <g id=\"ytick_2\">\r\n     <g id=\"line2d_7\">\r\n      <g>\r\n       <use style=\"stroke:#000000;stroke-width:0.8;\" x=\"26.925\" xlink:href=\"#m03f90d1b3d\" y=\"197.39188\"/>\r\n      </g>\r\n     </g>\r\n     <g id=\"text_7\">\r\n      <!-- 10 -->\r\n      <g transform=\"translate(7.2 201.191098)scale(0.1 -0.1)\">\r\n       <use xlink:href=\"#DejaVuSans-49\"/>\r\n       <use x=\"63.623047\" xlink:href=\"#DejaVuSans-48\"/>\r\n      </g>\r\n     </g>\r\n    </g>\r\n    <g id=\"ytick_3\">\r\n     <g id=\"line2d_8\">\r\n      <g>\r\n       <use style=\"stroke:#000000;stroke-width:0.8;\" x=\"26.925\" xlink:href=\"#m03f90d1b3d\" y=\"170.143759\"/>\r\n      </g>\r\n     </g>\r\n     <g id=\"text_8\">\r\n      <!-- 20 -->\r\n      <g transform=\"translate(7.2 173.942978)scale(0.1 -0.1)\">\r\n       <use xlink:href=\"#DejaVuSans-50\"/>\r\n       <use x=\"63.623047\" xlink:href=\"#DejaVuSans-48\"/>\r\n      </g>\r\n     </g>\r\n    </g>\r\n    <g id=\"ytick_4\">\r\n     <g id=\"line2d_9\">\r\n      <g>\r\n       <use style=\"stroke:#000000;stroke-width:0.8;\" x=\"26.925\" xlink:href=\"#m03f90d1b3d\" y=\"142.895639\"/>\r\n      </g>\r\n     </g>\r\n     <g id=\"text_9\">\r\n      <!-- 30 -->\r\n      <g transform=\"translate(7.2 146.694858)scale(0.1 -0.1)\">\r\n       <use xlink:href=\"#DejaVuSans-51\"/>\r\n       <use x=\"63.623047\" xlink:href=\"#DejaVuSans-48\"/>\r\n      </g>\r\n     </g>\r\n    </g>\r\n    <g id=\"ytick_5\">\r\n     <g id=\"line2d_10\">\r\n      <g>\r\n       <use style=\"stroke:#000000;stroke-width:0.8;\" x=\"26.925\" xlink:href=\"#m03f90d1b3d\" y=\"115.647519\"/>\r\n      </g>\r\n     </g>\r\n     <g id=\"text_10\">\r\n      <!-- 40 -->\r\n      <g transform=\"translate(7.2 119.446738)scale(0.1 -0.1)\">\r\n       <use xlink:href=\"#DejaVuSans-52\"/>\r\n       <use x=\"63.623047\" xlink:href=\"#DejaVuSans-48\"/>\r\n      </g>\r\n     </g>\r\n    </g>\r\n    <g id=\"ytick_6\">\r\n     <g id=\"line2d_11\">\r\n      <g>\r\n       <use style=\"stroke:#000000;stroke-width:0.8;\" x=\"26.925\" xlink:href=\"#m03f90d1b3d\" y=\"88.399398\"/>\r\n      </g>\r\n     </g>\r\n     <g id=\"text_11\">\r\n      <!-- 50 -->\r\n      <g transform=\"translate(7.2 92.198617)scale(0.1 -0.1)\">\r\n       <defs>\r\n        <path d=\"M 10.796875 72.90625 \r\nL 49.515625 72.90625 \r\nL 49.515625 64.59375 \r\nL 19.828125 64.59375 \r\nL 19.828125 46.734375 \r\nQ 21.96875 47.46875 24.109375 47.828125 \r\nQ 26.265625 48.1875 28.421875 48.1875 \r\nQ 40.625 48.1875 47.75 41.5 \r\nQ 54.890625 34.8125 54.890625 23.390625 \r\nQ 54.890625 11.625 47.5625 5.09375 \r\nQ 40.234375 -1.421875 26.90625 -1.421875 \r\nQ 22.3125 -1.421875 17.546875 -0.640625 \r\nQ 12.796875 0.140625 7.71875 1.703125 \r\nL 7.71875 11.625 \r\nQ 12.109375 9.234375 16.796875 8.0625 \r\nQ 21.484375 6.890625 26.703125 6.890625 \r\nQ 35.15625 6.890625 40.078125 11.328125 \r\nQ 45.015625 15.765625 45.015625 23.390625 \r\nQ 45.015625 31 40.078125 35.4375 \r\nQ 35.15625 39.890625 26.703125 39.890625 \r\nQ 22.75 39.890625 18.8125 39.015625 \r\nQ 14.890625 38.140625 10.796875 36.28125 \r\nz\r\n\" id=\"DejaVuSans-53\"/>\r\n       </defs>\r\n       <use xlink:href=\"#DejaVuSans-53\"/>\r\n       <use x=\"63.623047\" xlink:href=\"#DejaVuSans-48\"/>\r\n      </g>\r\n     </g>\r\n    </g>\r\n    <g id=\"ytick_7\">\r\n     <g id=\"line2d_12\">\r\n      <g>\r\n       <use style=\"stroke:#000000;stroke-width:0.8;\" x=\"26.925\" xlink:href=\"#m03f90d1b3d\" y=\"61.151278\"/>\r\n      </g>\r\n     </g>\r\n     <g id=\"text_12\">\r\n      <!-- 60 -->\r\n      <g transform=\"translate(7.2 64.950497)scale(0.1 -0.1)\">\r\n       <defs>\r\n        <path d=\"M 33.015625 40.375 \r\nQ 26.375 40.375 22.484375 35.828125 \r\nQ 18.609375 31.296875 18.609375 23.390625 \r\nQ 18.609375 15.53125 22.484375 10.953125 \r\nQ 26.375 6.390625 33.015625 6.390625 \r\nQ 39.65625 6.390625 43.53125 10.953125 \r\nQ 47.40625 15.53125 47.40625 23.390625 \r\nQ 47.40625 31.296875 43.53125 35.828125 \r\nQ 39.65625 40.375 33.015625 40.375 \r\nz\r\nM 52.59375 71.296875 \r\nL 52.59375 62.3125 \r\nQ 48.875 64.0625 45.09375 64.984375 \r\nQ 41.3125 65.921875 37.59375 65.921875 \r\nQ 27.828125 65.921875 22.671875 59.328125 \r\nQ 17.53125 52.734375 16.796875 39.40625 \r\nQ 19.671875 43.65625 24.015625 45.921875 \r\nQ 28.375 48.1875 33.59375 48.1875 \r\nQ 44.578125 48.1875 50.953125 41.515625 \r\nQ 57.328125 34.859375 57.328125 23.390625 \r\nQ 57.328125 12.15625 50.6875 5.359375 \r\nQ 44.046875 -1.421875 33.015625 -1.421875 \r\nQ 20.359375 -1.421875 13.671875 8.265625 \r\nQ 6.984375 17.96875 6.984375 36.375 \r\nQ 6.984375 53.65625 15.1875 63.9375 \r\nQ 23.390625 74.21875 37.203125 74.21875 \r\nQ 40.921875 74.21875 44.703125 73.484375 \r\nQ 48.484375 72.75 52.59375 71.296875 \r\nz\r\n\" id=\"DejaVuSans-54\"/>\r\n       </defs>\r\n       <use xlink:href=\"#DejaVuSans-54\"/>\r\n       <use x=\"63.623047\" xlink:href=\"#DejaVuSans-48\"/>\r\n      </g>\r\n     </g>\r\n    </g>\r\n    <g id=\"ytick_8\">\r\n     <g id=\"line2d_13\">\r\n      <g>\r\n       <use style=\"stroke:#000000;stroke-width:0.8;\" x=\"26.925\" xlink:href=\"#m03f90d1b3d\" y=\"33.903158\"/>\r\n      </g>\r\n     </g>\r\n     <g id=\"text_13\">\r\n      <!-- 70 -->\r\n      <g transform=\"translate(7.2 37.702377)scale(0.1 -0.1)\">\r\n       <defs>\r\n        <path d=\"M 8.203125 72.90625 \r\nL 55.078125 72.90625 \r\nL 55.078125 68.703125 \r\nL 28.609375 0 \r\nL 18.3125 0 \r\nL 43.21875 64.59375 \r\nL 8.203125 64.59375 \r\nz\r\n\" id=\"DejaVuSans-55\"/>\r\n       </defs>\r\n       <use xlink:href=\"#DejaVuSans-55\"/>\r\n       <use x=\"63.623047\" xlink:href=\"#DejaVuSans-48\"/>\r\n      </g>\r\n     </g>\r\n    </g>\r\n   </g>\r\n   <g id=\"patch_203\">\r\n    <path d=\"M 26.925 224.64 \r\nL 26.925 7.2 \r\n\" style=\"fill:none;stroke:#000000;stroke-linecap:square;stroke-linejoin:miter;stroke-width:0.8;\"/>\r\n   </g>\r\n   <g id=\"patch_204\">\r\n    <path d=\"M 361.725 224.64 \r\nL 361.725 7.2 \r\n\" style=\"fill:none;stroke:#000000;stroke-linecap:square;stroke-linejoin:miter;stroke-width:0.8;\"/>\r\n   </g>\r\n   <g id=\"patch_205\">\r\n    <path d=\"M 26.925 224.64 \r\nL 361.725 224.64 \r\n\" style=\"fill:none;stroke:#000000;stroke-linecap:square;stroke-linejoin:miter;stroke-width:0.8;\"/>\r\n   </g>\r\n   <g id=\"patch_206\">\r\n    <path d=\"M 26.925 7.2 \r\nL 361.725 7.2 \r\n\" style=\"fill:none;stroke:#000000;stroke-linecap:square;stroke-linejoin:miter;stroke-width:0.8;\"/>\r\n   </g>\r\n  </g>\r\n </g>\r\n <defs>\r\n  <clipPath id=\"pd3b01788d1\">\r\n   <rect height=\"217.44\" width=\"334.8\" x=\"26.925\" y=\"7.2\"/>\r\n  </clipPath>\r\n </defs>\r\n</svg>\r\n",
      "image/png": "[encoded data removed]"
     },
     "metadata": {
      "needs_background": "light"
     }
    }
   ],
   "source": [
    "plt.hist(data[data['label'] == 'ham']['length'], bins = 100, alpha = 0.7)\n",
    "plt.hist(data[data['label'] == 'spam']['length'], bins = 100, alpha = 0.7)\n",
    "\n",
    "plt.show()"
   ]
  },
  {
   "cell_type": "code",
   "execution_count": 14,
   "metadata": {},
   "outputs": [
    {
     "output_type": "display_data",
     "data": {
      "text/plain": "<Figure size 432x288 with 1 Axes>",
      "image/svg+xml": "<?xml version=\"1.0\" encoding=\"utf-8\" standalone=\"no\"?>\r\n<!DOCTYPE svg PUBLIC \"-//W3C//DTD SVG 1.1//EN\"\r\n  \"http://www.w3.org/Graphics/SVG/1.1/DTD/svg11.dtd\">\r\n<!-- Created with matplotlib (https://matplotlib.org/) -->\r\n<svg height=\"248.518125pt\" version=\"1.1\" viewBox=\"0 0 375.2875 248.518125\" width=\"375.2875pt\" xmlns=\"http://www.w3.org/2000/svg\" xmlns:xlink=\"http://www.w3.org/1999/xlink\">\r\n <metadata>\r\n  <rdf:RDF xmlns:cc=\"http://creativecommons.org/ns#\" xmlns:dc=\"http://purl.org/dc/elements/1.1/\" xmlns:rdf=\"http://www.w3.org/1999/02/22-rdf-syntax-ns#\">\r\n   <cc:Work>\r\n    <dc:type rdf:resource=\"http://purl.org/dc/dcmitype/StillImage\"/>\r\n    <dc:date>2021-03-31T12:23:27.343412</dc:date>\r\n    <dc:format>image/svg+xml</dc:format>\r\n    <dc:creator>\r\n     <cc:Agent>\r\n      <dc:title>Matplotlib v3.3.2, https://matplotlib.org/</dc:title>\r\n     </cc:Agent>\r\n    </dc:creator>\r\n   </cc:Work>\r\n  </rdf:RDF>\r\n </metadata>\r\n <defs>\r\n  <style type=\"text/css\">*{stroke-linecap:butt;stroke-linejoin:round;}</style>\r\n </defs>\r\n <g id=\"figure_1\">\r\n  <g id=\"patch_1\">\r\n   <path d=\"M 0 248.518125 \r\nL 375.2875 248.518125 \r\nL 375.2875 0 \r\nL 0 0 \r\nz\r\n\" style=\"fill:none;\"/>\r\n  </g>\r\n  <g id=\"axes_1\">\r\n   <g id=\"patch_2\">\r\n    <path d=\"M 33.2875 224.64 \r\nL 368.0875 224.64 \r\nL 368.0875 7.2 \r\nL 33.2875 7.2 \r\nz\r\n\" style=\"fill:#ffffff;\"/>\r\n   </g>\r\n   <g id=\"patch_3\">\r\n    <path clip-path=\"url(#p6770e5bec7)\" d=\"M 48.505682 224.64 \r\nL 51.549318 224.64 \r\nL 51.549318 118.180443 \r\nL 48.505682 118.180443 \r\nz\r\n\" style=\"fill:#1f77b4;opacity:0.7;\"/>\r\n   </g>\r\n   <g id=\"patch_4\">\r\n    <path clip-path=\"url(#p6770e5bec7)\" d=\"M 51.549318 224.64 \r\nL 54.592955 224.64 \r\nL 54.592955 224.64 \r\nL 51.549318 224.64 \r\nz\r\n\" style=\"fill:#1f77b4;opacity:0.7;\"/>\r\n   </g>\r\n   <g id=\"patch_5\">\r\n    <path clip-path=\"url(#p6770e5bec7)\" d=\"M 54.592955 224.64 \r\nL 57.636591 224.64 \r\nL 57.636591 21.929336 \r\nL 54.592955 21.929336 \r\nz\r\n\" style=\"fill:#1f77b4;opacity:0.7;\"/>\r\n   </g>\r\n   <g id=\"patch_6\">\r\n    <path clip-path=\"url(#p6770e5bec7)\" d=\"M 57.636591 224.64 \r\nL 60.680227 224.64 \r\nL 60.680227 224.64 \r\nL 57.636591 224.64 \r\nz\r\n\" style=\"fill:#1f77b4;opacity:0.7;\"/>\r\n   </g>\r\n   <g id=\"patch_7\">\r\n    <path clip-path=\"url(#p6770e5bec7)\" d=\"M 60.680227 224.64 \r\nL 63.723864 224.64 \r\nL 63.723864 17.554286 \r\nL 60.680227 17.554286 \r\nz\r\n\" style=\"fill:#1f77b4;opacity:0.7;\"/>\r\n   </g>\r\n   <g id=\"patch_8\">\r\n    <path clip-path=\"url(#p6770e5bec7)\" d=\"M 63.723864 224.64 \r\nL 66.7675 224.64 \r\nL 66.7675 224.64 \r\nL 63.723864 224.64 \r\nz\r\n\" style=\"fill:#1f77b4;opacity:0.7;\"/>\r\n   </g>\r\n   <g id=\"patch_9\">\r\n    <path clip-path=\"url(#p6770e5bec7)\" d=\"M 66.7675 224.64 \r\nL 69.811136 224.64 \r\nL 69.811136 224.64 \r\nL 66.7675 224.64 \r\nz\r\n\" style=\"fill:#1f77b4;opacity:0.7;\"/>\r\n   </g>\r\n   <g id=\"patch_10\">\r\n    <path clip-path=\"url(#p6770e5bec7)\" d=\"M 69.811136 224.64 \r\nL 72.854773 224.64 \r\nL 72.854773 49.637988 \r\nL 69.811136 49.637988 \r\nz\r\n\" style=\"fill:#1f77b4;opacity:0.7;\"/>\r\n   </g>\r\n   <g id=\"patch_11\">\r\n    <path clip-path=\"url(#p6770e5bec7)\" d=\"M 72.854773 224.64 \r\nL 75.898409 224.64 \r\nL 75.898409 224.64 \r\nL 72.854773 224.64 \r\nz\r\n\" style=\"fill:#1f77b4;opacity:0.7;\"/>\r\n   </g>\r\n   <g id=\"patch_12\">\r\n    <path clip-path=\"url(#p6770e5bec7)\" d=\"M 75.898409 224.64 \r\nL 78.942045 224.64 \r\nL 78.942045 118.180443 \r\nL 75.898409 118.180443 \r\nz\r\n\" style=\"fill:#1f77b4;opacity:0.7;\"/>\r\n   </g>\r\n   <g id=\"patch_13\">\r\n    <path clip-path=\"url(#p6770e5bec7)\" d=\"M 78.942045 224.64 \r\nL 81.985682 224.64 \r\nL 81.985682 224.64 \r\nL 78.942045 224.64 \r\nz\r\n\" style=\"fill:#1f77b4;opacity:0.7;\"/>\r\n   </g>\r\n   <g id=\"patch_14\">\r\n    <path clip-path=\"url(#p6770e5bec7)\" d=\"M 81.985682 224.64 \r\nL 85.029318 224.64 \r\nL 85.029318 154.639195 \r\nL 81.985682 154.639195 \r\nz\r\n\" style=\"fill:#1f77b4;opacity:0.7;\"/>\r\n   </g>\r\n   <g id=\"patch_15\">\r\n    <path clip-path=\"url(#p6770e5bec7)\" d=\"M 85.029318 224.64 \r\nL 88.072955 224.64 \r\nL 88.072955 224.64 \r\nL 85.029318 224.64 \r\nz\r\n\" style=\"fill:#1f77b4;opacity:0.7;\"/>\r\n   </g>\r\n   <g id=\"patch_16\">\r\n    <path clip-path=\"url(#p6770e5bec7)\" d=\"M 88.072955 224.64 \r\nL 91.116591 224.64 \r\nL 91.116591 224.64 \r\nL 88.072955 224.64 \r\nz\r\n\" style=\"fill:#1f77b4;opacity:0.7;\"/>\r\n   </g>\r\n   <g id=\"patch_17\">\r\n    <path clip-path=\"url(#p6770e5bec7)\" d=\"M 91.116591 224.64 \r\nL 94.160227 224.64 \r\nL 94.160227 163.389296 \r\nL 91.116591 163.389296 \r\nz\r\n\" style=\"fill:#1f77b4;opacity:0.7;\"/>\r\n   </g>\r\n   <g id=\"patch_18\">\r\n    <path clip-path=\"url(#p6770e5bec7)\" d=\"M 94.160227 224.64 \r\nL 97.203864 224.64 \r\nL 97.203864 224.64 \r\nL 94.160227 224.64 \r\nz\r\n\" style=\"fill:#1f77b4;opacity:0.7;\"/>\r\n   </g>\r\n   <g id=\"patch_19\">\r\n    <path clip-path=\"url(#p6770e5bec7)\" d=\"M 97.203864 224.64 \r\nL 100.2475 224.64 \r\nL 100.2475 186.722897 \r\nL 97.203864 186.722897 \r\nz\r\n\" style=\"fill:#1f77b4;opacity:0.7;\"/>\r\n   </g>\r\n   <g id=\"patch_20\">\r\n    <path clip-path=\"url(#p6770e5bec7)\" d=\"M 100.2475 224.64 \r\nL 103.291136 224.64 \r\nL 103.291136 224.64 \r\nL 100.2475 224.64 \r\nz\r\n\" style=\"fill:#1f77b4;opacity:0.7;\"/>\r\n   </g>\r\n   <g id=\"patch_21\">\r\n    <path clip-path=\"url(#p6770e5bec7)\" d=\"M 103.291136 224.64 \r\nL 106.334773 224.64 \r\nL 106.334773 224.64 \r\nL 103.291136 224.64 \r\nz\r\n\" style=\"fill:#1f77b4;opacity:0.7;\"/>\r\n   </g>\r\n   <g id=\"patch_22\">\r\n    <path clip-path=\"url(#p6770e5bec7)\" d=\"M 106.334773 224.64 \r\nL 109.378409 224.64 \r\nL 109.378409 205.681449 \r\nL 106.334773 205.681449 \r\nz\r\n\" style=\"fill:#1f77b4;opacity:0.7;\"/>\r\n   </g>\r\n   <g id=\"patch_23\">\r\n    <path clip-path=\"url(#p6770e5bec7)\" d=\"M 109.378409 224.64 \r\nL 112.422045 224.64 \r\nL 112.422045 224.64 \r\nL 109.378409 224.64 \r\nz\r\n\" style=\"fill:#1f77b4;opacity:0.7;\"/>\r\n   </g>\r\n   <g id=\"patch_24\">\r\n    <path clip-path=\"url(#p6770e5bec7)\" d=\"M 112.422045 224.64 \r\nL 115.465682 224.64 \r\nL 115.465682 201.306398 \r\nL 112.422045 201.306398 \r\nz\r\n\" style=\"fill:#1f77b4;opacity:0.7;\"/>\r\n   </g>\r\n   <g id=\"patch_25\">\r\n    <path clip-path=\"url(#p6770e5bec7)\" d=\"M 115.465682 224.64 \r\nL 118.509318 224.64 \r\nL 118.509318 224.64 \r\nL 115.465682 224.64 \r\nz\r\n\" style=\"fill:#1f77b4;opacity:0.7;\"/>\r\n   </g>\r\n   <g id=\"patch_26\">\r\n    <path clip-path=\"url(#p6770e5bec7)\" d=\"M 118.509318 224.64 \r\nL 121.552955 224.64 \r\nL 121.552955 212.973199 \r\nL 118.509318 212.973199 \r\nz\r\n\" style=\"fill:#1f77b4;opacity:0.7;\"/>\r\n   </g>\r\n   <g id=\"patch_27\">\r\n    <path clip-path=\"url(#p6770e5bec7)\" d=\"M 121.552955 224.64 \r\nL 124.596591 224.64 \r\nL 124.596591 224.64 \r\nL 121.552955 224.64 \r\nz\r\n\" style=\"fill:#1f77b4;opacity:0.7;\"/>\r\n   </g>\r\n   <g id=\"patch_28\">\r\n    <path clip-path=\"url(#p6770e5bec7)\" d=\"M 124.596591 224.64 \r\nL 127.640227 224.64 \r\nL 127.640227 224.64 \r\nL 124.596591 224.64 \r\nz\r\n\" style=\"fill:#1f77b4;opacity:0.7;\"/>\r\n   </g>\r\n   <g id=\"patch_29\">\r\n    <path clip-path=\"url(#p6770e5bec7)\" d=\"M 127.640227 224.64 \r\nL 130.683864 224.64 \r\nL 130.683864 210.056499 \r\nL 127.640227 210.056499 \r\nz\r\n\" style=\"fill:#1f77b4;opacity:0.7;\"/>\r\n   </g>\r\n   <g id=\"patch_30\">\r\n    <path clip-path=\"url(#p6770e5bec7)\" d=\"M 130.683864 224.64 \r\nL 133.7275 224.64 \r\nL 133.7275 224.64 \r\nL 130.683864 224.64 \r\nz\r\n\" style=\"fill:#1f77b4;opacity:0.7;\"/>\r\n   </g>\r\n   <g id=\"patch_31\">\r\n    <path clip-path=\"url(#p6770e5bec7)\" d=\"M 133.7275 224.64 \r\nL 136.771136 224.64 \r\nL 136.771136 221.7233 \r\nL 133.7275 221.7233 \r\nz\r\n\" style=\"fill:#1f77b4;opacity:0.7;\"/>\r\n   </g>\r\n   <g id=\"patch_32\">\r\n    <path clip-path=\"url(#p6770e5bec7)\" d=\"M 136.771136 224.64 \r\nL 139.814773 224.64 \r\nL 139.814773 224.64 \r\nL 136.771136 224.64 \r\nz\r\n\" style=\"fill:#1f77b4;opacity:0.7;\"/>\r\n   </g>\r\n   <g id=\"patch_33\">\r\n    <path clip-path=\"url(#p6770e5bec7)\" d=\"M 139.814773 224.64 \r\nL 142.858409 224.64 \r\nL 142.858409 214.431549 \r\nL 139.814773 214.431549 \r\nz\r\n\" style=\"fill:#1f77b4;opacity:0.7;\"/>\r\n   </g>\r\n   <g id=\"patch_34\">\r\n    <path clip-path=\"url(#p6770e5bec7)\" d=\"M 142.858409 224.64 \r\nL 145.902045 224.64 \r\nL 145.902045 224.64 \r\nL 142.858409 224.64 \r\nz\r\n\" style=\"fill:#1f77b4;opacity:0.7;\"/>\r\n   </g>\r\n   <g id=\"patch_35\">\r\n    <path clip-path=\"url(#p6770e5bec7)\" d=\"M 145.902045 224.64 \r\nL 148.945682 224.64 \r\nL 148.945682 224.64 \r\nL 145.902045 224.64 \r\nz\r\n\" style=\"fill:#1f77b4;opacity:0.7;\"/>\r\n   </g>\r\n   <g id=\"patch_36\">\r\n    <path clip-path=\"url(#p6770e5bec7)\" d=\"M 148.945682 224.64 \r\nL 151.989318 224.64 \r\nL 151.989318 218.8066 \r\nL 148.945682 218.8066 \r\nz\r\n\" style=\"fill:#1f77b4;opacity:0.7;\"/>\r\n   </g>\r\n   <g id=\"patch_37\">\r\n    <path clip-path=\"url(#p6770e5bec7)\" d=\"M 151.989318 224.64 \r\nL 155.032955 224.64 \r\nL 155.032955 224.64 \r\nL 151.989318 224.64 \r\nz\r\n\" style=\"fill:#1f77b4;opacity:0.7;\"/>\r\n   </g>\r\n   <g id=\"patch_38\">\r\n    <path clip-path=\"url(#p6770e5bec7)\" d=\"M 155.032955 224.64 \r\nL 158.076591 224.64 \r\nL 158.076591 218.8066 \r\nL 155.032955 218.8066 \r\nz\r\n\" style=\"fill:#1f77b4;opacity:0.7;\"/>\r\n   </g>\r\n   <g id=\"patch_39\">\r\n    <path clip-path=\"url(#p6770e5bec7)\" d=\"M 158.076591 224.64 \r\nL 161.120227 224.64 \r\nL 161.120227 224.64 \r\nL 158.076591 224.64 \r\nz\r\n\" style=\"fill:#1f77b4;opacity:0.7;\"/>\r\n   </g>\r\n   <g id=\"patch_40\">\r\n    <path clip-path=\"url(#p6770e5bec7)\" d=\"M 161.120227 224.64 \r\nL 164.163864 224.64 \r\nL 164.163864 224.64 \r\nL 161.120227 224.64 \r\nz\r\n\" style=\"fill:#1f77b4;opacity:0.7;\"/>\r\n   </g>\r\n   <g id=\"patch_41\">\r\n    <path clip-path=\"url(#p6770e5bec7)\" d=\"M 164.163864 224.64 \r\nL 167.2075 224.64 \r\nL 167.2075 223.18165 \r\nL 164.163864 223.18165 \r\nz\r\n\" style=\"fill:#1f77b4;opacity:0.7;\"/>\r\n   </g>\r\n   <g id=\"patch_42\">\r\n    <path clip-path=\"url(#p6770e5bec7)\" d=\"M 167.2075 224.64 \r\nL 170.251136 224.64 \r\nL 170.251136 224.64 \r\nL 167.2075 224.64 \r\nz\r\n\" style=\"fill:#1f77b4;opacity:0.7;\"/>\r\n   </g>\r\n   <g id=\"patch_43\">\r\n    <path clip-path=\"url(#p6770e5bec7)\" d=\"M 170.251136 224.64 \r\nL 173.294773 224.64 \r\nL 173.294773 224.64 \r\nL 170.251136 224.64 \r\nz\r\n\" style=\"fill:#1f77b4;opacity:0.7;\"/>\r\n   </g>\r\n   <g id=\"patch_44\">\r\n    <path clip-path=\"url(#p6770e5bec7)\" d=\"M 173.294773 224.64 \r\nL 176.338409 224.64 \r\nL 176.338409 224.64 \r\nL 173.294773 224.64 \r\nz\r\n\" style=\"fill:#1f77b4;opacity:0.7;\"/>\r\n   </g>\r\n   <g id=\"patch_45\">\r\n    <path clip-path=\"url(#p6770e5bec7)\" d=\"M 176.338409 224.64 \r\nL 179.382045 224.64 \r\nL 179.382045 221.7233 \r\nL 176.338409 221.7233 \r\nz\r\n\" style=\"fill:#1f77b4;opacity:0.7;\"/>\r\n   </g>\r\n   <g id=\"patch_46\">\r\n    <path clip-path=\"url(#p6770e5bec7)\" d=\"M 179.382045 224.64 \r\nL 182.425682 224.64 \r\nL 182.425682 224.64 \r\nL 179.382045 224.64 \r\nz\r\n\" style=\"fill:#1f77b4;opacity:0.7;\"/>\r\n   </g>\r\n   <g id=\"patch_47\">\r\n    <path clip-path=\"url(#p6770e5bec7)\" d=\"M 182.425682 224.64 \r\nL 185.469318 224.64 \r\nL 185.469318 224.64 \r\nL 182.425682 224.64 \r\nz\r\n\" style=\"fill:#1f77b4;opacity:0.7;\"/>\r\n   </g>\r\n   <g id=\"patch_48\">\r\n    <path clip-path=\"url(#p6770e5bec7)\" d=\"M 185.469318 224.64 \r\nL 188.512955 224.64 \r\nL 188.512955 221.7233 \r\nL 185.469318 221.7233 \r\nz\r\n\" style=\"fill:#1f77b4;opacity:0.7;\"/>\r\n   </g>\r\n   <g id=\"patch_49\">\r\n    <path clip-path=\"url(#p6770e5bec7)\" d=\"M 188.512955 224.64 \r\nL 191.556591 224.64 \r\nL 191.556591 224.64 \r\nL 188.512955 224.64 \r\nz\r\n\" style=\"fill:#1f77b4;opacity:0.7;\"/>\r\n   </g>\r\n   <g id=\"patch_50\">\r\n    <path clip-path=\"url(#p6770e5bec7)\" d=\"M 191.556591 224.64 \r\nL 194.600227 224.64 \r\nL 194.600227 223.18165 \r\nL 191.556591 223.18165 \r\nz\r\n\" style=\"fill:#1f77b4;opacity:0.7;\"/>\r\n   </g>\r\n   <g id=\"patch_51\">\r\n    <path clip-path=\"url(#p6770e5bec7)\" d=\"M 194.600227 224.64 \r\nL 197.643864 224.64 \r\nL 197.643864 224.64 \r\nL 194.600227 224.64 \r\nz\r\n\" style=\"fill:#1f77b4;opacity:0.7;\"/>\r\n   </g>\r\n   <g id=\"patch_52\">\r\n    <path clip-path=\"url(#p6770e5bec7)\" d=\"M 197.643864 224.64 \r\nL 200.6875 224.64 \r\nL 200.6875 224.64 \r\nL 197.643864 224.64 \r\nz\r\n\" style=\"fill:#1f77b4;opacity:0.7;\"/>\r\n   </g>\r\n   <g id=\"patch_53\">\r\n    <path clip-path=\"url(#p6770e5bec7)\" d=\"M 200.6875 224.64 \r\nL 203.731136 224.64 \r\nL 203.731136 221.7233 \r\nL 200.6875 221.7233 \r\nz\r\n\" style=\"fill:#1f77b4;opacity:0.7;\"/>\r\n   </g>\r\n   <g id=\"patch_54\">\r\n    <path clip-path=\"url(#p6770e5bec7)\" d=\"M 203.731136 224.64 \r\nL 206.774773 224.64 \r\nL 206.774773 224.64 \r\nL 203.731136 224.64 \r\nz\r\n\" style=\"fill:#1f77b4;opacity:0.7;\"/>\r\n   </g>\r\n   <g id=\"patch_55\">\r\n    <path clip-path=\"url(#p6770e5bec7)\" d=\"M 206.774773 224.64 \r\nL 209.818409 224.64 \r\nL 209.818409 220.26495 \r\nL 206.774773 220.26495 \r\nz\r\n\" style=\"fill:#1f77b4;opacity:0.7;\"/>\r\n   </g>\r\n   <g id=\"patch_56\">\r\n    <path clip-path=\"url(#p6770e5bec7)\" d=\"M 209.818409 224.64 \r\nL 212.862045 224.64 \r\nL 212.862045 224.64 \r\nL 209.818409 224.64 \r\nz\r\n\" style=\"fill:#1f77b4;opacity:0.7;\"/>\r\n   </g>\r\n   <g id=\"patch_57\">\r\n    <path clip-path=\"url(#p6770e5bec7)\" d=\"M 212.862045 224.64 \r\nL 215.905682 224.64 \r\nL 215.905682 221.7233 \r\nL 212.862045 221.7233 \r\nz\r\n\" style=\"fill:#1f77b4;opacity:0.7;\"/>\r\n   </g>\r\n   <g id=\"patch_58\">\r\n    <path clip-path=\"url(#p6770e5bec7)\" d=\"M 215.905682 224.64 \r\nL 218.949318 224.64 \r\nL 218.949318 224.64 \r\nL 215.905682 224.64 \r\nz\r\n\" style=\"fill:#1f77b4;opacity:0.7;\"/>\r\n   </g>\r\n   <g id=\"patch_59\">\r\n    <path clip-path=\"url(#p6770e5bec7)\" d=\"M 218.949318 224.64 \r\nL 221.992955 224.64 \r\nL 221.992955 224.64 \r\nL 218.949318 224.64 \r\nz\r\n\" style=\"fill:#1f77b4;opacity:0.7;\"/>\r\n   </g>\r\n   <g id=\"patch_60\">\r\n    <path clip-path=\"url(#p6770e5bec7)\" d=\"M 221.992955 224.64 \r\nL 225.036591 224.64 \r\nL 225.036591 224.64 \r\nL 221.992955 224.64 \r\nz\r\n\" style=\"fill:#1f77b4;opacity:0.7;\"/>\r\n   </g>\r\n   <g id=\"patch_61\">\r\n    <path clip-path=\"url(#p6770e5bec7)\" d=\"M 225.036591 224.64 \r\nL 228.080227 224.64 \r\nL 228.080227 224.64 \r\nL 225.036591 224.64 \r\nz\r\n\" style=\"fill:#1f77b4;opacity:0.7;\"/>\r\n   </g>\r\n   <g id=\"patch_62\">\r\n    <path clip-path=\"url(#p6770e5bec7)\" d=\"M 228.080227 224.64 \r\nL 231.123864 224.64 \r\nL 231.123864 223.18165 \r\nL 228.080227 223.18165 \r\nz\r\n\" style=\"fill:#1f77b4;opacity:0.7;\"/>\r\n   </g>\r\n   <g id=\"patch_63\">\r\n    <path clip-path=\"url(#p6770e5bec7)\" d=\"M 231.123864 224.64 \r\nL 234.1675 224.64 \r\nL 234.1675 224.64 \r\nL 231.123864 224.64 \r\nz\r\n\" style=\"fill:#1f77b4;opacity:0.7;\"/>\r\n   </g>\r\n   <g id=\"patch_64\">\r\n    <path clip-path=\"url(#p6770e5bec7)\" d=\"M 234.1675 224.64 \r\nL 237.211136 224.64 \r\nL 237.211136 223.18165 \r\nL 234.1675 223.18165 \r\nz\r\n\" style=\"fill:#1f77b4;opacity:0.7;\"/>\r\n   </g>\r\n   <g id=\"patch_65\">\r\n    <path clip-path=\"url(#p6770e5bec7)\" d=\"M 237.211136 224.64 \r\nL 240.254773 224.64 \r\nL 240.254773 224.64 \r\nL 237.211136 224.64 \r\nz\r\n\" style=\"fill:#1f77b4;opacity:0.7;\"/>\r\n   </g>\r\n   <g id=\"patch_66\">\r\n    <path clip-path=\"url(#p6770e5bec7)\" d=\"M 240.254773 224.64 \r\nL 243.298409 224.64 \r\nL 243.298409 224.64 \r\nL 240.254773 224.64 \r\nz\r\n\" style=\"fill:#1f77b4;opacity:0.7;\"/>\r\n   </g>\r\n   <g id=\"patch_67\">\r\n    <path clip-path=\"url(#p6770e5bec7)\" d=\"M 243.298409 224.64 \r\nL 246.342045 224.64 \r\nL 246.342045 223.18165 \r\nL 243.298409 223.18165 \r\nz\r\n\" style=\"fill:#1f77b4;opacity:0.7;\"/>\r\n   </g>\r\n   <g id=\"patch_68\">\r\n    <path clip-path=\"url(#p6770e5bec7)\" d=\"M 246.342045 224.64 \r\nL 249.385682 224.64 \r\nL 249.385682 224.64 \r\nL 246.342045 224.64 \r\nz\r\n\" style=\"fill:#1f77b4;opacity:0.7;\"/>\r\n   </g>\r\n   <g id=\"patch_69\">\r\n    <path clip-path=\"url(#p6770e5bec7)\" d=\"M 249.385682 224.64 \r\nL 252.429318 224.64 \r\nL 252.429318 223.18165 \r\nL 249.385682 223.18165 \r\nz\r\n\" style=\"fill:#1f77b4;opacity:0.7;\"/>\r\n   </g>\r\n   <g id=\"patch_70\">\r\n    <path clip-path=\"url(#p6770e5bec7)\" d=\"M 252.429318 224.64 \r\nL 255.472955 224.64 \r\nL 255.472955 224.64 \r\nL 252.429318 224.64 \r\nz\r\n\" style=\"fill:#1f77b4;opacity:0.7;\"/>\r\n   </g>\r\n   <g id=\"patch_71\">\r\n    <path clip-path=\"url(#p6770e5bec7)\" d=\"M 255.472955 224.64 \r\nL 258.516591 224.64 \r\nL 258.516591 224.64 \r\nL 255.472955 224.64 \r\nz\r\n\" style=\"fill:#1f77b4;opacity:0.7;\"/>\r\n   </g>\r\n   <g id=\"patch_72\">\r\n    <path clip-path=\"url(#p6770e5bec7)\" d=\"M 258.516591 224.64 \r\nL 261.560227 224.64 \r\nL 261.560227 224.64 \r\nL 258.516591 224.64 \r\nz\r\n\" style=\"fill:#1f77b4;opacity:0.7;\"/>\r\n   </g>\r\n   <g id=\"patch_73\">\r\n    <path clip-path=\"url(#p6770e5bec7)\" d=\"M 261.560227 224.64 \r\nL 264.603864 224.64 \r\nL 264.603864 224.64 \r\nL 261.560227 224.64 \r\nz\r\n\" style=\"fill:#1f77b4;opacity:0.7;\"/>\r\n   </g>\r\n   <g id=\"patch_74\">\r\n    <path clip-path=\"url(#p6770e5bec7)\" d=\"M 264.603864 224.64 \r\nL 267.6475 224.64 \r\nL 267.6475 223.18165 \r\nL 264.603864 223.18165 \r\nz\r\n\" style=\"fill:#1f77b4;opacity:0.7;\"/>\r\n   </g>\r\n   <g id=\"patch_75\">\r\n    <path clip-path=\"url(#p6770e5bec7)\" d=\"M 267.6475 224.64 \r\nL 270.691136 224.64 \r\nL 270.691136 224.64 \r\nL 267.6475 224.64 \r\nz\r\n\" style=\"fill:#1f77b4;opacity:0.7;\"/>\r\n   </g>\r\n   <g id=\"patch_76\">\r\n    <path clip-path=\"url(#p6770e5bec7)\" d=\"M 270.691136 224.64 \r\nL 273.734773 224.64 \r\nL 273.734773 224.64 \r\nL 270.691136 224.64 \r\nz\r\n\" style=\"fill:#1f77b4;opacity:0.7;\"/>\r\n   </g>\r\n   <g id=\"patch_77\">\r\n    <path clip-path=\"url(#p6770e5bec7)\" d=\"M 273.734773 224.64 \r\nL 276.778409 224.64 \r\nL 276.778409 224.64 \r\nL 273.734773 224.64 \r\nz\r\n\" style=\"fill:#1f77b4;opacity:0.7;\"/>\r\n   </g>\r\n   <g id=\"patch_78\">\r\n    <path clip-path=\"url(#p6770e5bec7)\" d=\"M 276.778409 224.64 \r\nL 279.822045 224.64 \r\nL 279.822045 224.64 \r\nL 276.778409 224.64 \r\nz\r\n\" style=\"fill:#1f77b4;opacity:0.7;\"/>\r\n   </g>\r\n   <g id=\"patch_79\">\r\n    <path clip-path=\"url(#p6770e5bec7)\" d=\"M 279.822045 224.64 \r\nL 282.865682 224.64 \r\nL 282.865682 224.64 \r\nL 279.822045 224.64 \r\nz\r\n\" style=\"fill:#1f77b4;opacity:0.7;\"/>\r\n   </g>\r\n   <g id=\"patch_80\">\r\n    <path clip-path=\"url(#p6770e5bec7)\" d=\"M 282.865682 224.64 \r\nL 285.909318 224.64 \r\nL 285.909318 224.64 \r\nL 282.865682 224.64 \r\nz\r\n\" style=\"fill:#1f77b4;opacity:0.7;\"/>\r\n   </g>\r\n   <g id=\"patch_81\">\r\n    <path clip-path=\"url(#p6770e5bec7)\" d=\"M 285.909318 224.64 \r\nL 288.952955 224.64 \r\nL 288.952955 224.64 \r\nL 285.909318 224.64 \r\nz\r\n\" style=\"fill:#1f77b4;opacity:0.7;\"/>\r\n   </g>\r\n   <g id=\"patch_82\">\r\n    <path clip-path=\"url(#p6770e5bec7)\" d=\"M 288.952955 224.64 \r\nL 291.996591 224.64 \r\nL 291.996591 224.64 \r\nL 288.952955 224.64 \r\nz\r\n\" style=\"fill:#1f77b4;opacity:0.7;\"/>\r\n   </g>\r\n   <g id=\"patch_83\">\r\n    <path clip-path=\"url(#p6770e5bec7)\" d=\"M 291.996591 224.64 \r\nL 295.040227 224.64 \r\nL 295.040227 224.64 \r\nL 291.996591 224.64 \r\nz\r\n\" style=\"fill:#1f77b4;opacity:0.7;\"/>\r\n   </g>\r\n   <g id=\"patch_84\">\r\n    <path clip-path=\"url(#p6770e5bec7)\" d=\"M 295.040227 224.64 \r\nL 298.083864 224.64 \r\nL 298.083864 224.64 \r\nL 295.040227 224.64 \r\nz\r\n\" style=\"fill:#1f77b4;opacity:0.7;\"/>\r\n   </g>\r\n   <g id=\"patch_85\">\r\n    <path clip-path=\"url(#p6770e5bec7)\" d=\"M 298.083864 224.64 \r\nL 301.1275 224.64 \r\nL 301.1275 224.64 \r\nL 298.083864 224.64 \r\nz\r\n\" style=\"fill:#1f77b4;opacity:0.7;\"/>\r\n   </g>\r\n   <g id=\"patch_86\">\r\n    <path clip-path=\"url(#p6770e5bec7)\" d=\"M 301.1275 224.64 \r\nL 304.171136 224.64 \r\nL 304.171136 224.64 \r\nL 301.1275 224.64 \r\nz\r\n\" style=\"fill:#1f77b4;opacity:0.7;\"/>\r\n   </g>\r\n   <g id=\"patch_87\">\r\n    <path clip-path=\"url(#p6770e5bec7)\" d=\"M 304.171136 224.64 \r\nL 307.214773 224.64 \r\nL 307.214773 224.64 \r\nL 304.171136 224.64 \r\nz\r\n\" style=\"fill:#1f77b4;opacity:0.7;\"/>\r\n   </g>\r\n   <g id=\"patch_88\">\r\n    <path clip-path=\"url(#p6770e5bec7)\" d=\"M 307.214773 224.64 \r\nL 310.258409 224.64 \r\nL 310.258409 224.64 \r\nL 307.214773 224.64 \r\nz\r\n\" style=\"fill:#1f77b4;opacity:0.7;\"/>\r\n   </g>\r\n   <g id=\"patch_89\">\r\n    <path clip-path=\"url(#p6770e5bec7)\" d=\"M 310.258409 224.64 \r\nL 313.302045 224.64 \r\nL 313.302045 224.64 \r\nL 310.258409 224.64 \r\nz\r\n\" style=\"fill:#1f77b4;opacity:0.7;\"/>\r\n   </g>\r\n   <g id=\"patch_90\">\r\n    <path clip-path=\"url(#p6770e5bec7)\" d=\"M 313.302045 224.64 \r\nL 316.345682 224.64 \r\nL 316.345682 224.64 \r\nL 313.302045 224.64 \r\nz\r\n\" style=\"fill:#1f77b4;opacity:0.7;\"/>\r\n   </g>\r\n   <g id=\"patch_91\">\r\n    <path clip-path=\"url(#p6770e5bec7)\" d=\"M 316.345682 224.64 \r\nL 319.389318 224.64 \r\nL 319.389318 224.64 \r\nL 316.345682 224.64 \r\nz\r\n\" style=\"fill:#1f77b4;opacity:0.7;\"/>\r\n   </g>\r\n   <g id=\"patch_92\">\r\n    <path clip-path=\"url(#p6770e5bec7)\" d=\"M 319.389318 224.64 \r\nL 322.432955 224.64 \r\nL 322.432955 224.64 \r\nL 319.389318 224.64 \r\nz\r\n\" style=\"fill:#1f77b4;opacity:0.7;\"/>\r\n   </g>\r\n   <g id=\"patch_93\">\r\n    <path clip-path=\"url(#p6770e5bec7)\" d=\"M 322.432955 224.64 \r\nL 325.476591 224.64 \r\nL 325.476591 224.64 \r\nL 322.432955 224.64 \r\nz\r\n\" style=\"fill:#1f77b4;opacity:0.7;\"/>\r\n   </g>\r\n   <g id=\"patch_94\">\r\n    <path clip-path=\"url(#p6770e5bec7)\" d=\"M 325.476591 224.64 \r\nL 328.520227 224.64 \r\nL 328.520227 224.64 \r\nL 325.476591 224.64 \r\nz\r\n\" style=\"fill:#1f77b4;opacity:0.7;\"/>\r\n   </g>\r\n   <g id=\"patch_95\">\r\n    <path clip-path=\"url(#p6770e5bec7)\" d=\"M 328.520227 224.64 \r\nL 331.563864 224.64 \r\nL 331.563864 224.64 \r\nL 328.520227 224.64 \r\nz\r\n\" style=\"fill:#1f77b4;opacity:0.7;\"/>\r\n   </g>\r\n   <g id=\"patch_96\">\r\n    <path clip-path=\"url(#p6770e5bec7)\" d=\"M 331.563864 224.64 \r\nL 334.6075 224.64 \r\nL 334.6075 224.64 \r\nL 331.563864 224.64 \r\nz\r\n\" style=\"fill:#1f77b4;opacity:0.7;\"/>\r\n   </g>\r\n   <g id=\"patch_97\">\r\n    <path clip-path=\"url(#p6770e5bec7)\" d=\"M 334.6075 224.64 \r\nL 337.651136 224.64 \r\nL 337.651136 224.64 \r\nL 334.6075 224.64 \r\nz\r\n\" style=\"fill:#1f77b4;opacity:0.7;\"/>\r\n   </g>\r\n   <g id=\"patch_98\">\r\n    <path clip-path=\"url(#p6770e5bec7)\" d=\"M 337.651136 224.64 \r\nL 340.694773 224.64 \r\nL 340.694773 224.64 \r\nL 337.651136 224.64 \r\nz\r\n\" style=\"fill:#1f77b4;opacity:0.7;\"/>\r\n   </g>\r\n   <g id=\"patch_99\">\r\n    <path clip-path=\"url(#p6770e5bec7)\" d=\"M 340.694773 224.64 \r\nL 343.738409 224.64 \r\nL 343.738409 224.64 \r\nL 340.694773 224.64 \r\nz\r\n\" style=\"fill:#1f77b4;opacity:0.7;\"/>\r\n   </g>\r\n   <g id=\"patch_100\">\r\n    <path clip-path=\"url(#p6770e5bec7)\" d=\"M 343.738409 224.64 \r\nL 346.782045 224.64 \r\nL 346.782045 224.64 \r\nL 343.738409 224.64 \r\nz\r\n\" style=\"fill:#1f77b4;opacity:0.7;\"/>\r\n   </g>\r\n   <g id=\"patch_101\">\r\n    <path clip-path=\"url(#p6770e5bec7)\" d=\"M 346.782045 224.64 \r\nL 349.825682 224.64 \r\nL 349.825682 224.64 \r\nL 346.782045 224.64 \r\nz\r\n\" style=\"fill:#1f77b4;opacity:0.7;\"/>\r\n   </g>\r\n   <g id=\"patch_102\">\r\n    <path clip-path=\"url(#p6770e5bec7)\" d=\"M 349.825682 224.64 \r\nL 352.869318 224.64 \r\nL 352.869318 221.7233 \r\nL 349.825682 221.7233 \r\nz\r\n\" style=\"fill:#1f77b4;opacity:0.7;\"/>\r\n   </g>\r\n   <g id=\"patch_103\">\r\n    <path clip-path=\"url(#p6770e5bec7)\" d=\"M 48.505682 224.64 \r\nL 50.389838 224.64 \r\nL 50.389838 191.097948 \r\nL 48.505682 191.097948 \r\nz\r\n\" style=\"fill:#ff7f0e;opacity:0.7;\"/>\r\n   </g>\r\n   <g id=\"patch_104\">\r\n    <path clip-path=\"url(#p6770e5bec7)\" d=\"M 50.389838 224.64 \r\nL 52.273994 224.64 \r\nL 52.273994 224.64 \r\nL 50.389838 224.64 \r\nz\r\n\" style=\"fill:#ff7f0e;opacity:0.7;\"/>\r\n   </g>\r\n   <g id=\"patch_105\">\r\n    <path clip-path=\"url(#p6770e5bec7)\" d=\"M 52.273994 224.64 \r\nL 54.158149 224.64 \r\nL 54.158149 224.64 \r\nL 52.273994 224.64 \r\nz\r\n\" style=\"fill:#ff7f0e;opacity:0.7;\"/>\r\n   </g>\r\n   <g id=\"patch_106\">\r\n    <path clip-path=\"url(#p6770e5bec7)\" d=\"M 54.158149 224.64 \r\nL 56.042305 224.64 \r\nL 56.042305 186.722897 \r\nL 54.158149 186.722897 \r\nz\r\n\" style=\"fill:#ff7f0e;opacity:0.7;\"/>\r\n   </g>\r\n   <g id=\"patch_107\">\r\n    <path clip-path=\"url(#p6770e5bec7)\" d=\"M 56.042305 224.64 \r\nL 57.926461 224.64 \r\nL 57.926461 224.64 \r\nL 56.042305 224.64 \r\nz\r\n\" style=\"fill:#ff7f0e;opacity:0.7;\"/>\r\n   </g>\r\n   <g id=\"patch_108\">\r\n    <path clip-path=\"url(#p6770e5bec7)\" d=\"M 57.926461 224.64 \r\nL 59.810617 224.64 \r\nL 59.810617 224.64 \r\nL 57.926461 224.64 \r\nz\r\n\" style=\"fill:#ff7f0e;opacity:0.7;\"/>\r\n   </g>\r\n   <g id=\"patch_109\">\r\n    <path clip-path=\"url(#p6770e5bec7)\" d=\"M 59.810617 224.64 \r\nL 61.694773 224.64 \r\nL 61.694773 224.64 \r\nL 59.810617 224.64 \r\nz\r\n\" style=\"fill:#ff7f0e;opacity:0.7;\"/>\r\n   </g>\r\n   <g id=\"patch_110\">\r\n    <path clip-path=\"url(#p6770e5bec7)\" d=\"M 61.694773 224.64 \r\nL 63.578929 224.64 \r\nL 63.578929 118.180443 \r\nL 61.694773 118.180443 \r\nz\r\n\" style=\"fill:#ff7f0e;opacity:0.7;\"/>\r\n   </g>\r\n   <g id=\"patch_111\">\r\n    <path clip-path=\"url(#p6770e5bec7)\" d=\"M 63.578929 224.64 \r\nL 65.463084 224.64 \r\nL 65.463084 224.64 \r\nL 63.578929 224.64 \r\nz\r\n\" style=\"fill:#ff7f0e;opacity:0.7;\"/>\r\n   </g>\r\n   <g id=\"patch_112\">\r\n    <path clip-path=\"url(#p6770e5bec7)\" d=\"M 65.463084 224.64 \r\nL 67.34724 224.64 \r\nL 67.34724 224.64 \r\nL 65.463084 224.64 \r\nz\r\n\" style=\"fill:#ff7f0e;opacity:0.7;\"/>\r\n   </g>\r\n   <g id=\"patch_113\">\r\n    <path clip-path=\"url(#p6770e5bec7)\" d=\"M 67.34724 224.64 \r\nL 69.231396 224.64 \r\nL 69.231396 224.64 \r\nL 67.34724 224.64 \r\nz\r\n\" style=\"fill:#ff7f0e;opacity:0.7;\"/>\r\n   </g>\r\n   <g id=\"patch_114\">\r\n    <path clip-path=\"url(#p6770e5bec7)\" d=\"M 69.231396 224.64 \r\nL 71.115552 224.64 \r\nL 71.115552 56.929738 \r\nL 69.231396 56.929738 \r\nz\r\n\" style=\"fill:#ff7f0e;opacity:0.7;\"/>\r\n   </g>\r\n   <g id=\"patch_115\">\r\n    <path clip-path=\"url(#p6770e5bec7)\" d=\"M 71.115552 224.64 \r\nL 72.999708 224.64 \r\nL 72.999708 224.64 \r\nL 71.115552 224.64 \r\nz\r\n\" style=\"fill:#ff7f0e;opacity:0.7;\"/>\r\n   </g>\r\n   <g id=\"patch_116\">\r\n    <path clip-path=\"url(#p6770e5bec7)\" d=\"M 72.999708 224.64 \r\nL 74.883864 224.64 \r\nL 74.883864 224.64 \r\nL 72.999708 224.64 \r\nz\r\n\" style=\"fill:#ff7f0e;opacity:0.7;\"/>\r\n   </g>\r\n   <g id=\"patch_117\">\r\n    <path clip-path=\"url(#p6770e5bec7)\" d=\"M 74.883864 224.64 \r\nL 76.768019 224.64 \r\nL 76.768019 224.64 \r\nL 74.883864 224.64 \r\nz\r\n\" style=\"fill:#ff7f0e;opacity:0.7;\"/>\r\n   </g>\r\n   <g id=\"patch_118\">\r\n    <path clip-path=\"url(#p6770e5bec7)\" d=\"M 76.768019 224.64 \r\nL 78.652175 224.64 \r\nL 78.652175 112.347042 \r\nL 76.768019 112.347042 \r\nz\r\n\" style=\"fill:#ff7f0e;opacity:0.7;\"/>\r\n   </g>\r\n   <g id=\"patch_119\">\r\n    <path clip-path=\"url(#p6770e5bec7)\" d=\"M 78.652175 224.64 \r\nL 80.536331 224.64 \r\nL 80.536331 224.64 \r\nL 78.652175 224.64 \r\nz\r\n\" style=\"fill:#ff7f0e;opacity:0.7;\"/>\r\n   </g>\r\n   <g id=\"patch_120\">\r\n    <path clip-path=\"url(#p6770e5bec7)\" d=\"M 80.536331 224.64 \r\nL 82.420487 224.64 \r\nL 82.420487 224.64 \r\nL 80.536331 224.64 \r\nz\r\n\" style=\"fill:#ff7f0e;opacity:0.7;\"/>\r\n   </g>\r\n   <g id=\"patch_121\">\r\n    <path clip-path=\"url(#p6770e5bec7)\" d=\"M 82.420487 224.64 \r\nL 84.304643 224.64 \r\nL 84.304643 224.64 \r\nL 82.420487 224.64 \r\nz\r\n\" style=\"fill:#ff7f0e;opacity:0.7;\"/>\r\n   </g>\r\n   <g id=\"patch_122\">\r\n    <path clip-path=\"url(#p6770e5bec7)\" d=\"M 84.304643 224.64 \r\nL 86.188799 224.64 \r\nL 86.188799 126.930543 \r\nL 84.304643 126.930543 \r\nz\r\n\" style=\"fill:#ff7f0e;opacity:0.7;\"/>\r\n   </g>\r\n   <g id=\"patch_123\">\r\n    <path clip-path=\"url(#p6770e5bec7)\" d=\"M 86.188799 224.64 \r\nL 88.072955 224.64 \r\nL 88.072955 224.64 \r\nL 86.188799 224.64 \r\nz\r\n\" style=\"fill:#ff7f0e;opacity:0.7;\"/>\r\n   </g>\r\n   <g id=\"patch_124\">\r\n    <path clip-path=\"url(#p6770e5bec7)\" d=\"M 88.072955 224.64 \r\nL 89.95711 224.64 \r\nL 89.95711 224.64 \r\nL 88.072955 224.64 \r\nz\r\n\" style=\"fill:#ff7f0e;opacity:0.7;\"/>\r\n   </g>\r\n   <g id=\"patch_125\">\r\n    <path clip-path=\"url(#p6770e5bec7)\" d=\"M 89.95711 224.64 \r\nL 91.841266 224.64 \r\nL 91.841266 224.64 \r\nL 89.95711 224.64 \r\nz\r\n\" style=\"fill:#ff7f0e;opacity:0.7;\"/>\r\n   </g>\r\n   <g id=\"patch_126\">\r\n    <path clip-path=\"url(#p6770e5bec7)\" d=\"M 91.841266 224.64 \r\nL 93.725422 224.64 \r\nL 93.725422 99.221891 \r\nL 91.841266 99.221891 \r\nz\r\n\" style=\"fill:#ff7f0e;opacity:0.7;\"/>\r\n   </g>\r\n   <g id=\"patch_127\">\r\n    <path clip-path=\"url(#p6770e5bec7)\" d=\"M 93.725422 224.64 \r\nL 95.609578 224.64 \r\nL 95.609578 224.64 \r\nL 93.725422 224.64 \r\nz\r\n\" style=\"fill:#ff7f0e;opacity:0.7;\"/>\r\n   </g>\r\n   <g id=\"patch_128\">\r\n    <path clip-path=\"url(#p6770e5bec7)\" d=\"M 95.609578 224.64 \r\nL 97.493734 224.64 \r\nL 97.493734 224.64 \r\nL 95.609578 224.64 \r\nz\r\n\" style=\"fill:#ff7f0e;opacity:0.7;\"/>\r\n   </g>\r\n   <g id=\"patch_129\">\r\n    <path clip-path=\"url(#p6770e5bec7)\" d=\"M 97.493734 224.64 \r\nL 99.37789 224.64 \r\nL 99.37789 116.722093 \r\nL 97.493734 116.722093 \r\nz\r\n\" style=\"fill:#ff7f0e;opacity:0.7;\"/>\r\n   </g>\r\n   <g id=\"patch_130\">\r\n    <path clip-path=\"url(#p6770e5bec7)\" d=\"M 99.37789 224.64 \r\nL 101.262045 224.64 \r\nL 101.262045 224.64 \r\nL 99.37789 224.64 \r\nz\r\n\" style=\"fill:#ff7f0e;opacity:0.7;\"/>\r\n   </g>\r\n   <g id=\"patch_131\">\r\n    <path clip-path=\"url(#p6770e5bec7)\" d=\"M 101.262045 224.64 \r\nL 103.146201 224.64 \r\nL 103.146201 224.64 \r\nL 101.262045 224.64 \r\nz\r\n\" style=\"fill:#ff7f0e;opacity:0.7;\"/>\r\n   </g>\r\n   <g id=\"patch_132\">\r\n    <path clip-path=\"url(#p6770e5bec7)\" d=\"M 103.146201 224.64 \r\nL 105.030357 224.64 \r\nL 105.030357 224.64 \r\nL 103.146201 224.64 \r\nz\r\n\" style=\"fill:#ff7f0e;opacity:0.7;\"/>\r\n   </g>\r\n   <g id=\"patch_133\">\r\n    <path clip-path=\"url(#p6770e5bec7)\" d=\"M 105.030357 224.64 \r\nL 106.914513 224.64 \r\nL 106.914513 128.388893 \r\nL 105.030357 128.388893 \r\nz\r\n\" style=\"fill:#ff7f0e;opacity:0.7;\"/>\r\n   </g>\r\n   <g id=\"patch_134\">\r\n    <path clip-path=\"url(#p6770e5bec7)\" d=\"M 106.914513 224.64 \r\nL 108.798669 224.64 \r\nL 108.798669 224.64 \r\nL 106.914513 224.64 \r\nz\r\n\" style=\"fill:#ff7f0e;opacity:0.7;\"/>\r\n   </g>\r\n   <g id=\"patch_135\">\r\n    <path clip-path=\"url(#p6770e5bec7)\" d=\"M 108.798669 224.64 \r\nL 110.682825 224.64 \r\nL 110.682825 224.64 \r\nL 108.798669 224.64 \r\nz\r\n\" style=\"fill:#ff7f0e;opacity:0.7;\"/>\r\n   </g>\r\n   <g id=\"patch_136\">\r\n    <path clip-path=\"url(#p6770e5bec7)\" d=\"M 110.682825 224.64 \r\nL 112.566981 224.64 \r\nL 112.566981 224.64 \r\nL 110.682825 224.64 \r\nz\r\n\" style=\"fill:#ff7f0e;opacity:0.7;\"/>\r\n   </g>\r\n   <g id=\"patch_137\">\r\n    <path clip-path=\"url(#p6770e5bec7)\" d=\"M 112.566981 224.64 \r\nL 114.451136 224.64 \r\nL 114.451136 153.180845 \r\nL 112.566981 153.180845 \r\nz\r\n\" style=\"fill:#ff7f0e;opacity:0.7;\"/>\r\n   </g>\r\n   <g id=\"patch_138\">\r\n    <path clip-path=\"url(#p6770e5bec7)\" d=\"M 114.451136 224.64 \r\nL 116.335292 224.64 \r\nL 116.335292 224.64 \r\nL 114.451136 224.64 \r\nz\r\n\" style=\"fill:#ff7f0e;opacity:0.7;\"/>\r\n   </g>\r\n   <g id=\"patch_139\">\r\n    <path clip-path=\"url(#p6770e5bec7)\" d=\"M 116.335292 224.64 \r\nL 118.219448 224.64 \r\nL 118.219448 224.64 \r\nL 116.335292 224.64 \r\nz\r\n\" style=\"fill:#ff7f0e;opacity:0.7;\"/>\r\n   </g>\r\n   <g id=\"patch_140\">\r\n    <path clip-path=\"url(#p6770e5bec7)\" d=\"M 118.219448 224.64 \r\nL 120.103604 224.64 \r\nL 120.103604 224.64 \r\nL 118.219448 224.64 \r\nz\r\n\" style=\"fill:#ff7f0e;opacity:0.7;\"/>\r\n   </g>\r\n   <g id=\"patch_141\">\r\n    <path clip-path=\"url(#p6770e5bec7)\" d=\"M 120.103604 224.64 \r\nL 121.98776 224.64 \r\nL 121.98776 185.264547 \r\nL 120.103604 185.264547 \r\nz\r\n\" style=\"fill:#ff7f0e;opacity:0.7;\"/>\r\n   </g>\r\n   <g id=\"patch_142\">\r\n    <path clip-path=\"url(#p6770e5bec7)\" d=\"M 121.98776 224.64 \r\nL 123.871916 224.64 \r\nL 123.871916 224.64 \r\nL 121.98776 224.64 \r\nz\r\n\" style=\"fill:#ff7f0e;opacity:0.7;\"/>\r\n   </g>\r\n   <g id=\"patch_143\">\r\n    <path clip-path=\"url(#p6770e5bec7)\" d=\"M 123.871916 224.64 \r\nL 125.756071 224.64 \r\nL 125.756071 224.64 \r\nL 123.871916 224.64 \r\nz\r\n\" style=\"fill:#ff7f0e;opacity:0.7;\"/>\r\n   </g>\r\n   <g id=\"patch_144\">\r\n    <path clip-path=\"url(#p6770e5bec7)\" d=\"M 125.756071 224.64 \r\nL 127.640227 224.64 \r\nL 127.640227 224.64 \r\nL 125.756071 224.64 \r\nz\r\n\" style=\"fill:#ff7f0e;opacity:0.7;\"/>\r\n   </g>\r\n   <g id=\"patch_145\">\r\n    <path clip-path=\"url(#p6770e5bec7)\" d=\"M 127.640227 224.64 \r\nL 129.524383 224.64 \r\nL 129.524383 199.848048 \r\nL 127.640227 199.848048 \r\nz\r\n\" style=\"fill:#ff7f0e;opacity:0.7;\"/>\r\n   </g>\r\n   <g id=\"patch_146\">\r\n    <path clip-path=\"url(#p6770e5bec7)\" d=\"M 129.524383 224.64 \r\nL 131.408539 224.64 \r\nL 131.408539 224.64 \r\nL 129.524383 224.64 \r\nz\r\n\" style=\"fill:#ff7f0e;opacity:0.7;\"/>\r\n   </g>\r\n   <g id=\"patch_147\">\r\n    <path clip-path=\"url(#p6770e5bec7)\" d=\"M 131.408539 224.64 \r\nL 133.292695 224.64 \r\nL 133.292695 224.64 \r\nL 131.408539 224.64 \r\nz\r\n\" style=\"fill:#ff7f0e;opacity:0.7;\"/>\r\n   </g>\r\n   <g id=\"patch_148\">\r\n    <path clip-path=\"url(#p6770e5bec7)\" d=\"M 133.292695 224.64 \r\nL 135.176851 224.64 \r\nL 135.176851 224.64 \r\nL 133.292695 224.64 \r\nz\r\n\" style=\"fill:#ff7f0e;opacity:0.7;\"/>\r\n   </g>\r\n   <g id=\"patch_149\">\r\n    <path clip-path=\"url(#p6770e5bec7)\" d=\"M 135.176851 224.64 \r\nL 137.061006 224.64 \r\nL 137.061006 192.556298 \r\nL 135.176851 192.556298 \r\nz\r\n\" style=\"fill:#ff7f0e;opacity:0.7;\"/>\r\n   </g>\r\n   <g id=\"patch_150\">\r\n    <path clip-path=\"url(#p6770e5bec7)\" d=\"M 137.061006 224.64 \r\nL 138.945162 224.64 \r\nL 138.945162 224.64 \r\nL 137.061006 224.64 \r\nz\r\n\" style=\"fill:#ff7f0e;opacity:0.7;\"/>\r\n   </g>\r\n   <g id=\"patch_151\">\r\n    <path clip-path=\"url(#p6770e5bec7)\" d=\"M 138.945162 224.64 \r\nL 140.829318 224.64 \r\nL 140.829318 224.64 \r\nL 138.945162 224.64 \r\nz\r\n\" style=\"fill:#ff7f0e;opacity:0.7;\"/>\r\n   </g>\r\n   <g id=\"patch_152\">\r\n    <path clip-path=\"url(#p6770e5bec7)\" d=\"M 140.829318 224.64 \r\nL 142.713474 224.64 \r\nL 142.713474 224.64 \r\nL 140.829318 224.64 \r\nz\r\n\" style=\"fill:#ff7f0e;opacity:0.7;\"/>\r\n   </g>\r\n   <g id=\"patch_153\">\r\n    <path clip-path=\"url(#p6770e5bec7)\" d=\"M 142.713474 224.64 \r\nL 144.59763 224.64 \r\nL 144.59763 204.223099 \r\nL 142.713474 204.223099 \r\nz\r\n\" style=\"fill:#ff7f0e;opacity:0.7;\"/>\r\n   </g>\r\n   <g id=\"patch_154\">\r\n    <path clip-path=\"url(#p6770e5bec7)\" d=\"M 144.59763 224.64 \r\nL 146.481786 224.64 \r\nL 146.481786 224.64 \r\nL 144.59763 224.64 \r\nz\r\n\" style=\"fill:#ff7f0e;opacity:0.7;\"/>\r\n   </g>\r\n   <g id=\"patch_155\">\r\n    <path clip-path=\"url(#p6770e5bec7)\" d=\"M 146.481786 224.64 \r\nL 148.365942 224.64 \r\nL 148.365942 224.64 \r\nL 146.481786 224.64 \r\nz\r\n\" style=\"fill:#ff7f0e;opacity:0.7;\"/>\r\n   </g>\r\n   <g id=\"patch_156\">\r\n    <path clip-path=\"url(#p6770e5bec7)\" d=\"M 148.365942 224.64 \r\nL 150.250097 224.64 \r\nL 150.250097 221.7233 \r\nL 148.365942 221.7233 \r\nz\r\n\" style=\"fill:#ff7f0e;opacity:0.7;\"/>\r\n   </g>\r\n   <g id=\"patch_157\">\r\n    <path clip-path=\"url(#p6770e5bec7)\" d=\"M 150.250097 224.64 \r\nL 152.134253 224.64 \r\nL 152.134253 224.64 \r\nL 150.250097 224.64 \r\nz\r\n\" style=\"fill:#ff7f0e;opacity:0.7;\"/>\r\n   </g>\r\n   <g id=\"patch_158\">\r\n    <path clip-path=\"url(#p6770e5bec7)\" d=\"M 152.134253 224.64 \r\nL 154.018409 224.64 \r\nL 154.018409 224.64 \r\nL 152.134253 224.64 \r\nz\r\n\" style=\"fill:#ff7f0e;opacity:0.7;\"/>\r\n   </g>\r\n   <g id=\"patch_159\">\r\n    <path clip-path=\"url(#p6770e5bec7)\" d=\"M 154.018409 224.64 \r\nL 155.902565 224.64 \r\nL 155.902565 224.64 \r\nL 154.018409 224.64 \r\nz\r\n\" style=\"fill:#ff7f0e;opacity:0.7;\"/>\r\n   </g>\r\n   <g id=\"patch_160\">\r\n    <path clip-path=\"url(#p6770e5bec7)\" d=\"M 155.902565 224.64 \r\nL 157.786721 224.64 \r\nL 157.786721 221.7233 \r\nL 155.902565 221.7233 \r\nz\r\n\" style=\"fill:#ff7f0e;opacity:0.7;\"/>\r\n   </g>\r\n   <g id=\"patch_161\">\r\n    <path clip-path=\"url(#p6770e5bec7)\" d=\"M 157.786721 224.64 \r\nL 159.670877 224.64 \r\nL 159.670877 224.64 \r\nL 157.786721 224.64 \r\nz\r\n\" style=\"fill:#ff7f0e;opacity:0.7;\"/>\r\n   </g>\r\n   <g id=\"patch_162\">\r\n    <path clip-path=\"url(#p6770e5bec7)\" d=\"M 159.670877 224.64 \r\nL 161.555032 224.64 \r\nL 161.555032 224.64 \r\nL 159.670877 224.64 \r\nz\r\n\" style=\"fill:#ff7f0e;opacity:0.7;\"/>\r\n   </g>\r\n   <g id=\"patch_163\">\r\n    <path clip-path=\"url(#p6770e5bec7)\" d=\"M 161.555032 224.64 \r\nL 163.439188 224.64 \r\nL 163.439188 224.64 \r\nL 161.555032 224.64 \r\nz\r\n\" style=\"fill:#ff7f0e;opacity:0.7;\"/>\r\n   </g>\r\n   <g id=\"patch_164\">\r\n    <path clip-path=\"url(#p6770e5bec7)\" d=\"M 163.439188 224.64 \r\nL 165.323344 224.64 \r\nL 165.323344 223.18165 \r\nL 163.439188 223.18165 \r\nz\r\n\" style=\"fill:#ff7f0e;opacity:0.7;\"/>\r\n   </g>\r\n   <g id=\"patch_165\">\r\n    <path clip-path=\"url(#p6770e5bec7)\" d=\"M 165.323344 224.64 \r\nL 167.2075 224.64 \r\nL 167.2075 224.64 \r\nL 165.323344 224.64 \r\nz\r\n\" style=\"fill:#ff7f0e;opacity:0.7;\"/>\r\n   </g>\r\n   <g id=\"patch_166\">\r\n    <path clip-path=\"url(#p6770e5bec7)\" d=\"M 167.2075 224.64 \r\nL 169.091656 224.64 \r\nL 169.091656 224.64 \r\nL 167.2075 224.64 \r\nz\r\n\" style=\"fill:#ff7f0e;opacity:0.7;\"/>\r\n   </g>\r\n   <g id=\"patch_167\">\r\n    <path clip-path=\"url(#p6770e5bec7)\" d=\"M 169.091656 224.64 \r\nL 170.975812 224.64 \r\nL 170.975812 224.64 \r\nL 169.091656 224.64 \r\nz\r\n\" style=\"fill:#ff7f0e;opacity:0.7;\"/>\r\n   </g>\r\n   <g id=\"patch_168\">\r\n    <path clip-path=\"url(#p6770e5bec7)\" d=\"M 170.975812 224.64 \r\nL 172.859968 224.64 \r\nL 172.859968 224.64 \r\nL 170.975812 224.64 \r\nz\r\n\" style=\"fill:#ff7f0e;opacity:0.7;\"/>\r\n   </g>\r\n   <g id=\"patch_169\">\r\n    <path clip-path=\"url(#p6770e5bec7)\" d=\"M 172.859968 224.64 \r\nL 174.744123 224.64 \r\nL 174.744123 224.64 \r\nL 172.859968 224.64 \r\nz\r\n\" style=\"fill:#ff7f0e;opacity:0.7;\"/>\r\n   </g>\r\n   <g id=\"patch_170\">\r\n    <path clip-path=\"url(#p6770e5bec7)\" d=\"M 174.744123 224.64 \r\nL 176.628279 224.64 \r\nL 176.628279 224.64 \r\nL 174.744123 224.64 \r\nz\r\n\" style=\"fill:#ff7f0e;opacity:0.7;\"/>\r\n   </g>\r\n   <g id=\"patch_171\">\r\n    <path clip-path=\"url(#p6770e5bec7)\" d=\"M 176.628279 224.64 \r\nL 178.512435 224.64 \r\nL 178.512435 224.64 \r\nL 176.628279 224.64 \r\nz\r\n\" style=\"fill:#ff7f0e;opacity:0.7;\"/>\r\n   </g>\r\n   <g id=\"patch_172\">\r\n    <path clip-path=\"url(#p6770e5bec7)\" d=\"M 178.512435 224.64 \r\nL 180.396591 224.64 \r\nL 180.396591 221.7233 \r\nL 178.512435 221.7233 \r\nz\r\n\" style=\"fill:#ff7f0e;opacity:0.7;\"/>\r\n   </g>\r\n   <g id=\"patch_173\">\r\n    <path clip-path=\"url(#p6770e5bec7)\" d=\"M 180.396591 224.64 \r\nL 182.280747 224.64 \r\nL 182.280747 224.64 \r\nL 180.396591 224.64 \r\nz\r\n\" style=\"fill:#ff7f0e;opacity:0.7;\"/>\r\n   </g>\r\n   <g id=\"patch_174\">\r\n    <path clip-path=\"url(#p6770e5bec7)\" d=\"M 182.280747 224.64 \r\nL 184.164903 224.64 \r\nL 184.164903 224.64 \r\nL 182.280747 224.64 \r\nz\r\n\" style=\"fill:#ff7f0e;opacity:0.7;\"/>\r\n   </g>\r\n   <g id=\"patch_175\">\r\n    <path clip-path=\"url(#p6770e5bec7)\" d=\"M 184.164903 224.64 \r\nL 186.049058 224.64 \r\nL 186.049058 224.64 \r\nL 184.164903 224.64 \r\nz\r\n\" style=\"fill:#ff7f0e;opacity:0.7;\"/>\r\n   </g>\r\n   <g id=\"patch_176\">\r\n    <path clip-path=\"url(#p6770e5bec7)\" d=\"M 186.049058 224.64 \r\nL 187.933214 224.64 \r\nL 187.933214 223.18165 \r\nL 186.049058 223.18165 \r\nz\r\n\" style=\"fill:#ff7f0e;opacity:0.7;\"/>\r\n   </g>\r\n   <g id=\"patch_177\">\r\n    <path clip-path=\"url(#p6770e5bec7)\" d=\"M 187.933214 224.64 \r\nL 189.81737 224.64 \r\nL 189.81737 224.64 \r\nL 187.933214 224.64 \r\nz\r\n\" style=\"fill:#ff7f0e;opacity:0.7;\"/>\r\n   </g>\r\n   <g id=\"patch_178\">\r\n    <path clip-path=\"url(#p6770e5bec7)\" d=\"M 189.81737 224.64 \r\nL 191.701526 224.64 \r\nL 191.701526 224.64 \r\nL 189.81737 224.64 \r\nz\r\n\" style=\"fill:#ff7f0e;opacity:0.7;\"/>\r\n   </g>\r\n   <g id=\"patch_179\">\r\n    <path clip-path=\"url(#p6770e5bec7)\" d=\"M 191.701526 224.64 \r\nL 193.585682 224.64 \r\nL 193.585682 224.64 \r\nL 191.701526 224.64 \r\nz\r\n\" style=\"fill:#ff7f0e;opacity:0.7;\"/>\r\n   </g>\r\n   <g id=\"patch_180\">\r\n    <path clip-path=\"url(#p6770e5bec7)\" d=\"M 193.585682 224.64 \r\nL 195.469838 224.64 \r\nL 195.469838 224.64 \r\nL 193.585682 224.64 \r\nz\r\n\" style=\"fill:#ff7f0e;opacity:0.7;\"/>\r\n   </g>\r\n   <g id=\"patch_181\">\r\n    <path clip-path=\"url(#p6770e5bec7)\" d=\"M 195.469838 224.64 \r\nL 197.353994 224.64 \r\nL 197.353994 224.64 \r\nL 195.469838 224.64 \r\nz\r\n\" style=\"fill:#ff7f0e;opacity:0.7;\"/>\r\n   </g>\r\n   <g id=\"patch_182\">\r\n    <path clip-path=\"url(#p6770e5bec7)\" d=\"M 197.353994 224.64 \r\nL 199.238149 224.64 \r\nL 199.238149 224.64 \r\nL 197.353994 224.64 \r\nz\r\n\" style=\"fill:#ff7f0e;opacity:0.7;\"/>\r\n   </g>\r\n   <g id=\"patch_183\">\r\n    <path clip-path=\"url(#p6770e5bec7)\" d=\"M 199.238149 224.64 \r\nL 201.122305 224.64 \r\nL 201.122305 224.64 \r\nL 199.238149 224.64 \r\nz\r\n\" style=\"fill:#ff7f0e;opacity:0.7;\"/>\r\n   </g>\r\n   <g id=\"patch_184\">\r\n    <path clip-path=\"url(#p6770e5bec7)\" d=\"M 201.122305 224.64 \r\nL 203.006461 224.64 \r\nL 203.006461 224.64 \r\nL 201.122305 224.64 \r\nz\r\n\" style=\"fill:#ff7f0e;opacity:0.7;\"/>\r\n   </g>\r\n   <g id=\"patch_185\">\r\n    <path clip-path=\"url(#p6770e5bec7)\" d=\"M 203.006461 224.64 \r\nL 204.890617 224.64 \r\nL 204.890617 224.64 \r\nL 203.006461 224.64 \r\nz\r\n\" style=\"fill:#ff7f0e;opacity:0.7;\"/>\r\n   </g>\r\n   <g id=\"patch_186\">\r\n    <path clip-path=\"url(#p6770e5bec7)\" d=\"M 204.890617 224.64 \r\nL 206.774773 224.64 \r\nL 206.774773 224.64 \r\nL 204.890617 224.64 \r\nz\r\n\" style=\"fill:#ff7f0e;opacity:0.7;\"/>\r\n   </g>\r\n   <g id=\"patch_187\">\r\n    <path clip-path=\"url(#p6770e5bec7)\" d=\"M 206.774773 224.64 \r\nL 208.658929 224.64 \r\nL 208.658929 223.18165 \r\nL 206.774773 223.18165 \r\nz\r\n\" style=\"fill:#ff7f0e;opacity:0.7;\"/>\r\n   </g>\r\n   <g id=\"patch_188\">\r\n    <path clip-path=\"url(#p6770e5bec7)\" d=\"M 208.658929 224.64 \r\nL 210.543084 224.64 \r\nL 210.543084 224.64 \r\nL 208.658929 224.64 \r\nz\r\n\" style=\"fill:#ff7f0e;opacity:0.7;\"/>\r\n   </g>\r\n   <g id=\"patch_189\">\r\n    <path clip-path=\"url(#p6770e5bec7)\" d=\"M 210.543084 224.64 \r\nL 212.42724 224.64 \r\nL 212.42724 224.64 \r\nL 210.543084 224.64 \r\nz\r\n\" style=\"fill:#ff7f0e;opacity:0.7;\"/>\r\n   </g>\r\n   <g id=\"patch_190\">\r\n    <path clip-path=\"url(#p6770e5bec7)\" d=\"M 212.42724 224.64 \r\nL 214.311396 224.64 \r\nL 214.311396 224.64 \r\nL 212.42724 224.64 \r\nz\r\n\" style=\"fill:#ff7f0e;opacity:0.7;\"/>\r\n   </g>\r\n   <g id=\"patch_191\">\r\n    <path clip-path=\"url(#p6770e5bec7)\" d=\"M 214.311396 224.64 \r\nL 216.195552 224.64 \r\nL 216.195552 224.64 \r\nL 214.311396 224.64 \r\nz\r\n\" style=\"fill:#ff7f0e;opacity:0.7;\"/>\r\n   </g>\r\n   <g id=\"patch_192\">\r\n    <path clip-path=\"url(#p6770e5bec7)\" d=\"M 216.195552 224.64 \r\nL 218.079708 224.64 \r\nL 218.079708 224.64 \r\nL 216.195552 224.64 \r\nz\r\n\" style=\"fill:#ff7f0e;opacity:0.7;\"/>\r\n   </g>\r\n   <g id=\"patch_193\">\r\n    <path clip-path=\"url(#p6770e5bec7)\" d=\"M 218.079708 224.64 \r\nL 219.963864 224.64 \r\nL 219.963864 224.64 \r\nL 218.079708 224.64 \r\nz\r\n\" style=\"fill:#ff7f0e;opacity:0.7;\"/>\r\n   </g>\r\n   <g id=\"patch_194\">\r\n    <path clip-path=\"url(#p6770e5bec7)\" d=\"M 219.963864 224.64 \r\nL 221.848019 224.64 \r\nL 221.848019 224.64 \r\nL 219.963864 224.64 \r\nz\r\n\" style=\"fill:#ff7f0e;opacity:0.7;\"/>\r\n   </g>\r\n   <g id=\"patch_195\">\r\n    <path clip-path=\"url(#p6770e5bec7)\" d=\"M 221.848019 224.64 \r\nL 223.732175 224.64 \r\nL 223.732175 223.18165 \r\nL 221.848019 223.18165 \r\nz\r\n\" style=\"fill:#ff7f0e;opacity:0.7;\"/>\r\n   </g>\r\n   <g id=\"patch_196\">\r\n    <path clip-path=\"url(#p6770e5bec7)\" d=\"M 223.732175 224.64 \r\nL 225.616331 224.64 \r\nL 225.616331 224.64 \r\nL 223.732175 224.64 \r\nz\r\n\" style=\"fill:#ff7f0e;opacity:0.7;\"/>\r\n   </g>\r\n   <g id=\"patch_197\">\r\n    <path clip-path=\"url(#p6770e5bec7)\" d=\"M 225.616331 224.64 \r\nL 227.500487 224.64 \r\nL 227.500487 224.64 \r\nL 225.616331 224.64 \r\nz\r\n\" style=\"fill:#ff7f0e;opacity:0.7;\"/>\r\n   </g>\r\n   <g id=\"patch_198\">\r\n    <path clip-path=\"url(#p6770e5bec7)\" d=\"M 227.500487 224.64 \r\nL 229.384643 224.64 \r\nL 229.384643 224.64 \r\nL 227.500487 224.64 \r\nz\r\n\" style=\"fill:#ff7f0e;opacity:0.7;\"/>\r\n   </g>\r\n   <g id=\"patch_199\">\r\n    <path clip-path=\"url(#p6770e5bec7)\" d=\"M 229.384643 224.64 \r\nL 231.268799 224.64 \r\nL 231.268799 224.64 \r\nL 229.384643 224.64 \r\nz\r\n\" style=\"fill:#ff7f0e;opacity:0.7;\"/>\r\n   </g>\r\n   <g id=\"patch_200\">\r\n    <path clip-path=\"url(#p6770e5bec7)\" d=\"M 231.268799 224.64 \r\nL 233.152955 224.64 \r\nL 233.152955 224.64 \r\nL 231.268799 224.64 \r\nz\r\n\" style=\"fill:#ff7f0e;opacity:0.7;\"/>\r\n   </g>\r\n   <g id=\"patch_201\">\r\n    <path clip-path=\"url(#p6770e5bec7)\" d=\"M 233.152955 224.64 \r\nL 235.03711 224.64 \r\nL 235.03711 224.64 \r\nL 233.152955 224.64 \r\nz\r\n\" style=\"fill:#ff7f0e;opacity:0.7;\"/>\r\n   </g>\r\n   <g id=\"patch_202\">\r\n    <path clip-path=\"url(#p6770e5bec7)\" d=\"M 235.03711 224.64 \r\nL 236.921266 224.64 \r\nL 236.921266 223.18165 \r\nL 235.03711 223.18165 \r\nz\r\n\" style=\"fill:#ff7f0e;opacity:0.7;\"/>\r\n   </g>\r\n   <g id=\"matplotlib.axis_1\">\r\n    <g id=\"xtick_1\">\r\n     <g id=\"line2d_1\">\r\n      <defs>\r\n       <path d=\"M 0 0 \r\nL 0 3.5 \r\n\" id=\"m8075008760\" style=\"stroke:#000000;stroke-width:0.8;\"/>\r\n      </defs>\r\n      <g>\r\n       <use style=\"stroke:#000000;stroke-width:0.8;\" x=\"48.505682\" xlink:href=\"#m8075008760\" y=\"224.64\"/>\r\n      </g>\r\n     </g>\r\n     <g id=\"text_1\">\r\n      <!-- 0 -->\r\n      <g transform=\"translate(45.324432 239.238437)scale(0.1 -0.1)\">\r\n       <defs>\r\n        <path d=\"M 31.78125 66.40625 \r\nQ 24.171875 66.40625 20.328125 58.90625 \r\nQ 16.5 51.421875 16.5 36.375 \r\nQ 16.5 21.390625 20.328125 13.890625 \r\nQ 24.171875 6.390625 31.78125 6.390625 \r\nQ 39.453125 6.390625 43.28125 13.890625 \r\nQ 47.125 21.390625 47.125 36.375 \r\nQ 47.125 51.421875 43.28125 58.90625 \r\nQ 39.453125 66.40625 31.78125 66.40625 \r\nz\r\nM 31.78125 74.21875 \r\nQ 44.046875 74.21875 50.515625 64.515625 \r\nQ 56.984375 54.828125 56.984375 36.375 \r\nQ 56.984375 17.96875 50.515625 8.265625 \r\nQ 44.046875 -1.421875 31.78125 -1.421875 \r\nQ 19.53125 -1.421875 13.0625 8.265625 \r\nQ 6.59375 17.96875 6.59375 36.375 \r\nQ 6.59375 54.828125 13.0625 64.515625 \r\nQ 19.53125 74.21875 31.78125 74.21875 \r\nz\r\n\" id=\"DejaVuSans-48\"/>\r\n       </defs>\r\n       <use xlink:href=\"#DejaVuSans-48\"/>\r\n      </g>\r\n     </g>\r\n    </g>\r\n    <g id=\"xtick_2\">\r\n     <g id=\"line2d_2\">\r\n      <g>\r\n       <use style=\"stroke:#000000;stroke-width:0.8;\" x=\"120.973214\" xlink:href=\"#m8075008760\" y=\"224.64\"/>\r\n      </g>\r\n     </g>\r\n     <g id=\"text_2\">\r\n      <!-- 10 -->\r\n      <g transform=\"translate(114.610714 239.238437)scale(0.1 -0.1)\">\r\n       <defs>\r\n        <path d=\"M 12.40625 8.296875 \r\nL 28.515625 8.296875 \r\nL 28.515625 63.921875 \r\nL 10.984375 60.40625 \r\nL 10.984375 69.390625 \r\nL 28.421875 72.90625 \r\nL 38.28125 72.90625 \r\nL 38.28125 8.296875 \r\nL 54.390625 8.296875 \r\nL 54.390625 0 \r\nL 12.40625 0 \r\nz\r\n\" id=\"DejaVuSans-49\"/>\r\n       </defs>\r\n       <use xlink:href=\"#DejaVuSans-49\"/>\r\n       <use x=\"63.623047\" xlink:href=\"#DejaVuSans-48\"/>\r\n      </g>\r\n     </g>\r\n    </g>\r\n    <g id=\"xtick_3\">\r\n     <g id=\"line2d_3\">\r\n      <g>\r\n       <use style=\"stroke:#000000;stroke-width:0.8;\" x=\"193.440747\" xlink:href=\"#m8075008760\" y=\"224.64\"/>\r\n      </g>\r\n     </g>\r\n     <g id=\"text_3\">\r\n      <!-- 20 -->\r\n      <g transform=\"translate(187.078247 239.238437)scale(0.1 -0.1)\">\r\n       <defs>\r\n        <path d=\"M 19.1875 8.296875 \r\nL 53.609375 8.296875 \r\nL 53.609375 0 \r\nL 7.328125 0 \r\nL 7.328125 8.296875 \r\nQ 12.9375 14.109375 22.625 23.890625 \r\nQ 32.328125 33.6875 34.8125 36.53125 \r\nQ 39.546875 41.84375 41.421875 45.53125 \r\nQ 43.3125 49.21875 43.3125 52.78125 \r\nQ 43.3125 58.59375 39.234375 62.25 \r\nQ 35.15625 65.921875 28.609375 65.921875 \r\nQ 23.96875 65.921875 18.8125 64.3125 \r\nQ 13.671875 62.703125 7.8125 59.421875 \r\nL 7.8125 69.390625 \r\nQ 13.765625 71.78125 18.9375 73 \r\nQ 24.125 74.21875 28.421875 74.21875 \r\nQ 39.75 74.21875 46.484375 68.546875 \r\nQ 53.21875 62.890625 53.21875 53.421875 \r\nQ 53.21875 48.921875 51.53125 44.890625 \r\nQ 49.859375 40.875 45.40625 35.40625 \r\nQ 44.1875 33.984375 37.640625 27.21875 \r\nQ 31.109375 20.453125 19.1875 8.296875 \r\nz\r\n\" id=\"DejaVuSans-50\"/>\r\n       </defs>\r\n       <use xlink:href=\"#DejaVuSans-50\"/>\r\n       <use x=\"63.623047\" xlink:href=\"#DejaVuSans-48\"/>\r\n      </g>\r\n     </g>\r\n    </g>\r\n    <g id=\"xtick_4\">\r\n     <g id=\"line2d_4\">\r\n      <g>\r\n       <use style=\"stroke:#000000;stroke-width:0.8;\" x=\"265.908279\" xlink:href=\"#m8075008760\" y=\"224.64\"/>\r\n      </g>\r\n     </g>\r\n     <g id=\"text_4\">\r\n      <!-- 30 -->\r\n      <g transform=\"translate(259.545779 239.238437)scale(0.1 -0.1)\">\r\n       <defs>\r\n        <path d=\"M 40.578125 39.3125 \r\nQ 47.65625 37.796875 51.625 33 \r\nQ 55.609375 28.21875 55.609375 21.1875 \r\nQ 55.609375 10.40625 48.1875 4.484375 \r\nQ 40.765625 -1.421875 27.09375 -1.421875 \r\nQ 22.515625 -1.421875 17.65625 -0.515625 \r\nQ 12.796875 0.390625 7.625 2.203125 \r\nL 7.625 11.71875 \r\nQ 11.71875 9.328125 16.59375 8.109375 \r\nQ 21.484375 6.890625 26.8125 6.890625 \r\nQ 36.078125 6.890625 40.9375 10.546875 \r\nQ 45.796875 14.203125 45.796875 21.1875 \r\nQ 45.796875 27.640625 41.28125 31.265625 \r\nQ 36.765625 34.90625 28.71875 34.90625 \r\nL 20.21875 34.90625 \r\nL 20.21875 43.015625 \r\nL 29.109375 43.015625 \r\nQ 36.375 43.015625 40.234375 45.921875 \r\nQ 44.09375 48.828125 44.09375 54.296875 \r\nQ 44.09375 59.90625 40.109375 62.90625 \r\nQ 36.140625 65.921875 28.71875 65.921875 \r\nQ 24.65625 65.921875 20.015625 65.03125 \r\nQ 15.375 64.15625 9.8125 62.3125 \r\nL 9.8125 71.09375 \r\nQ 15.4375 72.65625 20.34375 73.4375 \r\nQ 25.25 74.21875 29.59375 74.21875 \r\nQ 40.828125 74.21875 47.359375 69.109375 \r\nQ 53.90625 64.015625 53.90625 55.328125 \r\nQ 53.90625 49.265625 50.4375 45.09375 \r\nQ 46.96875 40.921875 40.578125 39.3125 \r\nz\r\n\" id=\"DejaVuSans-51\"/>\r\n       </defs>\r\n       <use xlink:href=\"#DejaVuSans-51\"/>\r\n       <use x=\"63.623047\" xlink:href=\"#DejaVuSans-48\"/>\r\n      </g>\r\n     </g>\r\n    </g>\r\n    <g id=\"xtick_5\">\r\n     <g id=\"line2d_5\">\r\n      <g>\r\n       <use style=\"stroke:#000000;stroke-width:0.8;\" x=\"338.375812\" xlink:href=\"#m8075008760\" y=\"224.64\"/>\r\n      </g>\r\n     </g>\r\n     <g id=\"text_5\">\r\n      <!-- 40 -->\r\n      <g transform=\"translate(332.013312 239.238437)scale(0.1 -0.1)\">\r\n       <defs>\r\n        <path d=\"M 37.796875 64.3125 \r\nL 12.890625 25.390625 \r\nL 37.796875 25.390625 \r\nz\r\nM 35.203125 72.90625 \r\nL 47.609375 72.90625 \r\nL 47.609375 25.390625 \r\nL 58.015625 25.390625 \r\nL 58.015625 17.1875 \r\nL 47.609375 17.1875 \r\nL 47.609375 0 \r\nL 37.796875 0 \r\nL 37.796875 17.1875 \r\nL 4.890625 17.1875 \r\nL 4.890625 26.703125 \r\nz\r\n\" id=\"DejaVuSans-52\"/>\r\n       </defs>\r\n       <use xlink:href=\"#DejaVuSans-52\"/>\r\n       <use x=\"63.623047\" xlink:href=\"#DejaVuSans-48\"/>\r\n      </g>\r\n     </g>\r\n    </g>\r\n   </g>\r\n   <g id=\"matplotlib.axis_2\">\r\n    <g id=\"ytick_1\">\r\n     <g id=\"line2d_6\">\r\n      <defs>\r\n       <path d=\"M 0 0 \r\nL -3.5 0 \r\n\" id=\"mb1bec9ec8a\" style=\"stroke:#000000;stroke-width:0.8;\"/>\r\n      </defs>\r\n      <g>\r\n       <use style=\"stroke:#000000;stroke-width:0.8;\" x=\"33.2875\" xlink:href=\"#mb1bec9ec8a\" y=\"224.64\"/>\r\n      </g>\r\n     </g>\r\n     <g id=\"text_6\">\r\n      <!-- 0 -->\r\n      <g transform=\"translate(19.925 228.439219)scale(0.1 -0.1)\">\r\n       <use xlink:href=\"#DejaVuSans-48\"/>\r\n      </g>\r\n     </g>\r\n    </g>\r\n    <g id=\"ytick_2\">\r\n     <g id=\"line2d_7\">\r\n      <g>\r\n       <use style=\"stroke:#000000;stroke-width:0.8;\" x=\"33.2875\" xlink:href=\"#mb1bec9ec8a\" y=\"195.472998\"/>\r\n      </g>\r\n     </g>\r\n     <g id=\"text_7\">\r\n      <!-- 20 -->\r\n      <g transform=\"translate(13.5625 199.272217)scale(0.1 -0.1)\">\r\n       <use xlink:href=\"#DejaVuSans-50\"/>\r\n       <use x=\"63.623047\" xlink:href=\"#DejaVuSans-48\"/>\r\n      </g>\r\n     </g>\r\n    </g>\r\n    <g id=\"ytick_3\">\r\n     <g id=\"line2d_8\">\r\n      <g>\r\n       <use style=\"stroke:#000000;stroke-width:0.8;\" x=\"33.2875\" xlink:href=\"#mb1bec9ec8a\" y=\"166.305996\"/>\r\n      </g>\r\n     </g>\r\n     <g id=\"text_8\">\r\n      <!-- 40 -->\r\n      <g transform=\"translate(13.5625 170.105215)scale(0.1 -0.1)\">\r\n       <use xlink:href=\"#DejaVuSans-52\"/>\r\n       <use x=\"63.623047\" xlink:href=\"#DejaVuSans-48\"/>\r\n      </g>\r\n     </g>\r\n    </g>\r\n    <g id=\"ytick_4\">\r\n     <g id=\"line2d_9\">\r\n      <g>\r\n       <use style=\"stroke:#000000;stroke-width:0.8;\" x=\"33.2875\" xlink:href=\"#mb1bec9ec8a\" y=\"137.138994\"/>\r\n      </g>\r\n     </g>\r\n     <g id=\"text_9\">\r\n      <!-- 60 -->\r\n      <g transform=\"translate(13.5625 140.938213)scale(0.1 -0.1)\">\r\n       <defs>\r\n        <path d=\"M 33.015625 40.375 \r\nQ 26.375 40.375 22.484375 35.828125 \r\nQ 18.609375 31.296875 18.609375 23.390625 \r\nQ 18.609375 15.53125 22.484375 10.953125 \r\nQ 26.375 6.390625 33.015625 6.390625 \r\nQ 39.65625 6.390625 43.53125 10.953125 \r\nQ 47.40625 15.53125 47.40625 23.390625 \r\nQ 47.40625 31.296875 43.53125 35.828125 \r\nQ 39.65625 40.375 33.015625 40.375 \r\nz\r\nM 52.59375 71.296875 \r\nL 52.59375 62.3125 \r\nQ 48.875 64.0625 45.09375 64.984375 \r\nQ 41.3125 65.921875 37.59375 65.921875 \r\nQ 27.828125 65.921875 22.671875 59.328125 \r\nQ 17.53125 52.734375 16.796875 39.40625 \r\nQ 19.671875 43.65625 24.015625 45.921875 \r\nQ 28.375 48.1875 33.59375 48.1875 \r\nQ 44.578125 48.1875 50.953125 41.515625 \r\nQ 57.328125 34.859375 57.328125 23.390625 \r\nQ 57.328125 12.15625 50.6875 5.359375 \r\nQ 44.046875 -1.421875 33.015625 -1.421875 \r\nQ 20.359375 -1.421875 13.671875 8.265625 \r\nQ 6.984375 17.96875 6.984375 36.375 \r\nQ 6.984375 53.65625 15.1875 63.9375 \r\nQ 23.390625 74.21875 37.203125 74.21875 \r\nQ 40.921875 74.21875 44.703125 73.484375 \r\nQ 48.484375 72.75 52.59375 71.296875 \r\nz\r\n\" id=\"DejaVuSans-54\"/>\r\n       </defs>\r\n       <use xlink:href=\"#DejaVuSans-54\"/>\r\n       <use x=\"63.623047\" xlink:href=\"#DejaVuSans-48\"/>\r\n      </g>\r\n     </g>\r\n    </g>\r\n    <g id=\"ytick_5\">\r\n     <g id=\"line2d_10\">\r\n      <g>\r\n       <use style=\"stroke:#000000;stroke-width:0.8;\" x=\"33.2875\" xlink:href=\"#mb1bec9ec8a\" y=\"107.971992\"/>\r\n      </g>\r\n     </g>\r\n     <g id=\"text_10\">\r\n      <!-- 80 -->\r\n      <g transform=\"translate(13.5625 111.771211)scale(0.1 -0.1)\">\r\n       <defs>\r\n        <path d=\"M 31.78125 34.625 \r\nQ 24.75 34.625 20.71875 30.859375 \r\nQ 16.703125 27.09375 16.703125 20.515625 \r\nQ 16.703125 13.921875 20.71875 10.15625 \r\nQ 24.75 6.390625 31.78125 6.390625 \r\nQ 38.8125 6.390625 42.859375 10.171875 \r\nQ 46.921875 13.96875 46.921875 20.515625 \r\nQ 46.921875 27.09375 42.890625 30.859375 \r\nQ 38.875 34.625 31.78125 34.625 \r\nz\r\nM 21.921875 38.8125 \r\nQ 15.578125 40.375 12.03125 44.71875 \r\nQ 8.5 49.078125 8.5 55.328125 \r\nQ 8.5 64.0625 14.71875 69.140625 \r\nQ 20.953125 74.21875 31.78125 74.21875 \r\nQ 42.671875 74.21875 48.875 69.140625 \r\nQ 55.078125 64.0625 55.078125 55.328125 \r\nQ 55.078125 49.078125 51.53125 44.71875 \r\nQ 48 40.375 41.703125 38.8125 \r\nQ 48.828125 37.15625 52.796875 32.3125 \r\nQ 56.78125 27.484375 56.78125 20.515625 \r\nQ 56.78125 9.90625 50.3125 4.234375 \r\nQ 43.84375 -1.421875 31.78125 -1.421875 \r\nQ 19.734375 -1.421875 13.25 4.234375 \r\nQ 6.78125 9.90625 6.78125 20.515625 \r\nQ 6.78125 27.484375 10.78125 32.3125 \r\nQ 14.796875 37.15625 21.921875 38.8125 \r\nz\r\nM 18.3125 54.390625 \r\nQ 18.3125 48.734375 21.84375 45.5625 \r\nQ 25.390625 42.390625 31.78125 42.390625 \r\nQ 38.140625 42.390625 41.71875 45.5625 \r\nQ 45.3125 48.734375 45.3125 54.390625 \r\nQ 45.3125 60.0625 41.71875 63.234375 \r\nQ 38.140625 66.40625 31.78125 66.40625 \r\nQ 25.390625 66.40625 21.84375 63.234375 \r\nQ 18.3125 60.0625 18.3125 54.390625 \r\nz\r\n\" id=\"DejaVuSans-56\"/>\r\n       </defs>\r\n       <use xlink:href=\"#DejaVuSans-56\"/>\r\n       <use x=\"63.623047\" xlink:href=\"#DejaVuSans-48\"/>\r\n      </g>\r\n     </g>\r\n    </g>\r\n    <g id=\"ytick_6\">\r\n     <g id=\"line2d_11\">\r\n      <g>\r\n       <use style=\"stroke:#000000;stroke-width:0.8;\" x=\"33.2875\" xlink:href=\"#mb1bec9ec8a\" y=\"78.80499\"/>\r\n      </g>\r\n     </g>\r\n     <g id=\"text_11\">\r\n      <!-- 100 -->\r\n      <g transform=\"translate(7.2 82.604209)scale(0.1 -0.1)\">\r\n       <use xlink:href=\"#DejaVuSans-49\"/>\r\n       <use x=\"63.623047\" xlink:href=\"#DejaVuSans-48\"/>\r\n       <use x=\"127.246094\" xlink:href=\"#DejaVuSans-48\"/>\r\n      </g>\r\n     </g>\r\n    </g>\r\n    <g id=\"ytick_7\">\r\n     <g id=\"line2d_12\">\r\n      <g>\r\n       <use style=\"stroke:#000000;stroke-width:0.8;\" x=\"33.2875\" xlink:href=\"#mb1bec9ec8a\" y=\"49.637988\"/>\r\n      </g>\r\n     </g>\r\n     <g id=\"text_12\">\r\n      <!-- 120 -->\r\n      <g transform=\"translate(7.2 53.437207)scale(0.1 -0.1)\">\r\n       <use xlink:href=\"#DejaVuSans-49\"/>\r\n       <use x=\"63.623047\" xlink:href=\"#DejaVuSans-50\"/>\r\n       <use x=\"127.246094\" xlink:href=\"#DejaVuSans-48\"/>\r\n      </g>\r\n     </g>\r\n    </g>\r\n    <g id=\"ytick_8\">\r\n     <g id=\"line2d_13\">\r\n      <g>\r\n       <use style=\"stroke:#000000;stroke-width:0.8;\" x=\"33.2875\" xlink:href=\"#mb1bec9ec8a\" y=\"20.470986\"/>\r\n      </g>\r\n     </g>\r\n     <g id=\"text_13\">\r\n      <!-- 140 -->\r\n      <g transform=\"translate(7.2 24.270205)scale(0.1 -0.1)\">\r\n       <use xlink:href=\"#DejaVuSans-49\"/>\r\n       <use x=\"63.623047\" xlink:href=\"#DejaVuSans-52\"/>\r\n       <use x=\"127.246094\" xlink:href=\"#DejaVuSans-48\"/>\r\n      </g>\r\n     </g>\r\n    </g>\r\n   </g>\r\n   <g id=\"patch_203\">\r\n    <path d=\"M 33.2875 224.64 \r\nL 33.2875 7.2 \r\n\" style=\"fill:none;stroke:#000000;stroke-linecap:square;stroke-linejoin:miter;stroke-width:0.8;\"/>\r\n   </g>\r\n   <g id=\"patch_204\">\r\n    <path d=\"M 368.0875 224.64 \r\nL 368.0875 7.2 \r\n\" style=\"fill:none;stroke:#000000;stroke-linecap:square;stroke-linejoin:miter;stroke-width:0.8;\"/>\r\n   </g>\r\n   <g id=\"patch_205\">\r\n    <path d=\"M 33.2875 224.64 \r\nL 368.0875 224.64 \r\n\" style=\"fill:none;stroke:#000000;stroke-linecap:square;stroke-linejoin:miter;stroke-width:0.8;\"/>\r\n   </g>\r\n   <g id=\"patch_206\">\r\n    <path d=\"M 33.2875 7.2 \r\nL 368.0875 7.2 \r\n\" style=\"fill:none;stroke:#000000;stroke-linecap:square;stroke-linejoin:miter;stroke-width:0.8;\"/>\r\n   </g>\r\n  </g>\r\n </g>\r\n <defs>\r\n  <clipPath id=\"p6770e5bec7\">\r\n   <rect height=\"217.44\" width=\"334.8\" x=\"33.2875\" y=\"7.2\"/>\r\n  </clipPath>\r\n </defs>\r\n</svg>\r\n",
      "image/png": "[encoded data removed]"
     },
     "metadata": {
      "needs_background": "light"
     }
    }
   ],
   "source": [
    "plt.hist(data[data['label'] == 'ham']['punct'], bins = 100, alpha = 0.7)\n",
    "plt.hist(data[data['label'] == 'spam']['punct'], bins = 100, alpha = 0.7)\n",
    "\n",
    "plt.show()"
   ]
  },
  {
   "cell_type": "markdown",
   "metadata": {},
   "source": [
    "### Data Preparation"
   ]
  },
  {
   "cell_type": "code",
   "execution_count": 15,
   "metadata": {},
   "outputs": [],
   "source": [
    "from sklearn.model_selection import train_test_split\n",
    "from sklearn.ensemble import RandomForestClassifier\n",
    "from sklearn.svm import SVC\n",
    "from sklearn.metrics import accuracy_score, classification_report, confusion_matrix\n",
    "from sklearn.pipeline import Pipeline"
   ]
  },
  {
   "cell_type": "code",
   "execution_count": 16,
   "metadata": {},
   "outputs": [],
   "source": [
    "from sklearn.feature_extraction.text import TfidfVectorizer"
   ]
  },
  {
   "cell_type": "code",
   "execution_count": 17,
   "metadata": {},
   "outputs": [
    {
     "output_type": "execute_result",
     "data": {
      "text/plain": [
       "  label                                            message  length  punct\n",
       "0   ham  No, but you told me you were going, before you...      57      3\n",
       "1   ham  Oh right, ok. I'll make sure that i do loads o...     149      5\n",
       "2   ham                   Pls pls find out from aunt nike.      32      1\n",
       "3   ham  Im in inperialmusic listening2the weirdest tra...     154      4\n",
       "4   ham  Yo do you know anyone  &lt;#&gt;  or otherwise...     156      7"
      ],
      "text/html": "<div>\n<style scoped>\n    .dataframe tbody tr th:only-of-type {\n        vertical-align: middle;\n    }\n\n    .dataframe tbody tr th {\n        vertical-align: top;\n    }\n\n    .dataframe thead th {\n        text-align: right;\n    }\n</style>\n<table border=\"1\" class=\"dataframe\">\n  <thead>\n    <tr style=\"text-align: right;\">\n      <th></th>\n      <th>label</th>\n      <th>message</th>\n      <th>length</th>\n      <th>punct</th>\n    </tr>\n  </thead>\n  <tbody>\n    <tr>\n      <th>0</th>\n      <td>ham</td>\n      <td>No, but you told me you were going, before you...</td>\n      <td>57</td>\n      <td>3</td>\n    </tr>\n    <tr>\n      <th>1</th>\n      <td>ham</td>\n      <td>Oh right, ok. I'll make sure that i do loads o...</td>\n      <td>149</td>\n      <td>5</td>\n    </tr>\n    <tr>\n      <th>2</th>\n      <td>ham</td>\n      <td>Pls pls find out from aunt nike.</td>\n      <td>32</td>\n      <td>1</td>\n    </tr>\n    <tr>\n      <th>3</th>\n      <td>ham</td>\n      <td>Im in inperialmusic listening2the weirdest tra...</td>\n      <td>154</td>\n      <td>4</td>\n    </tr>\n    <tr>\n      <th>4</th>\n      <td>ham</td>\n      <td>Yo do you know anyone  &amp;lt;#&amp;gt;  or otherwise...</td>\n      <td>156</td>\n      <td>7</td>\n    </tr>\n  </tbody>\n</table>\n</div>"
     },
     "metadata": {},
     "execution_count": 17
    }
   ],
   "source": [
    "data.head()"
   ]
  },
  {
   "cell_type": "code",
   "execution_count": 28,
   "metadata": {},
   "outputs": [],
   "source": [
    "X_train, X_test, y_train, y_test = train_test_split(data['message'], data['label'], test_size = 0.3, random_state=0, shuffle=True, stratify=data['label'])"
   ]
  },
  {
   "cell_type": "code",
   "execution_count": 19,
   "metadata": {},
   "outputs": [
    {
     "output_type": "execute_result",
     "data": {
      "text/plain": [
       "1128    U’ve Bin Awarded £50 to Play 4 Instant Cash. C...\n",
       "742                        Have you finished work yet? :)\n",
       "477                     I have lost 10 kilos as of today!\n",
       "542     Not planned yet :)going to join company on jan...\n",
       "1277    Ringtone Club: Gr8 new polys direct to your mo...\n",
       "                              ...                        \n",
       "1211    Bloomberg -Message center +447797706009 Why wa...\n",
       "312     I call you later, don't have network. If urgnt...\n",
       "268             see you then, we're all christmassy here!\n",
       "272     Hi dis is yijue i would be happy to work wif ü...\n",
       "1222    Text BANNEDUK to 89555 to see! cost 150p texto...\n",
       "Name: message, Length: 1045, dtype: object"
      ]
     },
     "metadata": {},
     "execution_count": 19
    }
   ],
   "source": [
    "X_train"
   ]
  },
  {
   "cell_type": "code",
   "execution_count": 20,
   "metadata": {},
   "outputs": [
    {
     "output_type": "execute_result",
     "data": {
      "text/plain": [
       "1128    spam\n",
       "742      ham\n",
       "477      ham\n",
       "542      ham\n",
       "1277    spam\n",
       "        ... \n",
       "1211    spam\n",
       "312      ham\n",
       "268      ham\n",
       "272      ham\n",
       "1222    spam\n",
       "Name: label, Length: 1045, dtype: object"
      ]
     },
     "metadata": {},
     "execution_count": 20
    }
   ],
   "source": [
    "y_train"
   ]
  },
  {
   "cell_type": "markdown",
   "metadata": {},
   "source": [
    "### Bag of Words Creation"
   ]
  },
  {
   "cell_type": "code",
   "execution_count": 21,
   "metadata": {},
   "outputs": [],
   "source": [
    "vectorizer = TfidfVectorizer()"
   ]
  },
  {
   "cell_type": "code",
   "execution_count": 22,
   "metadata": {},
   "outputs": [],
   "source": [
    "X_train = vectorizer.fit_transform(X_train)"
   ]
  },
  {
   "cell_type": "code",
   "execution_count": 23,
   "metadata": {},
   "outputs": [
    {
     "output_type": "execute_result",
     "data": {
      "text/plain": [
       "(1045, 3642)"
      ]
     },
     "metadata": {},
     "execution_count": 23
    }
   ],
   "source": [
    "X_train.shape"
   ]
  },
  {
   "cell_type": "code",
   "execution_count": 24,
   "metadata": {},
   "outputs": [
    {
     "output_type": "execute_result",
     "data": {
      "text/plain": [
       "<1045x3642 sparse matrix of type '<class 'numpy.float64'>'\n",
       "\twith 17724 stored elements in Compressed Sparse Row format>"
      ]
     },
     "metadata": {},
     "execution_count": 24
    }
   ],
   "source": [
    "X_train"
   ]
  },
  {
   "cell_type": "code",
   "execution_count": 25,
   "metadata": {},
   "outputs": [
    {
     "output_type": "execute_result",
     "data": {
      "text/plain": [
       "3874860"
      ]
     },
     "metadata": {},
     "execution_count": 25
    }
   ],
   "source": [
    "1045*3708"
   ]
  },
  {
   "cell_type": "markdown",
   "metadata": {},
   "source": [
    "### Pipeline and RF"
   ]
  },
  {
   "cell_type": "code",
   "execution_count": 29,
   "metadata": {},
   "outputs": [],
   "source": [
    "clf = Pipeline([('tfidf', TfidfVectorizer()), ('clf', RandomForestClassifier(n_estimators=100, n_jobs=-1))])"
   ]
  },
  {
   "cell_type": "code",
   "execution_count": 30,
   "metadata": {},
   "outputs": [
    {
     "output_type": "execute_result",
     "data": {
      "text/plain": [
       "Pipeline(steps=[('tfidf', TfidfVectorizer()),\n",
       "                ('clf', RandomForestClassifier(n_jobs=-1))])"
      ]
     },
     "metadata": {},
     "execution_count": 30
    }
   ],
   "source": [
    "clf.fit(X_train, y_train)"
   ]
  },
  {
   "cell_type": "code",
   "execution_count": 31,
   "metadata": {},
   "outputs": [],
   "source": [
    "y_pred = clf.predict(X_test)"
   ]
  },
  {
   "cell_type": "code",
   "execution_count": 32,
   "metadata": {},
   "outputs": [
    {
     "output_type": "execute_result",
     "data": {
      "text/plain": [
       "array([[223,   2],\n",
       "       [ 26, 198]], dtype=int64)"
      ]
     },
     "metadata": {},
     "execution_count": 32
    }
   ],
   "source": [
    "confusion_matrix(y_test, y_pred)"
   ]
  },
  {
   "cell_type": "code",
   "execution_count": 33,
   "metadata": {},
   "outputs": [
    {
     "output_type": "stream",
     "name": "stdout",
     "text": [
      "              precision    recall  f1-score   support\n\n         ham       0.90      0.99      0.94       225\n        spam       0.99      0.88      0.93       224\n\n    accuracy                           0.94       449\n   macro avg       0.94      0.94      0.94       449\nweighted avg       0.94      0.94      0.94       449\n\n"
     ]
    }
   ],
   "source": [
    "print(classification_report(y_test, y_pred))"
   ]
  },
  {
   "cell_type": "code",
   "execution_count": 34,
   "metadata": {},
   "outputs": [
    {
     "output_type": "execute_result",
     "data": {
      "text/plain": [
       "0.9376391982182628"
      ]
     },
     "metadata": {},
     "execution_count": 34
    }
   ],
   "source": [
    " accuracy_score(y_test, y_pred)"
   ]
  },
  {
   "cell_type": "code",
   "execution_count": 35,
   "metadata": {},
   "outputs": [
    {
     "output_type": "execute_result",
     "data": {
      "text/plain": [
       "array(['ham'], dtype=object)"
      ]
     },
     "metadata": {},
     "execution_count": 35
    }
   ],
   "source": [
    "clf.predict([\"Text me on 8877887767\"])"
   ]
  },
  {
   "cell_type": "markdown",
   "metadata": {},
   "source": [
    "### SVM"
   ]
  },
  {
   "cell_type": "code",
   "execution_count": 36,
   "metadata": {},
   "outputs": [],
   "source": [
    "clf = Pipeline([('tfidf', TfidfVectorizer()), ('clf', SVC(C = 1000, gamma = 'auto'))])"
   ]
  },
  {
   "cell_type": "code",
   "execution_count": 37,
   "metadata": {},
   "outputs": [
    {
     "output_type": "execute_result",
     "data": {
      "text/plain": [
       "Pipeline(steps=[('tfidf', TfidfVectorizer()),\n",
       "                ('clf', SVC(C=1000, gamma='auto'))])"
      ]
     },
     "metadata": {},
     "execution_count": 37
    }
   ],
   "source": [
    "clf.fit(X_train, y_train)"
   ]
  },
  {
   "cell_type": "code",
   "execution_count": 38,
   "metadata": {},
   "outputs": [],
   "source": [
    "y_pred = clf.predict(X_test)"
   ]
  },
  {
   "cell_type": "code",
   "execution_count": 39,
   "metadata": {},
   "outputs": [
    {
     "output_type": "execute_result",
     "data": {
      "text/plain": [
       "array([[219,   6],\n",
       "       [ 19, 205]], dtype=int64)"
      ]
     },
     "metadata": {},
     "execution_count": 39
    }
   ],
   "source": [
    "confusion_matrix(y_test, y_pred)"
   ]
  },
  {
   "cell_type": "code",
   "execution_count": 40,
   "metadata": {},
   "outputs": [
    {
     "output_type": "stream",
     "name": "stdout",
     "text": [
      "              precision    recall  f1-score   support\n\n         ham       0.92      0.97      0.95       225\n        spam       0.97      0.92      0.94       224\n\n    accuracy                           0.94       449\n   macro avg       0.95      0.94      0.94       449\nweighted avg       0.95      0.94      0.94       449\n\n"
     ]
    }
   ],
   "source": [
    "print(classification_report(y_test, y_pred))"
   ]
  },
  {
   "cell_type": "code",
   "execution_count": 41,
   "metadata": {},
   "outputs": [
    {
     "output_type": "execute_result",
     "data": {
      "text/plain": [
       "0.9443207126948775"
      ]
     },
     "metadata": {},
     "execution_count": 41
    }
   ],
   "source": [
    " accuracy_score(y_test, y_pred)"
   ]
  },
  {
   "cell_type": "code",
   "execution_count": 42,
   "metadata": {},
   "outputs": [
    {
     "output_type": "execute_result",
     "data": {
      "text/plain": [
       "array(['spam'], dtype=object)"
      ]
     },
     "metadata": {},
     "execution_count": 42
    }
   ],
   "source": [
    "clf.predict([\"you have won tickets\"])"
   ]
  }
 ],
 "metadata": {
  "kernelspec": {
   "display_name": "Python 3",
   "language": "python",
   "name": "python3"
  },
  "language_info": {
   "codemirror_mode": {
    "name": "ipython",
    "version": 3
   },
   "file_extension": ".py",
   "mimetype": "text/x-python",
   "name": "python",
   "nbconvert_exporter": "python",
   "pygments_lexer": "ipython3",
   "version": "3.8.5-final"
  }
 },
 "nbformat": 4,
 "nbformat_minor": 4
}